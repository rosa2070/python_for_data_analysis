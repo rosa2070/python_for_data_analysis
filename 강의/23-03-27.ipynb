{
 "cells": [
  {
   "cell_type": "markdown",
   "id": "c1869ddb-b037-4977-ae59-2288be5412f0",
   "metadata": {},
   "source": [
    "- 복습"
   ]
  },
  {
   "cell_type": "code",
   "execution_count": 6,
   "id": "26157153-46e0-456f-9322-f32a1992b36c",
   "metadata": {},
   "outputs": [
    {
     "name": "stdout",
     "output_type": "stream",
     "text": [
      "2023/03/27 09/15/53 13주차\n"
     ]
    }
   ],
   "source": [
    "import datetime\n",
    "now = datetime.datetime.now()\n",
    "now_str = now.strftime(\"%Y/%m/%d %H/%M/%S %U주차\")\n",
    "print(now_str)"
   ]
  },
  {
   "cell_type": "code",
   "execution_count": 12,
   "id": "fb1d0054-36bb-4496-8ebb-b5555b1eb15a",
   "metadata": {},
   "outputs": [],
   "source": [
    "data='''\n",
    "ice americano\n",
    "hot americano\n",
    "ice tea\n",
    "hot tea\n",
    "tea hot\n",
    "ice milk\n",
    "hot milk\n",
    "milk hot\n",
    "''' \n"
   ]
  },
  {
   "cell_type": "code",
   "execution_count": 14,
   "id": "1147cddb-5b94-4d66-b24a-d247493b6a68",
   "metadata": {},
   "outputs": [
    {
     "name": "stdout",
     "output_type": "stream",
     "text": [
      "['hot americano', 'hot tea', 'hot milk']\n"
     ]
    }
   ],
   "source": [
    "import re\n",
    "p = re.compile('^hot\\s\\w+', re.MULTILINE)\n",
    "m = p.findall(data)\n",
    "print(m)\n"
   ]
  },
  {
   "cell_type": "code",
   "execution_count": 22,
   "id": "fe4f08a3-444c-4a93-a0f4-c697d522dbbb",
   "metadata": {},
   "outputs": [],
   "source": [
    "data = [[\"영자\", \"옥순\", \"광수\", \"순자\"],\n",
    "            [80, 87, 85, 90],\n",
    "            [\"여자\",\"여자\",\"남자\",\"여자\"]] "
   ]
  },
  {
   "cell_type": "code",
   "execution_count": 17,
   "id": "fcd23e96-7e14-4e6d-8bf8-aaead9002e05",
   "metadata": {},
   "outputs": [
    {
     "ename": "ValueError",
     "evalue": "not enough values to unpack (expected 3, got 1)",
     "output_type": "error",
     "traceback": [
      "\u001b[1;31m---------------------------------------------------------------------------\u001b[0m",
      "\u001b[1;31mValueError\u001b[0m                                Traceback (most recent call last)",
      "Cell \u001b[1;32mIn[17], line 1\u001b[0m\n\u001b[1;32m----> 1\u001b[0m \u001b[38;5;28;01mfor\u001b[39;00m a,b,c \u001b[38;5;129;01min\u001b[39;00m \u001b[38;5;28mlist\u001b[39m(\u001b[38;5;28mzip\u001b[39m(data)):\n\u001b[0;32m      2\u001b[0m     \u001b[38;5;28mprint\u001b[39m(a)\n\u001b[0;32m      3\u001b[0m     \u001b[38;5;28mprint\u001b[39m(b)\n",
      "\u001b[1;31mValueError\u001b[0m: not enough values to unpack (expected 3, got 1)"
     ]
    }
   ],
   "source": [
    "for a,b,c in list(zip(data)):\n",
    "    print(a)\n",
    "    print(b)\n",
    "    print(c)"
   ]
  },
  {
   "cell_type": "code",
   "execution_count": 23,
   "id": "53eaae32-6965-4cbb-b993-445a0a447457",
   "metadata": {},
   "outputs": [
    {
     "data": {
      "text/plain": [
       "[(['영자', '옥순', '광수', '순자'],), ([80, 87, 85, 90],), (['여자', '여자', '남자', '여자'],)]"
      ]
     },
     "execution_count": 23,
     "metadata": {},
     "output_type": "execute_result"
    }
   ],
   "source": [
    "list(zip(data))"
   ]
  },
  {
   "cell_type": "code",
   "execution_count": 24,
   "id": "b084ae96-558b-4374-8d40-6c251768a890",
   "metadata": {},
   "outputs": [
    {
     "data": {
      "text/plain": [
       "[('영자', 80, '여자'), ('옥순', 87, '여자'), ('광수', 85, '남자'), ('순자', 90, '여자')]"
      ]
     },
     "execution_count": 24,
     "metadata": {},
     "output_type": "execute_result"
    }
   ],
   "source": [
    "list(zip(data[0], data[1], data[2]))"
   ]
  },
  {
   "cell_type": "code",
   "execution_count": 26,
   "id": "1712c1c8-d780-4f23-820f-9300455377db",
   "metadata": {},
   "outputs": [
    {
     "name": "stdout",
     "output_type": "stream",
     "text": [
      "영자 80\n",
      "옥순 87\n",
      "순자 90\n"
     ]
    }
   ],
   "source": [
    "for i,j,z in list(zip(data[0],data[1],data[2])):\n",
    "    if z == \"여자\":\n",
    "        print(i,j)"
   ]
  },
  {
   "cell_type": "code",
   "execution_count": 28,
   "id": "12aaee5b-307f-4f36-a74b-57cb0be3dfe0",
   "metadata": {},
   "outputs": [
    {
     "name": "stdout",
     "output_type": "stream",
     "text": [
      "철수 98\n",
      "영희 80\n",
      "순이 100\n",
      "돌이 70\n"
     ]
    }
   ],
   "source": [
    "data = {\"철수\": 98,\"영희\": 80,\"순이\": 100,\"돌이\": 70,} \n",
    "for i,j in data.items():\n",
    "    print(i,j)"
   ]
  },
  {
   "cell_type": "code",
   "execution_count": 30,
   "id": "5791c23b-0d93-41ea-865b-52aaa4369c45",
   "metadata": {},
   "outputs": [
    {
     "data": {
      "text/plain": [
       "87.0"
      ]
     },
     "execution_count": 30,
     "metadata": {},
     "output_type": "execute_result"
    }
   ],
   "source": [
    "total = 0\n",
    "for i,j in data.items():\n",
    "    total += j\n",
    "total/len(data)"
   ]
  },
  {
   "cell_type": "code",
   "execution_count": 31,
   "id": "a64395a7-232f-45da-a2e4-5fb207a6e8a6",
   "metadata": {},
   "outputs": [],
   "source": [
    "def func(num):\n",
    "    return num**2+2 "
   ]
  },
  {
   "cell_type": "code",
   "execution_count": 36,
   "id": "1698409b-b833-487a-b0ec-6353505298f7",
   "metadata": {},
   "outputs": [
    {
     "data": {
      "text/plain": [
       "\u001b[1;31mSignature:\u001b[0m \u001b[0mfunc\u001b[0m\u001b[1;33m(\u001b[0m\u001b[0mnum\u001b[0m\u001b[1;33m)\u001b[0m\u001b[1;33m\u001b[0m\u001b[1;33m\u001b[0m\u001b[0m\n",
       "\u001b[1;31mDocstring:\u001b[0m <no docstring>\n",
       "\u001b[1;31mSource:\u001b[0m   \n",
       "\u001b[1;32mdef\u001b[0m \u001b[0mfunc\u001b[0m\u001b[1;33m(\u001b[0m\u001b[0mnum\u001b[0m\u001b[1;33m)\u001b[0m\u001b[1;33m:\u001b[0m\u001b[1;33m\n",
       "\u001b[0m    \u001b[1;32mreturn\u001b[0m \u001b[0mnum\u001b[0m\u001b[1;33m**\u001b[0m\u001b[1;36m2\u001b[0m\u001b[1;33m+\u001b[0m\u001b[1;36m2\u001b[0m\u001b[1;33m\u001b[0m\u001b[1;33m\u001b[0m\u001b[0m\n",
       "\u001b[1;31mFile:\u001b[0m      c:\\users\\user\\appdata\\local\\temp\\ipykernel_12720\\2341054417.py\n",
       "\u001b[1;31mType:\u001b[0m      function"
      ]
     },
     "metadata": {},
     "output_type": "display_data"
    }
   ],
   "source": [
    "func??"
   ]
  },
  {
   "cell_type": "code",
   "execution_count": 39,
   "id": "1db79e68-6027-458e-b325-8859c0352ca2",
   "metadata": {},
   "outputs": [
    {
     "name": "stdout",
     "output_type": "stream",
     "text": [
      "홀수\n"
     ]
    }
   ],
   "source": [
    "import random\n",
    "x = random.randint(1,10)\n",
    "if x % 2 == 0:\n",
    "    print(\"짝수\")\n",
    "else:\n",
    "    print(\"홀수\")"
   ]
  },
  {
   "cell_type": "code",
   "execution_count": 44,
   "id": "eeb5e6e2-f1d4-4d91-8e97-fb4bbda20195",
   "metadata": {},
   "outputs": [
    {
     "name": "stdout",
     "output_type": "stream",
     "text": [
      "홀수\n"
     ]
    }
   ],
   "source": [
    "print(\"짝수\") if x%2 == 0 else print(\"홀수\")"
   ]
  },
  {
   "cell_type": "code",
   "execution_count": 56,
   "id": "03cbc83d-f13c-4289-89a6-544914f2fd90",
   "metadata": {},
   "outputs": [
    {
     "data": {
      "text/plain": [
       "'Python'"
      ]
     },
     "execution_count": 56,
     "metadata": {},
     "output_type": "execute_result"
    }
   ],
   "source": [
    "a = 'n$o$h$t_y*P'\n",
    "a[::-2] "
   ]
  },
  {
   "cell_type": "code",
   "execution_count": 57,
   "id": "7b6d1ccc-d801-4a32-8c5e-7ceeb041c308",
   "metadata": {},
   "outputs": [
    {
     "ename": "SyntaxError",
     "evalue": "invalid syntax (3429525777.py, line 1)",
     "output_type": "error",
     "traceback": [
      "\u001b[1;36m  Cell \u001b[1;32mIn[57], line 1\u001b[1;36m\u001b[0m\n\u001b[1;33m    https://blockdmask.tistory.com/581\u001b[0m\n\u001b[1;37m          ^\u001b[0m\n\u001b[1;31mSyntaxError\u001b[0m\u001b[1;31m:\u001b[0m invalid syntax\n"
     ]
    }
   ],
   "source": [
    "https://blockdmask.tistory.com/581 //파이썬 문자열 뒤집기"
   ]
  },
  {
   "cell_type": "code",
   "execution_count": 59,
   "id": "88a3ca71-5208-4272-af79-e42da08a8207",
   "metadata": {},
   "outputs": [],
   "source": [
    "num = format(11, '2')"
   ]
  },
  {
   "cell_type": "code",
   "execution_count": 61,
   "id": "05afec26-8338-49c1-ba45-fcb2cbb08d77",
   "metadata": {},
   "outputs": [
    {
     "name": "stdout",
     "output_type": "stream",
     "text": [
      "11\n"
     ]
    }
   ],
   "source": [
    "print(num)"
   ]
  },
  {
   "cell_type": "markdown",
   "id": "f6a3aa01-b806-429c-af8b-05cc57314a42",
   "metadata": {},
   "source": [
    "# 수업"
   ]
  },
  {
   "cell_type": "code",
   "execution_count": null,
   "id": "f44e84fc-1e40-4573-875b-b3921fa437b9",
   "metadata": {},
   "outputs": [],
   "source": [
    "p.100~"
   ]
  },
  {
   "cell_type": "code",
   "execution_count": 63,
   "id": "67f4c5b0-4de0-49e5-ad64-50f6bfaac947",
   "metadata": {},
   "outputs": [
    {
     "ename": "NameError",
     "evalue": "name 'pitchers' is not defined",
     "output_type": "error",
     "traceback": [
      "\u001b[1;31m---------------------------------------------------------------------------\u001b[0m",
      "\u001b[1;31mNameError\u001b[0m                                 Traceback (most recent call last)",
      "Cell \u001b[1;32mIn[63], line 1\u001b[0m\n\u001b[1;32m----> 1\u001b[0m \u001b[38;5;28mzip\u001b[39m(\u001b[38;5;241m*\u001b[39m\u001b[43mpitchers\u001b[49m)\n",
      "\u001b[1;31mNameError\u001b[0m: name 'pitchers' is not defined"
     ]
    }
   ],
   "source": [
    "zip(*pitchers)"
   ]
  },
  {
   "cell_type": "code",
   "execution_count": 74,
   "id": "1d25c4f3-f12c-4b58-b9b6-9407463ff1e1",
   "metadata": {},
   "outputs": [],
   "source": [
    "di = {\"apple\": \"사과\"}"
   ]
  },
  {
   "cell_type": "code",
   "execution_count": 70,
   "id": "4dc07ece-64be-43f8-a84e-63cbaeb1492d",
   "metadata": {},
   "outputs": [],
   "source": [
    "di[\"banana\"]='바나나'\n"
   ]
  },
  {
   "cell_type": "code",
   "execution_count": 90,
   "id": "ee3e65a8-0921-4da6-b1e6-c4c432b2b2b0",
   "metadata": {},
   "outputs": [
    {
     "data": {
      "text/plain": [
       "{'apple': '사과', 'banana': '바나나', 'cherry': '체리'}"
      ]
     },
     "execution_count": 90,
     "metadata": {},
     "output_type": "execute_result"
    }
   ],
   "source": [
    "di"
   ]
  },
  {
   "cell_type": "code",
   "execution_count": 78,
   "id": "ddf3e580-77f3-42d8-9164-ee20cc1f6d0f",
   "metadata": {},
   "outputs": [],
   "source": [
    "di.update({'banana':'바나나'})\n",
    "di.update(cherry = \"체리\")"
   ]
  },
  {
   "cell_type": "code",
   "execution_count": 92,
   "id": "3d3a8d92-90c9-4e16-996e-2cbf317fa289",
   "metadata": {},
   "outputs": [],
   "source": []
  },
  {
   "cell_type": "code",
   "execution_count": 97,
   "id": "3fbfc32a-d55c-4d58-9a04-0fd2bcf33ab5",
   "metadata": {},
   "outputs": [],
   "source": [
    "\n",
    "di1 = dict()\n",
    "di = {'apple':'사과', 'banana':'바나나', 'cherry':'체리'}\n",
    "for i,j in di.items():\n",
    "    di1[j] = i"
   ]
  },
  {
   "cell_type": "code",
   "execution_count": 86,
   "id": "f61b759f-62d4-4e4a-b2d0-d40db5930e83",
   "metadata": {},
   "outputs": [
    {
     "data": {
      "text/plain": [
       "{'apple': '사과', 'banana': '바나나', 'cherry': '체리', 'j': 'j'}"
      ]
     },
     "execution_count": 86,
     "metadata": {},
     "output_type": "execute_result"
    }
   ],
   "source": [
    "di"
   ]
  },
  {
   "cell_type": "code",
   "execution_count": 98,
   "id": "10a15a4f-adbd-45fe-989b-4906ef48024b",
   "metadata": {},
   "outputs": [
    {
     "ename": "RuntimeError",
     "evalue": "dictionary changed size during iteration",
     "output_type": "error",
     "traceback": [
      "\u001b[1;31m---------------------------------------------------------------------------\u001b[0m",
      "\u001b[1;31mRuntimeError\u001b[0m                              Traceback (most recent call last)",
      "Cell \u001b[1;32mIn[98], line 1\u001b[0m\n\u001b[1;32m----> 1\u001b[0m \u001b[38;5;28;01mfor\u001b[39;00m i,j \u001b[38;5;129;01min\u001b[39;00m di\u001b[38;5;241m.\u001b[39mitems():\n\u001b[0;32m      2\u001b[0m     di[j] \u001b[38;5;241m=\u001b[39m i\n",
      "\u001b[1;31mRuntimeError\u001b[0m: dictionary changed size during iteration"
     ]
    }
   ],
   "source": [
    "for i,j in di.items():\n",
    "    di[j] = i"
   ]
  },
  {
   "cell_type": "code",
   "execution_count": null,
   "id": "102a12bf-ad36-4c73-9e8a-80a7ea2b0b04",
   "metadata": {},
   "outputs": [],
   "source": [
    "for i,j in zip(key_list, value_list)"
   ]
  },
  {
   "cell_type": "code",
   "execution_count": 100,
   "id": "e9c93de1-c6eb-42cb-9936-3909d6586e18",
   "metadata": {},
   "outputs": [],
   "source": [
    "words = ['apple', 'bat', 'bar', 'atom', 'book']"
   ]
  },
  {
   "cell_type": "code",
   "execution_count": 104,
   "id": "efe32e4e-ae19-46b1-a8fe-4ab4cddf69b9",
   "metadata": {},
   "outputs": [],
   "source": [
    "by_letter = dict()\n",
    "for word in words:\n",
    "    letter = word[0]\n",
    "    if letter not in by_letter:\n",
    "        by_letter[letter] = [word]\n",
    "    else:\n",
    "        by_letter[letter].append(word)"
   ]
  },
  {
   "cell_type": "code",
   "execution_count": 105,
   "id": "6dcfbae2-98fc-4bb4-80a8-2b5d4e0a2e66",
   "metadata": {},
   "outputs": [
    {
     "data": {
      "text/plain": [
       "{'a': ['apple', 'atom'], 'b': ['bat', 'bar', 'book']}"
      ]
     },
     "execution_count": 105,
     "metadata": {},
     "output_type": "execute_result"
    }
   ],
   "source": [
    "by_letter"
   ]
  },
  {
   "cell_type": "code",
   "execution_count": 106,
   "id": "52f21db0-4f06-4283-b630-5b0c96f714a4",
   "metadata": {},
   "outputs": [
    {
     "data": {
      "text/plain": [
       "8133978156826811968"
      ]
     },
     "execution_count": 106,
     "metadata": {},
     "output_type": "execute_result"
    }
   ],
   "source": [
    "hash('spring')"
   ]
  },
  {
   "cell_type": "code",
   "execution_count": 107,
   "id": "f096734d-d61f-4212-a09d-c61dc803ab49",
   "metadata": {},
   "outputs": [
    {
     "data": {
      "text/plain": [
       "8133978156826811968"
      ]
     },
     "execution_count": 107,
     "metadata": {},
     "output_type": "execute_result"
    }
   ],
   "source": [
    "hash('spring')"
   ]
  },
  {
   "cell_type": "code",
   "execution_count": 108,
   "id": "fca38451-2310-4c52-be2b-02e242832556",
   "metadata": {},
   "outputs": [
    {
     "data": {
      "text/plain": [
       "-3550055125485641917"
      ]
     },
     "execution_count": 108,
     "metadata": {},
     "output_type": "execute_result"
    }
   ],
   "source": [
    "hash((1,2))"
   ]
  },
  {
   "cell_type": "code",
   "execution_count": 109,
   "id": "ae494b2f-e2fa-4def-9ee0-062d90a42b15",
   "metadata": {},
   "outputs": [
    {
     "data": {
      "text/plain": [
       "-3550055125485641917"
      ]
     },
     "execution_count": 109,
     "metadata": {},
     "output_type": "execute_result"
    }
   ],
   "source": [
    "hash((1,2))"
   ]
  },
  {
   "cell_type": "code",
   "execution_count": 110,
   "id": "71fdfec2-fb8a-4348-83aa-187b7af169ee",
   "metadata": {},
   "outputs": [
    {
     "data": {
      "text/plain": [
       "19"
      ]
     },
     "execution_count": 110,
     "metadata": {},
     "output_type": "execute_result"
    }
   ],
   "source": [
    "len(str(hash('spring')))"
   ]
  },
  {
   "cell_type": "code",
   "execution_count": null,
   "id": "0ed869bb-c663-4dac-8194-db8a6f9a71f4",
   "metadata": {},
   "outputs": [],
   "source": [
    "해시알고리즘:\n",
    "    단방향\n",
    "    길이가 정해져있담 "
   ]
  },
  {
   "cell_type": "code",
   "execution_count": 114,
   "id": "49876abd-0832-4d76-911b-db70a702cd5c",
   "metadata": {},
   "outputs": [
    {
     "name": "stdout",
     "output_type": "stream",
     "text": [
      "{1, 2, 3, 4, 5} {1, 2, 3, 4, 5}\n",
      "{3} {3}\n",
      "{1, 2} {1, 2}\n",
      "{1, 2, 4, 5} {1, 2, 4, 5}\n"
     ]
    }
   ],
   "source": [
    "a = {1,2,3}\n",
    "b= {3,4,5}\n",
    "print(a.union(b), a|b)\n",
    "print(a.intersection(b), a&b)\n",
    "print(a.difference(b), a-b)\n",
    "print(a.symmetric_difference(b), a^b)"
   ]
  },
  {
   "cell_type": "code",
   "execution_count": 115,
   "id": "154253a0-30cf-453a-87d7-27fc694abcdb",
   "metadata": {},
   "outputs": [],
   "source": [
    "all_data = [['John', 'Emily', 'Michael', 'Mary', 'Steven'],\n",
    "            ['Maria', 'Juan', 'Javier', 'Natalia', 'Pilar']] "
   ]
  },
  {
   "cell_type": "code",
   "execution_count": 134,
   "id": "eebf41c4-1395-485f-bf87-44d9d931d2b6",
   "metadata": {},
   "outputs": [
    {
     "data": {
      "text/plain": [
       "['JOHN',\n",
       " 'EMILY',\n",
       " 'MICHAEL',\n",
       " 'MARY',\n",
       " 'STEVEN',\n",
       " 'MARIA',\n",
       " 'JUAN',\n",
       " 'JAVIER',\n",
       " 'NATALIA',\n",
       " 'PILAR']"
      ]
     },
     "execution_count": 134,
     "metadata": {},
     "output_type": "execute_result"
    }
   ],
   "source": [
    "#하나의 리스트로 바꾸기\n",
    "data = list()\n",
    "for names in all_data:\n",
    "    for name in names:\n",
    "        data.append(name)\n",
    "data    \n",
    "#1. 리스트 컴프리핸션으로 만들기\n",
    "[name for names in all_data for name in names]\n",
    "\n",
    "#2. 이름의 문자개수를 리스트 컴프리핸션으로\n",
    "[len(name) for names in all_data for name in names]\n",
    "#3. 이름의 문자개수가 6개 이상인 이름만 리스트 컴프리핸션\n",
    "[name for names in all_data for name in names if len(name) >= 6  ]\n",
    "#이름을 모두 대문자로 리스트 컴프리핸션을 써서\n",
    "[name.upper() for names in all_data for name in names]\n"
   ]
  },
  {
   "cell_type": "markdown",
   "id": "b0e70649-68ec-47e2-8a21-78ec31778f80",
   "metadata": {},
   "source": [
    "## dictionary comprehension"
   ]
  },
  {
   "cell_type": "code",
   "execution_count": null,
   "id": "d30b9128-b845-4a96-8896-1fc1b4b7a28f",
   "metadata": {},
   "outputs": [],
   "source": [
    "p.110"
   ]
  },
  {
   "cell_type": "code",
   "execution_count": 135,
   "id": "9af96bdb-a1b5-4fd5-8976-72807fd9f081",
   "metadata": {},
   "outputs": [],
   "source": [
    "li = [\"apple\", 'banana', 'cherry']"
   ]
  },
  {
   "cell_type": "code",
   "execution_count": 136,
   "id": "022e65a5-323a-4af7-81f1-3422ef9c11f7",
   "metadata": {},
   "outputs": [],
   "source": [
    "di = dict()\n",
    "for i,j in enumerate(li):\n",
    "    di[i] = j"
   ]
  },
  {
   "cell_type": "code",
   "execution_count": 137,
   "id": "1d20da51-38d8-46d4-b17f-4ab45f41a9f1",
   "metadata": {},
   "outputs": [
    {
     "data": {
      "text/plain": [
       "{0: 'apple', 1: 'banana', 2: 'cherry'}"
      ]
     },
     "execution_count": 137,
     "metadata": {},
     "output_type": "execute_result"
    }
   ],
   "source": [
    "di"
   ]
  },
  {
   "cell_type": "code",
   "execution_count": 138,
   "id": "aebf74b5-6c0d-4b73-814a-2d22b2844bfc",
   "metadata": {},
   "outputs": [
    {
     "data": {
      "text/plain": [
       "{0: 'apple', 1: 'banana', 2: 'cherry'}"
      ]
     },
     "execution_count": 138,
     "metadata": {},
     "output_type": "execute_result"
    }
   ],
   "source": [
    "li = [\"apple\", 'banana', 'cherry']\n",
    "{i:j for i,j in enumerate(li)}"
   ]
  },
  {
   "cell_type": "code",
   "execution_count": 140,
   "id": "f9c976df-a97b-4610-830d-69a200e63e02",
   "metadata": {},
   "outputs": [],
   "source": [
    "unique_length = {len(name) for names in all_data for name in names}"
   ]
  },
  {
   "cell_type": "code",
   "execution_count": 141,
   "id": "24b5ce91-699a-4d05-abdf-01215c8553e7",
   "metadata": {},
   "outputs": [
    {
     "data": {
      "text/plain": [
       "{4, 5, 6, 7}"
      ]
     },
     "execution_count": 141,
     "metadata": {},
     "output_type": "execute_result"
    }
   ],
   "source": [
    "unique_length"
   ]
  },
  {
   "cell_type": "code",
   "execution_count": 142,
   "id": "566072ef-8d29-466b-bcaa-d4f1f3d6b4dd",
   "metadata": {},
   "outputs": [],
   "source": [
    "def twice(x):\n",
    "    return x*2"
   ]
  },
  {
   "cell_type": "code",
   "execution_count": 144,
   "id": "b56143ae-3218-4267-accd-b530092b827f",
   "metadata": {},
   "outputs": [
    {
     "data": {
      "text/plain": [
       "6"
      ]
     },
     "execution_count": 144,
     "metadata": {},
     "output_type": "execute_result"
    }
   ],
   "source": [
    "twice(3)"
   ]
  },
  {
   "cell_type": "code",
   "execution_count": 145,
   "id": "47fbe2d5-b2e2-41c4-9841-b40d09ec4163",
   "metadata": {},
   "outputs": [
    {
     "data": {
      "text/plain": [
       "[1, 2, 3, 4, 1, 2, 3, 4]"
      ]
     },
     "execution_count": 145,
     "metadata": {},
     "output_type": "execute_result"
    }
   ],
   "source": [
    "li = [1,2,3,4]\n",
    "twice(li)"
   ]
  },
  {
   "cell_type": "code",
   "execution_count": 148,
   "id": "e5a4b2c8-d409-4869-aa19-a237e91aade5",
   "metadata": {},
   "outputs": [
    {
     "data": {
      "text/plain": [
       "[2, 4, 6, 8]"
      ]
     },
     "execution_count": 148,
     "metadata": {},
     "output_type": "execute_result"
    }
   ],
   "source": [
    "list(map(twice, li))"
   ]
  },
  {
   "cell_type": "code",
   "execution_count": 168,
   "id": "06b92b86-8008-4854-a545-a54d513d4527",
   "metadata": {},
   "outputs": [],
   "source": [
    "states = ['   Alabama ', 'Georgia!', 'Georgia', 'georgia', 'FlOrIda','south   carolina##', 'West virginia?'] "
   ]
  },
  {
   "cell_type": "code",
   "execution_count": 169,
   "id": "89c01e0a-57db-4118-80bd-f3d044bae0fc",
   "metadata": {},
   "outputs": [],
   "source": [
    "import re\n",
    "def clean_strings(strings):\n",
    "    result = []\n",
    "    for value in strings:\n",
    "        value = value.strip()\n",
    "        value = re.sub('[!#?]', \"\", value)\n",
    "        value = value.title()\n",
    "        result.append(value)\n",
    "    return result"
   ]
  },
  {
   "cell_type": "code",
   "execution_count": 170,
   "id": "e8372852-39f7-48e5-a51e-938b41f94a3e",
   "metadata": {},
   "outputs": [
    {
     "data": {
      "text/plain": [
       "['Alabama',\n",
       " 'Georgia',\n",
       " 'Georgia',\n",
       " 'Georgia',\n",
       " 'Florida',\n",
       " 'South   Carolina',\n",
       " 'West Virginia']"
      ]
     },
     "execution_count": 170,
     "metadata": {},
     "output_type": "execute_result"
    }
   ],
   "source": [
    "clean_strings(states)"
   ]
  },
  {
   "cell_type": "code",
   "execution_count": 171,
   "id": "37f31221-0b1a-41be-8a6b-3e6177aeeab3",
   "metadata": {},
   "outputs": [],
   "source": [
    "def remove_punctuation(value):\n",
    "    return re.sub('[!#?]', \"\", value)"
   ]
  },
  {
   "cell_type": "code",
   "execution_count": 178,
   "id": "0847bed1-1bf7-4c1f-b8ff-efd197280f98",
   "metadata": {},
   "outputs": [],
   "source": [
    "clean_ops = [str.strip, remove_punctuation, states] "
   ]
  },
  {
   "cell_type": "code",
   "execution_count": 173,
   "id": "c13b1204-a724-4e9b-8d3b-31dc57a50224",
   "metadata": {},
   "outputs": [
    {
     "data": {
      "text/plain": [
       "'Hello'"
      ]
     },
     "execution_count": 173,
     "metadata": {},
     "output_type": "execute_result"
    }
   ],
   "source": [
    "\"Hello        \".strip()\n",
    "str.strip(\"Hello        \")"
   ]
  },
  {
   "cell_type": "code",
   "execution_count": 176,
   "id": "5ce29463-c52f-41ee-939c-318d8bfc86fd",
   "metadata": {},
   "outputs": [],
   "source": [
    "# result = []\n",
    "# for value in states:\n",
    "#     for function in clean_ops:\n",
    "#         value = function(value)\n",
    "#     result.append(value)\n",
    "# result\n",
    "\n",
    "def clean_strings(strings, ops):\n",
    "    for value in states:\n",
    "        for function in clean_ops:\n",
    "            value = function(value)\n",
    "        result.append(value)\n",
    "    return result"
   ]
  },
  {
   "cell_type": "code",
   "execution_count": 179,
   "id": "280c5677-5641-448b-9464-c07e176ef054",
   "metadata": {},
   "outputs": [
    {
     "ename": "TypeError",
     "evalue": "'list' object is not callable",
     "output_type": "error",
     "traceback": [
      "\u001b[1;31m---------------------------------------------------------------------------\u001b[0m",
      "\u001b[1;31mTypeError\u001b[0m                                 Traceback (most recent call last)",
      "Cell \u001b[1;32mIn[179], line 1\u001b[0m\n\u001b[1;32m----> 1\u001b[0m \u001b[43mclean_strings\u001b[49m\u001b[43m(\u001b[49m\u001b[43mstates\u001b[49m\u001b[43m,\u001b[49m\u001b[43m \u001b[49m\u001b[43mclean_ops\u001b[49m\u001b[43m)\u001b[49m\n",
      "Cell \u001b[1;32mIn[176], line 11\u001b[0m, in \u001b[0;36mclean_strings\u001b[1;34m(strings, ops)\u001b[0m\n\u001b[0;32m      9\u001b[0m \u001b[38;5;28;01mfor\u001b[39;00m value \u001b[38;5;129;01min\u001b[39;00m states:\n\u001b[0;32m     10\u001b[0m     \u001b[38;5;28;01mfor\u001b[39;00m function \u001b[38;5;129;01min\u001b[39;00m clean_ops:\n\u001b[1;32m---> 11\u001b[0m         value \u001b[38;5;241m=\u001b[39m \u001b[43mfunction\u001b[49m\u001b[43m(\u001b[49m\u001b[43mvalue\u001b[49m\u001b[43m)\u001b[49m\n\u001b[0;32m     12\u001b[0m     result\u001b[38;5;241m.\u001b[39mappend(value)\n\u001b[0;32m     13\u001b[0m \u001b[38;5;28;01mreturn\u001b[39;00m result\n",
      "\u001b[1;31mTypeError\u001b[0m: 'list' object is not callable"
     ]
    }
   ],
   "source": [
    "clean_strings(states, clean_ops)"
   ]
  },
  {
   "cell_type": "markdown",
   "id": "f5ba9caf-caf9-47b9-b90d-a5a514d11436",
   "metadata": {},
   "source": [
    "## 커링"
   ]
  },
  {
   "cell_type": "code",
   "execution_count": 180,
   "id": "3832dd36-8776-4e62-87e4-6c3a98820d28",
   "metadata": {},
   "outputs": [],
   "source": [
    "def add_numbers(x,y):\n",
    "    return x+y"
   ]
  },
  {
   "cell_type": "code",
   "execution_count": 181,
   "id": "e662f983-59ce-4194-8017-9b0e4f84e23d",
   "metadata": {},
   "outputs": [],
   "source": [
    "def add_five(x):\n",
    "    return add_numbers(5,x)"
   ]
  },
  {
   "cell_type": "code",
   "execution_count": 182,
   "id": "70cee10d-5f09-439d-81b0-874552e69f9b",
   "metadata": {},
   "outputs": [
    {
     "data": {
      "text/plain": [
       "15"
      ]
     },
     "execution_count": 182,
     "metadata": {},
     "output_type": "execute_result"
    }
   ],
   "source": [
    "add_five(10)"
   ]
  },
  {
   "cell_type": "code",
   "execution_count": 184,
   "id": "ccab61a1-9501-4cf9-a304-9995b0df41e0",
   "metadata": {},
   "outputs": [
    {
     "data": {
      "text/plain": [
       "[0, 1, 2, 3, 4, 5, 6, 7, 8, 9]"
      ]
     },
     "execution_count": 184,
     "metadata": {},
     "output_type": "execute_result"
    }
   ],
   "source": [
    "list(range(10))"
   ]
  },
  {
   "cell_type": "code",
   "execution_count": 185,
   "id": "430778fb-977a-4c28-82ef-af6c913c4647",
   "metadata": {},
   "outputs": [],
   "source": [
    "di = {'a':1, 'b':2, 'c':3}"
   ]
  },
  {
   "cell_type": "code",
   "execution_count": 186,
   "id": "c4d8735d-f0d8-46d7-b70f-afeae9b1c889",
   "metadata": {},
   "outputs": [
    {
     "name": "stdout",
     "output_type": "stream",
     "text": [
      "a\n",
      "b\n",
      "c\n"
     ]
    }
   ],
   "source": [
    "for i in di:\n",
    "    print(i)"
   ]
  },
  {
   "cell_type": "code",
   "execution_count": 187,
   "id": "3d2a77d2-fb56-44ad-9fae-11475f83b50e",
   "metadata": {},
   "outputs": [
    {
     "data": {
      "text/plain": [
       "dict"
      ]
     },
     "execution_count": 187,
     "metadata": {},
     "output_type": "execute_result"
    }
   ],
   "source": [
    "type(di)"
   ]
  },
  {
   "cell_type": "code",
   "execution_count": 188,
   "id": "830b42f2-d69f-426e-a61b-b560f82d3435",
   "metadata": {},
   "outputs": [
    {
     "data": {
      "text/plain": [
       "<dict_keyiterator at 0x2d1819e4590>"
      ]
     },
     "execution_count": 188,
     "metadata": {},
     "output_type": "execute_result"
    }
   ],
   "source": [
    "# 이터레이터 만들기\n",
    "it = iter(di)\n",
    "it"
   ]
  },
  {
   "cell_type": "code",
   "execution_count": 189,
   "id": "9f6e2518-0ea1-4c0a-b293-80c8f1876b07",
   "metadata": {},
   "outputs": [
    {
     "data": {
      "text/plain": [
       "dict_keyiterator"
      ]
     },
     "execution_count": 189,
     "metadata": {},
     "output_type": "execute_result"
    }
   ],
   "source": [
    "type(it)"
   ]
  },
  {
   "cell_type": "code",
   "execution_count": null,
   "id": "f13d7e9a-0203-4e87-a67d-bf56c32ee28f",
   "metadata": {},
   "outputs": [],
   "source": [
    "# 이터레이터 읽기"
   ]
  },
  {
   "cell_type": "code",
   "execution_count": 190,
   "id": "7f879894-c380-4191-acce-6ec0ba8ae53a",
   "metadata": {},
   "outputs": [
    {
     "data": {
      "text/plain": [
       "['a', 'b', 'c']"
      ]
     },
     "execution_count": 190,
     "metadata": {},
     "output_type": "execute_result"
    }
   ],
   "source": [
    "list(it)"
   ]
  },
  {
   "cell_type": "code",
   "execution_count": 191,
   "id": "13d72824-e506-4605-8bc9-ec998af0ffb5",
   "metadata": {},
   "outputs": [
    {
     "data": {
      "text/plain": [
       "['__class__',\n",
       " '__delattr__',\n",
       " '__dir__',\n",
       " '__doc__',\n",
       " '__eq__',\n",
       " '__format__',\n",
       " '__ge__',\n",
       " '__getattribute__',\n",
       " '__gt__',\n",
       " '__hash__',\n",
       " '__init__',\n",
       " '__init_subclass__',\n",
       " '__iter__',\n",
       " '__le__',\n",
       " '__length_hint__',\n",
       " '__lt__',\n",
       " '__ne__',\n",
       " '__new__',\n",
       " '__next__',\n",
       " '__reduce__',\n",
       " '__reduce_ex__',\n",
       " '__repr__',\n",
       " '__setattr__',\n",
       " '__sizeof__',\n",
       " '__str__',\n",
       " '__subclasshook__']"
      ]
     },
     "execution_count": 191,
     "metadata": {},
     "output_type": "execute_result"
    }
   ],
   "source": [
    "dir(it)"
   ]
  },
  {
   "cell_type": "code",
   "execution_count": 192,
   "id": "0be7cc30-1e51-4056-abed-22219b72d3d6",
   "metadata": {},
   "outputs": [
    {
     "data": {
      "text/plain": [
       "193677878361"
      ]
     },
     "execution_count": 192,
     "metadata": {},
     "output_type": "execute_result"
    }
   ],
   "source": [
    "hash(it)"
   ]
  },
  {
   "cell_type": "code",
   "execution_count": 193,
   "id": "8074c76a-77bc-4242-bb08-f0735cfb8a1e",
   "metadata": {},
   "outputs": [
    {
     "data": {
      "text/plain": [
       "['__getattribute__',\n",
       " '__iter__',\n",
       " '__next__',\n",
       " '__length_hint__',\n",
       " '__reduce__',\n",
       " '__doc__',\n",
       " '__new__',\n",
       " '__repr__',\n",
       " '__hash__',\n",
       " '__str__',\n",
       " '__setattr__',\n",
       " '__delattr__',\n",
       " '__lt__',\n",
       " '__le__',\n",
       " '__eq__',\n",
       " '__ne__',\n",
       " '__gt__',\n",
       " '__ge__',\n",
       " '__init__',\n",
       " '__reduce_ex__',\n",
       " '__subclasshook__',\n",
       " '__init_subclass__',\n",
       " '__format__',\n",
       " '__sizeof__',\n",
       " '__dir__',\n",
       " '__class__']"
      ]
     },
     "execution_count": 193,
     "metadata": {},
     "output_type": "execute_result"
    }
   ],
   "source": [
    "it.__dir__()"
   ]
  },
  {
   "cell_type": "code",
   "execution_count": 196,
   "id": "3cc0422a-746b-4dcd-b317-c4829eddbda8",
   "metadata": {},
   "outputs": [
    {
     "data": {
      "text/plain": [
       "'a'"
      ]
     },
     "execution_count": 196,
     "metadata": {},
     "output_type": "execute_result"
    }
   ],
   "source": [
    "it = iter(di)\n",
    "it.__next__()"
   ]
  },
  {
   "cell_type": "code",
   "execution_count": 197,
   "id": "44d6352d-eaeb-49eb-b910-bd5f33422fdc",
   "metadata": {},
   "outputs": [
    {
     "data": {
      "text/plain": [
       "'b'"
      ]
     },
     "execution_count": 197,
     "metadata": {},
     "output_type": "execute_result"
    }
   ],
   "source": [
    "it.__next__()"
   ]
  },
  {
   "cell_type": "code",
   "execution_count": 198,
   "id": "879be0b2-2f25-426b-b76c-033621760bfc",
   "metadata": {},
   "outputs": [
    {
     "data": {
      "text/plain": [
       "'c'"
      ]
     },
     "execution_count": 198,
     "metadata": {},
     "output_type": "execute_result"
    }
   ],
   "source": [
    "it.__next__()"
   ]
  },
  {
   "cell_type": "code",
   "execution_count": 199,
   "id": "b5f2d2bc-2d80-410b-9599-65fdd8fb84e8",
   "metadata": {},
   "outputs": [
    {
     "ename": "StopIteration",
     "evalue": "",
     "output_type": "error",
     "traceback": [
      "\u001b[1;31m---------------------------------------------------------------------------\u001b[0m",
      "\u001b[1;31mStopIteration\u001b[0m                             Traceback (most recent call last)",
      "Cell \u001b[1;32mIn[199], line 1\u001b[0m\n\u001b[1;32m----> 1\u001b[0m \u001b[43mit\u001b[49m\u001b[38;5;241;43m.\u001b[39;49m\u001b[38;5;21;43m__next__\u001b[39;49m\u001b[43m(\u001b[49m\u001b[43m)\u001b[49m\n",
      "\u001b[1;31mStopIteration\u001b[0m: "
     ]
    }
   ],
   "source": [
    "it.__next__()"
   ]
  },
  {
   "cell_type": "code",
   "execution_count": 200,
   "id": "a3d94081-d167-4602-9bfe-bb0bd0d4cf28",
   "metadata": {},
   "outputs": [],
   "source": [
    "it = iter(di)"
   ]
  },
  {
   "cell_type": "code",
   "execution_count": 201,
   "id": "f2a87df7-f391-40dc-bc6a-4be2cbf24dd3",
   "metadata": {},
   "outputs": [
    {
     "data": {
      "text/plain": [
       "'a'"
      ]
     },
     "execution_count": 201,
     "metadata": {},
     "output_type": "execute_result"
    }
   ],
   "source": [
    "next(it)"
   ]
  },
  {
   "cell_type": "code",
   "execution_count": 202,
   "id": "8d777d5b-4e55-4559-a031-1a0b0467afa7",
   "metadata": {},
   "outputs": [],
   "source": [
    "def squares(n):\n",
    "    for i in range(1,n+1):\n",
    "        print(i)"
   ]
  },
  {
   "cell_type": "code",
   "execution_count": 203,
   "id": "4c9b300c-6573-43b4-b0ec-056413b8a0a7",
   "metadata": {},
   "outputs": [
    {
     "name": "stdout",
     "output_type": "stream",
     "text": [
      "1\n",
      "2\n",
      "3\n",
      "4\n",
      "5\n",
      "6\n",
      "7\n",
      "8\n",
      "9\n",
      "10\n"
     ]
    }
   ],
   "source": [
    "squares(10)"
   ]
  },
  {
   "cell_type": "code",
   "execution_count": 207,
   "id": "885c593a-8c42-4fae-a6d1-c898e3565150",
   "metadata": {},
   "outputs": [],
   "source": [
    "def squares(n):\n",
    "    for i in range(1,n+1):\n",
    "        return i"
   ]
  },
  {
   "cell_type": "code",
   "execution_count": 206,
   "id": "6c18baa9-c9d5-413e-9669-b7e3c844ca4e",
   "metadata": {},
   "outputs": [
    {
     "data": {
      "text/plain": [
       "1"
      ]
     },
     "execution_count": 206,
     "metadata": {},
     "output_type": "execute_result"
    }
   ],
   "source": [
    "squares(10)"
   ]
  },
  {
   "cell_type": "code",
   "execution_count": 208,
   "id": "26644b8d-5b34-4759-8a11-efa3a85a2d48",
   "metadata": {},
   "outputs": [],
   "source": [
    "def squares(n):\n",
    "    for i in range(1,n+1):\n",
    "        yield i"
   ]
  },
  {
   "cell_type": "code",
   "execution_count": 209,
   "id": "22138b79-5e90-43ea-958c-53de2fc1f53c",
   "metadata": {},
   "outputs": [
    {
     "data": {
      "text/plain": [
       "<generator object squares at 0x000002D1819C4890>"
      ]
     },
     "execution_count": 209,
     "metadata": {},
     "output_type": "execute_result"
    }
   ],
   "source": [
    "squares(10)"
   ]
  },
  {
   "cell_type": "code",
   "execution_count": 210,
   "id": "e420bf24-d52b-4b69-bf20-60aae85863a1",
   "metadata": {},
   "outputs": [
    {
     "data": {
      "text/plain": [
       "[1, 2, 3, 4, 5, 6, 7, 8, 9, 10]"
      ]
     },
     "execution_count": 210,
     "metadata": {},
     "output_type": "execute_result"
    }
   ],
   "source": [
    "list(squares(10))"
   ]
  },
  {
   "cell_type": "code",
   "execution_count": 217,
   "id": "825d9966-3898-417a-b6d5-ad9312b485bf",
   "metadata": {},
   "outputs": [
    {
     "data": {
      "text/plain": [
       "[0, 1, 4, 9, 16, 25, 36, 49, 64, 81, 100]"
      ]
     },
     "execution_count": 217,
     "metadata": {},
     "output_type": "execute_result"
    }
   ],
   "source": [
    "# 0부터 입력된 수까지 연속된 자연수의 제곱을 만들어내는 제네레이터를 만들어 봅시다.\n",
    "\n",
    "def gen(n):\n",
    "    for i in range(n+1):\n",
    "        yield i**2\n",
    "list(gen(10))"
   ]
  },
  {
   "cell_type": "code",
   "execution_count": null,
   "id": "635ac4bc-486a-497a-b91e-23bad3ad235c",
   "metadata": {},
   "outputs": [],
   "source": [
    "[], {:}, {}, ()"
   ]
  },
  {
   "cell_type": "code",
   "execution_count": 227,
   "id": "b677a463-9b9e-4215-b877-e500cb9a5d87",
   "metadata": {},
   "outputs": [],
   "source": [
    "gen = ( i**2 for i in range(100))"
   ]
  },
  {
   "cell_type": "code",
   "execution_count": 228,
   "id": "e9826e95-76f3-490b-831a-f8f5d876ffdb",
   "metadata": {},
   "outputs": [
    {
     "name": "stdout",
     "output_type": "stream",
     "text": [
      "0, 1, 4, 9, 16, 25, 36, 49, 64, 81, 100, 121, 144, 169, 196, 225, 256, 289, 324, 361, 400, 441, 484, 529, 576, 625, 676, 729, 784, 841, 900, 961, 1024, 1089, 1156, 1225, 1296, 1369, 1444, 1521, 1600, 1681, 1764, 1849, 1936, 2025, 2116, 2209, 2304, 2401, 2500, 2601, 2704, 2809, 2916, 3025, 3136, 3249, 3364, 3481, 3600, 3721, 3844, 3969, 4096, 4225, 4356, 4489, 4624, 4761, 4900, 5041, 5184, 5329, 5476, 5625, 5776, 5929, 6084, 6241, 6400, 6561, 6724, 6889, 7056, 7225, 7396, 7569, 7744, 7921, 8100, 8281, 8464, 8649, 8836, 9025, 9216, 9409, 9604, 9801, "
     ]
    }
   ],
   "source": [
    "for i in gen:\n",
    "    print(i, end = \", \")"
   ]
  },
  {
   "cell_type": "code",
   "execution_count": 233,
   "id": "bfec0a7d-646c-4162-b8ca-139f50b2906b",
   "metadata": {},
   "outputs": [
    {
     "data": {
      "text/plain": [
       "123"
      ]
     },
     "execution_count": 233,
     "metadata": {},
     "output_type": "execute_result"
    }
   ],
   "source": [
    "int(\"123\")"
   ]
  },
  {
   "cell_type": "code",
   "execution_count": 234,
   "id": "6e4e60a4-639f-462e-92c7-899e462eaeb2",
   "metadata": {},
   "outputs": [
    {
     "ename": "ValueError",
     "evalue": "invalid literal for int() with base 10: 'Hello'",
     "output_type": "error",
     "traceback": [
      "\u001b[1;31m---------------------------------------------------------------------------\u001b[0m",
      "\u001b[1;31mValueError\u001b[0m                                Traceback (most recent call last)",
      "Cell \u001b[1;32mIn[234], line 1\u001b[0m\n\u001b[1;32m----> 1\u001b[0m \u001b[38;5;28;43mint\u001b[39;49m\u001b[43m(\u001b[49m\u001b[38;5;124;43m\"\u001b[39;49m\u001b[38;5;124;43mHello\u001b[39;49m\u001b[38;5;124;43m\"\u001b[39;49m\u001b[43m)\u001b[49m\n",
      "\u001b[1;31mValueError\u001b[0m: invalid literal for int() with base 10: 'Hello'"
     ]
    }
   ],
   "source": [
    "int(\"Hello\")"
   ]
  },
  {
   "cell_type": "code",
   "execution_count": 257,
   "id": "2c676e55-d00c-492a-a9d4-b551931e0742",
   "metadata": {},
   "outputs": [],
   "source": [
    "def make_int(x):\n",
    "    try:\n",
    "        return int(x)\n",
    "    except:\n",
    "        return '숫자아님'\n",
    "    finally:\n",
    "        return(\"수고했습니다\")"
   ]
  },
  {
   "cell_type": "code",
   "execution_count": 258,
   "id": "5a482702-4118-49de-9c7f-06b49ee46c8e",
   "metadata": {},
   "outputs": [
    {
     "data": {
      "text/plain": [
       "'수고했습니다'"
      ]
     },
     "execution_count": 258,
     "metadata": {},
     "output_type": "execute_result"
    }
   ],
   "source": [
    "make_int(\"123\")"
   ]
  },
  {
   "cell_type": "code",
   "execution_count": 259,
   "id": "1bfd774d-61cc-4f96-93ad-cd99cd1c5df2",
   "metadata": {},
   "outputs": [
    {
     "data": {
      "text/plain": [
       "'수고했습니다'"
      ]
     },
     "execution_count": 259,
     "metadata": {},
     "output_type": "execute_result"
    }
   ],
   "source": [
    "make_int(\"Hello\")"
   ]
  },
  {
   "cell_type": "markdown",
   "id": "b0740f33-60ac-439b-bfe1-443d3cc0deb8",
   "metadata": {},
   "source": [
    "## Numpy"
   ]
  },
  {
   "cell_type": "markdown",
   "id": "70b28d1f-bf90-4556-9b26-86a83f9eece4",
   "metadata": {},
   "source": [
    "Numerical Python"
   ]
  },
  {
   "cell_type": "markdown",
   "id": "af696124-2440-4dde-a35e-78bb282da245",
   "metadata": {},
   "source": [
    "2D array (2,3) 2행 3열"
   ]
  },
  {
   "cell_type": "markdown",
   "id": "597bb611-c58b-47db-836e-0470869b3525",
   "metadata": {},
   "source": [
    "3D array (축이름, 행, 열)"
   ]
  },
  {
   "cell_type": "markdown",
   "id": "c208c2bb-3bd4-40a3-99a0-af6692f7c7c0",
   "metadata": {},
   "source": [
    "(3,) 1차원 자료 1D array 콤마 꼭 있어야!"
   ]
  },
  {
   "cell_type": "markdown",
   "id": "b95f2356-b06a-4c05-a8fa-0876743d2300",
   "metadata": {},
   "source": [
    "matrix는 3차원자료는 없다"
   ]
  },
  {
   "cell_type": "markdown",
   "id": "beb68dab-d6ce-4dac-b54c-67f427e5cfbb",
   "metadata": {},
   "source": [
    "matrix는 array의 일부분"
   ]
  },
  {
   "cell_type": "code",
   "execution_count": null,
   "id": "2d67fc38-21ea-41d1-890d-44da7d64edb8",
   "metadata": {},
   "outputs": [],
   "source": []
  }
 ],
 "metadata": {
  "kernelspec": {
   "display_name": "Python 3 (ipykernel)",
   "language": "python",
   "name": "python3"
  },
  "language_info": {
   "codemirror_mode": {
    "name": "ipython",
    "version": 3
   },
   "file_extension": ".py",
   "mimetype": "text/x-python",
   "name": "python",
   "nbconvert_exporter": "python",
   "pygments_lexer": "ipython3",
   "version": "3.10.9"
  }
 },
 "nbformat": 4,
 "nbformat_minor": 5
}
