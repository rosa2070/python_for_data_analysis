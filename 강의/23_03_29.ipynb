{
 "cells": [
  {
   "cell_type": "markdown",
   "id": "9b32e0ba-1893-4c8c-b6cc-4aa601ed9f02",
   "metadata": {},
   "source": [
    "# 복습"
   ]
  },
  {
   "cell_type": "code",
   "execution_count": 11,
   "id": "dd5066e7-8f85-409d-b195-9cee3451f583",
   "metadata": {},
   "outputs": [
    {
     "data": {
      "text/plain": [
       "array([[1, 2, 3],\n",
       "       [4, 5, 6],\n",
       "       [7, 8, 9]])"
      ]
     },
     "execution_count": 11,
     "metadata": {},
     "output_type": "execute_result"
    }
   ],
   "source": [
    "import numpy as np\n",
    "a = np.arange(1,10).reshape(3,3)\n",
    "a\n"
   ]
  },
  {
   "cell_type": "code",
   "execution_count": 17,
   "id": "694d80a4-c8b5-4d40-807d-3c086a4a3e2f",
   "metadata": {},
   "outputs": [
    {
     "data": {
      "text/plain": [
       "array([[1, 2],\n",
       "       [4, 5]])"
      ]
     },
     "execution_count": 17,
     "metadata": {},
     "output_type": "execute_result"
    }
   ],
   "source": [
    "a[:2,:2]"
   ]
  },
  {
   "cell_type": "code",
   "execution_count": 18,
   "id": "676c9e2d-21da-4934-9168-7fbd38848616",
   "metadata": {},
   "outputs": [
    {
     "data": {
      "text/plain": [
       "array([[ 1,  2,  3,  4,  5],\n",
       "       [ 6,  7,  8,  9, 10],\n",
       "       [11, 12, 13, 14, 15],\n",
       "       [16, 17, 18, 19, 20],\n",
       "       [21, 22, 23, 24, 25]])"
      ]
     },
     "execution_count": 18,
     "metadata": {},
     "output_type": "execute_result"
    }
   ],
   "source": [
    "a = np.arange(1,26).reshape(5,5)\n",
    "a"
   ]
  },
  {
   "cell_type": "code",
   "execution_count": 22,
   "id": "fcf9468a-4057-46ce-b61c-824b818c7527",
   "metadata": {},
   "outputs": [
    {
     "data": {
      "text/plain": [
       "array([ 1,  7, 13, 19, 25])"
      ]
     },
     "execution_count": 22,
     "metadata": {},
     "output_type": "execute_result"
    }
   ],
   "source": [
    "#array([ 1,  7, 13, 19, 25])\n",
    "np.diag(a)"
   ]
  },
  {
   "cell_type": "code",
   "execution_count": 23,
   "id": "9998db1c-79c2-44dc-8a34-2c1aa194bd9e",
   "metadata": {},
   "outputs": [
    {
     "data": {
      "text/plain": [
       "array([ 2,  8, 14, 20])"
      ]
     },
     "execution_count": 23,
     "metadata": {},
     "output_type": "execute_result"
    }
   ],
   "source": [
    "# array([ 2,  8, 14, 20])\n",
    "np.diag(a,k=1)"
   ]
  },
  {
   "cell_type": "code",
   "execution_count": 27,
   "id": "32a9781e-ebc8-4ee1-8b2e-8bab57ed8999",
   "metadata": {},
   "outputs": [
    {
     "data": {
      "text/plain": [
       "array([10, 12, 15, 25, 28, 30, 35, 42, 50])"
      ]
     },
     "execution_count": 27,
     "metadata": {},
     "output_type": "execute_result"
    }
   ],
   "source": [
    "np.array([10,12,15,25,28,30,35,42,50]) \n",
    "#1달러 = 1290원"
   ]
  },
  {
   "cell_type": "code",
   "execution_count": 28,
   "id": "1a9a1615-81ae-4290-b446-056a75118e0d",
   "metadata": {},
   "outputs": [
    {
     "data": {
      "text/plain": [
       "array([12900, 15480, 19350, 32250, 36120, 38700, 45150, 54180, 64500])"
      ]
     },
     "execution_count": 28,
     "metadata": {},
     "output_type": "execute_result"
    }
   ],
   "source": [
    "np.array([10,12,15,25,28,30,35,42,50]) *1290"
   ]
  },
  {
   "cell_type": "code",
   "execution_count": 29,
   "id": "01c8f892-a8bf-4c40-bae0-e0ab51e4ee32",
   "metadata": {},
   "outputs": [
    {
     "data": {
      "text/plain": [
       "array([200, 240, 300])"
      ]
     },
     "execution_count": 29,
     "metadata": {},
     "output_type": "execute_result"
    }
   ],
   "source": [
    "np.array([10,12,15]) *np.array([10])\n",
    "np.array([10,12,15]) *np.array([20])"
   ]
  },
  {
   "cell_type": "code",
   "execution_count": 32,
   "id": "b9fbfa1c-86d4-415d-9159-f0fffaf63d53",
   "metadata": {},
   "outputs": [],
   "source": [
    "a = np.array([10,12,15])\n",
    "b = np.array([[10],[20]])"
   ]
  },
  {
   "cell_type": "code",
   "execution_count": 33,
   "id": "9d78fb41-0e06-40c2-95c6-9cb3a6c0f0a2",
   "metadata": {},
   "outputs": [
    {
     "data": {
      "text/plain": [
       "array([[20, 22, 25],\n",
       "       [30, 32, 35]])"
      ]
     },
     "execution_count": 33,
     "metadata": {},
     "output_type": "execute_result"
    }
   ],
   "source": [
    "a+b"
   ]
  },
  {
   "cell_type": "code",
   "execution_count": 35,
   "id": "dc9d0d09-14d3-4215-8bde-7b1fcd757913",
   "metadata": {},
   "outputs": [
    {
     "data": {
      "text/plain": [
       "array([[11, 12, 13],\n",
       "       [21, 22, 23],\n",
       "       [31, 32, 33]])"
      ]
     },
     "execution_count": 35,
     "metadata": {},
     "output_type": "execute_result"
    }
   ],
   "source": [
    "a = np.array([1,2,3])\n",
    "b = np.array([[10],[20],[30]])\n",
    "a+b"
   ]
  },
  {
   "cell_type": "code",
   "execution_count": 44,
   "id": "60329d45-37ca-4073-8e8e-9d82ce4daf18",
   "metadata": {},
   "outputs": [
    {
     "ename": "ValueError",
     "evalue": "cannot reshape array of size 39 into shape (5,5)",
     "output_type": "error",
     "traceback": [
      "\u001b[1;31m---------------------------------------------------------------------------\u001b[0m",
      "\u001b[1;31mValueError\u001b[0m                                Traceback (most recent call last)",
      "Cell \u001b[1;32mIn[44], line 1\u001b[0m\n\u001b[1;32m----> 1\u001b[0m a \u001b[38;5;241m=\u001b[39m \u001b[43mnp\u001b[49m\u001b[38;5;241;43m.\u001b[39;49m\u001b[43marange\u001b[49m\u001b[43m(\u001b[49m\u001b[38;5;241;43m0\u001b[39;49m\u001b[43m,\u001b[49m\u001b[38;5;241;43m39\u001b[39;49m\u001b[43m)\u001b[49m\u001b[38;5;241;43m.\u001b[39;49m\u001b[43mreshape\u001b[49m\u001b[43m(\u001b[49m\u001b[38;5;241;43m5\u001b[39;49m\u001b[43m,\u001b[49m\u001b[38;5;241;43m5\u001b[39;49m\u001b[43m)\u001b[49m\n\u001b[0;32m      2\u001b[0m a\n",
      "\u001b[1;31mValueError\u001b[0m: cannot reshape array of size 39 into shape (5,5)"
     ]
    }
   ],
   "source": []
  },
  {
   "cell_type": "code",
   "execution_count": 50,
   "id": "3f2a6ed3-8c40-43af-b42e-f2b82bb7e65c",
   "metadata": {},
   "outputs": [
    {
     "data": {
      "text/plain": [
       "array([[ 0,  1,  2,  3,  4],\n",
       "       [ 4,  5,  6,  7,  8],\n",
       "       [14, 15, 16, 17, 18],\n",
       "       [24, 25, 26, 27, 28],\n",
       "       [34, 35, 36, 37, 38]])"
      ]
     },
     "execution_count": 50,
     "metadata": {},
     "output_type": "execute_result"
    }
   ],
   "source": [
    "a = np.array([0,1,2,3,4])\n",
    "b = np.array([[0],[4],[14],[24],[34]])\n",
    "a+b"
   ]
  },
  {
   "cell_type": "code",
   "execution_count": 51,
   "id": "7dcf6a89-f7da-424e-bae2-2527c0b14dbe",
   "metadata": {},
   "outputs": [
    {
     "data": {
      "text/plain": [
       "array([[ 4,  6],\n",
       "       [24, 26]])"
      ]
     },
     "execution_count": 51,
     "metadata": {},
     "output_type": "execute_result"
    }
   ],
   "source": [
    "c=a+b\n",
    "c[1::2, :3:2]"
   ]
  },
  {
   "cell_type": "code",
   "execution_count": 53,
   "id": "1ff7981b-7458-479a-bce4-6b92117712e6",
   "metadata": {},
   "outputs": [
    {
     "data": {
      "text/plain": [
       "array([ 4, 26])"
      ]
     },
     "execution_count": 53,
     "metadata": {},
     "output_type": "execute_result"
    }
   ],
   "source": [
    "#주의\n",
    "c[[1,3],[0,2]] # (1,0) (3,2) ,를 써서 :썼을 때와 다름"
   ]
  },
  {
   "cell_type": "code",
   "execution_count": 55,
   "id": "0753e33e-708a-4e04-9ec8-7d5eb21f89b6",
   "metadata": {},
   "outputs": [
    {
     "data": {
      "text/plain": [
       "array([[ 0,  1,  2,  3,  4],\n",
       "       [ 4,  5,  6,  7,  8],\n",
       "       [14, 15, 16, 17, 18],\n",
       "       [24, 25, 26, 27, 28],\n",
       "       [34, 35, 36, 37, 38]])"
      ]
     },
     "execution_count": 55,
     "metadata": {},
     "output_type": "execute_result"
    }
   ],
   "source": [
    "c"
   ]
  },
  {
   "cell_type": "code",
   "execution_count": 56,
   "id": "32d57d90-d11c-4aad-a19a-fab2c6928e3a",
   "metadata": {},
   "outputs": [
    {
     "data": {
      "text/plain": [
       "array([24, 25, 26, 27, 28, 34, 35, 36, 37, 38])"
      ]
     },
     "execution_count": 56,
     "metadata": {},
     "output_type": "execute_result"
    }
   ],
   "source": [
    "#20보다큰수만\n",
    "c[c>20]"
   ]
  },
  {
   "cell_type": "code",
   "execution_count": 57,
   "id": "150f9019-165f-47ba-8ecf-c83640edafa0",
   "metadata": {},
   "outputs": [
    {
     "data": {
      "text/plain": [
       "array([ 0,  3,  6, 15, 18, 24, 27, 36])"
      ]
     },
     "execution_count": 57,
     "metadata": {},
     "output_type": "execute_result"
    }
   ],
   "source": [
    "#3의 배수만\n",
    "c[c%3==0]"
   ]
  },
  {
   "cell_type": "code",
   "execution_count": 59,
   "id": "3ef03b9d-a66e-4f44-bf56-8d7c27136c91",
   "metadata": {},
   "outputs": [],
   "source": [
    "a = np.arange(6).reshape(3,2)"
   ]
  },
  {
   "cell_type": "code",
   "execution_count": 63,
   "id": "13445827-6d93-4440-87f3-864bad89fcd5",
   "metadata": {},
   "outputs": [
    {
     "data": {
      "text/plain": [
       "array([[0, 1, 0, 1, 0, 1],\n",
       "       [2, 3, 2, 3, 2, 3],\n",
       "       [4, 5, 4, 5, 4, 5],\n",
       "       [0, 1, 0, 1, 0, 1],\n",
       "       [2, 3, 2, 3, 2, 3],\n",
       "       [4, 5, 4, 5, 4, 5]])"
      ]
     },
     "execution_count": 63,
     "metadata": {},
     "output_type": "execute_result"
    }
   ],
   "source": [
    "np.tile(a,(2,3))"
   ]
  },
  {
   "cell_type": "code",
   "execution_count": 65,
   "id": "be613a9a-0488-4289-9a00-93c122dec7b5",
   "metadata": {},
   "outputs": [
    {
     "data": {
      "text/plain": [
       "array([[2, 5, 4],\n",
       "       [3, 1, 9],\n",
       "       [6, 8, 7]])"
      ]
     },
     "execution_count": 65,
     "metadata": {},
     "output_type": "execute_result"
    }
   ],
   "source": [
    "a = np.array([[2,5,4], [3,1,9], [6,8,7]]) \n",
    "a"
   ]
  },
  {
   "cell_type": "code",
   "execution_count": null,
   "id": "3255c030-16ef-43e9-96be-b9893d69fc3d",
   "metadata": {},
   "outputs": [],
   "source": [
    "254    216\n",
    "319 -> 437\n",
    "687    598"
   ]
  },
  {
   "cell_type": "code",
   "execution_count": 68,
   "id": "b8175c62-41b0-4a14-a993-0c940c6976ba",
   "metadata": {},
   "outputs": [
    {
     "data": {
      "text/plain": [
       "array([[2, 1, 6],\n",
       "       [4, 3, 7],\n",
       "       [5, 9, 8]])"
      ]
     },
     "execution_count": 68,
     "metadata": {},
     "output_type": "execute_result"
    }
   ],
   "source": [
    "np.sort(a, axis = 1)\n",
    "np.sort(a.T, axis = 0) \n",
    "전치연산(transpose)  - .T\n"
   ]
  },
  {
   "cell_type": "code",
   "execution_count": 71,
   "id": "bc04cbf0-b4ab-4a02-b378-59357ba551c0",
   "metadata": {},
   "outputs": [
    {
     "data": {
      "text/plain": [
       "array([[ 1,  2,  3,  4],\n",
       "       [ 8,  9, 10, 11],\n",
       "       [15, 16, 17, 18],\n",
       "       [22, 23, 24, 25]])"
      ]
     },
     "execution_count": 71,
     "metadata": {},
     "output_type": "execute_result"
    }
   ],
   "source": [
    "a = np.array([1,2,3,4])\n",
    "b = np.array([[0],[7],[14],[21]])\n",
    "a+b"
   ]
  },
  {
   "cell_type": "code",
   "execution_count": 75,
   "id": "da6960e9-f012-4755-8d9e-274d342a50db",
   "metadata": {},
   "outputs": [
    {
     "data": {
      "text/plain": [
       "array([[ 1,  2,  3,  4],\n",
       "       [ 8,  9, 10, 11],\n",
       "       [15, 16, 17, 18],\n",
       "       [22, 23, 24, 25]])"
      ]
     },
     "execution_count": 75,
     "metadata": {},
     "output_type": "execute_result"
    }
   ],
   "source": [
    "a =np.arange(1, 29).reshape(4, -1)[:4,:4]\n",
    "a"
   ]
  },
  {
   "cell_type": "code",
   "execution_count": 76,
   "id": "025f3bc1-5534-4836-ad0a-e449901bc57c",
   "metadata": {},
   "outputs": [
    {
     "data": {
      "text/plain": [
       "array([[ 9, 11],\n",
       "       [23, 25]])"
      ]
     },
     "execution_count": 76,
     "metadata": {},
     "output_type": "execute_result"
    }
   ],
   "source": [
    "a[1::2,1::2]"
   ]
  },
  {
   "cell_type": "code",
   "execution_count": 82,
   "id": "28becc62-03e9-485e-b7d8-89b61b1ea427",
   "metadata": {},
   "outputs": [
    {
     "name": "stdout",
     "output_type": "stream",
     "text": [
      "[[1 2 3]\n",
      " [4 5 6]]\n",
      "[[1 4]\n",
      " [2 5]\n",
      " [3 6]]\n",
      "[[1 4]\n",
      " [2 5]\n",
      " [3 6]]\n",
      "[[1 4]\n",
      " [2 5]\n",
      " [3 6]]\n"
     ]
    }
   ],
   "source": [
    "a = np.arange(1,7).reshape(2,3) \n",
    "print(a)\n",
    "#대각행렬을 구하는 3가지 방법\n",
    "print(a.T)\n",
    "print(a.transpose())\n",
    "print(np.transpose(a))"
   ]
  },
  {
   "cell_type": "code",
   "execution_count": 89,
   "id": "4ddc3ac6-a538-442b-b9cd-57d78cef72b7",
   "metadata": {},
   "outputs": [
    {
     "data": {
      "text/plain": [
       "array([[1., 1., 1., 1., 1.],\n",
       "       [1., 2., 2., 2., 1.],\n",
       "       [1., 2., 3., 2., 1.],\n",
       "       [1., 2., 2., 2., 1.],\n",
       "       [1., 1., 1., 1., 1.]])"
      ]
     },
     "execution_count": 89,
     "metadata": {},
     "output_type": "execute_result"
    }
   ],
   "source": [
    "#다음배열완성하기\n",
    "a = np.ones((5,5))\n",
    "a[1:4,1:4] += 1\n",
    "a[2,2] += 1\n",
    "a"
   ]
  },
  {
   "cell_type": "markdown",
   "id": "5736c7ec-fd76-4601-be20-126931e87ffa",
   "metadata": {},
   "source": [
    "# 수업"
   ]
  },
  {
   "cell_type": "markdown",
   "id": "8b71125c-2e34-44f6-9103-fb573cb69a83",
   "metadata": {},
   "source": [
    "## 팬시 인덱싱(행따로 열따로)"
   ]
  },
  {
   "cell_type": "markdown",
   "id": "2b66cf4f-b172-4dbd-954e-be21a6d21260",
   "metadata": {},
   "source": [
    "- 마무리 퀴즈"
   ]
  },
  {
   "cell_type": "code",
   "execution_count": 97,
   "id": "494395b6-b483-42bc-a60b-34d9c37a07da",
   "metadata": {},
   "outputs": [
    {
     "data": {
      "text/plain": [
       "array([ 1,  7, 13, 19])"
      ]
     },
     "execution_count": 97,
     "metadata": {},
     "output_type": "execute_result"
    }
   ],
   "source": [
    "a = np.arange(25).reshape(5,5)\n",
    "a[[0,1,2,3],[1,2,3,4]] "
   ]
  },
  {
   "cell_type": "code",
   "execution_count": 100,
   "id": "6dc1203f-60f6-4656-a83c-e5fef0615e96",
   "metadata": {},
   "outputs": [
    {
     "data": {
      "text/plain": [
       "array([[1, 2, 3],\n",
       "       [4, 5, 6]])"
      ]
     },
     "execution_count": 100,
     "metadata": {},
     "output_type": "execute_result"
    }
   ],
   "source": [
    "a = np.array([[1,2,3],[4,5,6]])\n",
    "a"
   ]
  },
  {
   "cell_type": "code",
   "execution_count": 101,
   "id": "170d9258-3ecf-46d9-b7ee-1913f233eea1",
   "metadata": {},
   "outputs": [
    {
     "data": {
      "text/plain": [
       "21"
      ]
     },
     "execution_count": 101,
     "metadata": {},
     "output_type": "execute_result"
    }
   ],
   "source": [
    "np.sum(a)"
   ]
  },
  {
   "cell_type": "code",
   "execution_count": 102,
   "id": "3c71b180-107a-4888-866e-fd23e7b1c24e",
   "metadata": {},
   "outputs": [
    {
     "data": {
      "text/plain": [
       "(2, 3)"
      ]
     },
     "execution_count": 102,
     "metadata": {},
     "output_type": "execute_result"
    }
   ],
   "source": [
    "a.shape"
   ]
  },
  {
   "cell_type": "code",
   "execution_count": 103,
   "id": "fa4f446d-1e9b-407c-86e6-0c9a77301d4c",
   "metadata": {},
   "outputs": [
    {
     "data": {
      "text/plain": [
       "array([5, 7, 9])"
      ]
     },
     "execution_count": 103,
     "metadata": {},
     "output_type": "execute_result"
    }
   ],
   "source": [
    "np.sum(a,axis=0)"
   ]
  },
  {
   "cell_type": "code",
   "execution_count": 104,
   "id": "9ea59684-c5e6-4353-b0b4-aab0129305ab",
   "metadata": {},
   "outputs": [
    {
     "data": {
      "text/plain": [
       "array([ 6, 15])"
      ]
     },
     "execution_count": 104,
     "metadata": {},
     "output_type": "execute_result"
    }
   ],
   "source": [
    "np.sum(a, axis=1)"
   ]
  },
  {
   "cell_type": "code",
   "execution_count": 105,
   "id": "ecbb31ce-aa52-487d-907e-52b74121dca4",
   "metadata": {},
   "outputs": [],
   "source": [
    "# axis = 0 행 axis = 1 열"
   ]
  },
  {
   "cell_type": "code",
   "execution_count": 106,
   "id": "4097836f-35b9-4290-b0f6-b7fa20af95e9",
   "metadata": {},
   "outputs": [
    {
     "data": {
      "text/plain": [
       "<function numpy.argmin(a, axis=None, out=None, *, keepdims=<no value>)>"
      ]
     },
     "execution_count": 106,
     "metadata": {},
     "output_type": "execute_result"
    }
   ],
   "source": [
    "np.argmin(a) #인덱스(a)가 뭐일때 최소"
   ]
  },
  {
   "cell_type": "code",
   "execution_count": null,
   "id": "a4ad86cf-66a1-48d3-a2e7-49d133f64699",
   "metadata": {},
   "outputs": [],
   "source": [
    "raveled = flatten 쭉펴준"
   ]
  },
  {
   "cell_type": "code",
   "execution_count": null,
   "id": "a0a06344-41cc-4466-b0e7-713dcefe816d",
   "metadata": {},
   "outputs": [],
   "source": [
    "indices  = index의 복수형"
   ]
  },
  {
   "cell_type": "code",
   "execution_count": 108,
   "id": "06eddb6f-e98a-40cf-9f61-b2ba8ee2e59c",
   "metadata": {},
   "outputs": [
    {
     "data": {
      "text/plain": [
       "array([[ 1,  2,  3,  4],\n",
       "       [ 5,  6,  7,  8],\n",
       "       [ 9, 10, 11, 12]])"
      ]
     },
     "execution_count": 108,
     "metadata": {},
     "output_type": "execute_result"
    }
   ],
   "source": [
    "a = np.arange(1,13).reshape(3,4)\n",
    "a"
   ]
  },
  {
   "cell_type": "code",
   "execution_count": 110,
   "id": "99de0000-349c-46ab-b491-f9990bcef944",
   "metadata": {},
   "outputs": [
    {
     "data": {
      "text/plain": [
       "(array([0, 1, 2, 2], dtype=int64), array([2, 1, 0, 3], dtype=int64))"
      ]
     },
     "execution_count": 110,
     "metadata": {},
     "output_type": "execute_result"
    }
   ],
   "source": [
    "np.where(a %3 == 0)"
   ]
  },
  {
   "cell_type": "markdown",
   "id": "19f1a7c6-df9f-44bb-9b65-d339a145b817",
   "metadata": {},
   "source": [
    "fancyindexing으로 나옴 (0,2) (1,1) (2,0) (2,3)"
   ]
  },
  {
   "cell_type": "code",
   "execution_count": 112,
   "id": "ee3585ac-e41f-482f-8872-753f9901c8cd",
   "metadata": {},
   "outputs": [
    {
     "data": {
      "text/plain": [
       "array([ 3,  6,  9, 12])"
      ]
     },
     "execution_count": 112,
     "metadata": {},
     "output_type": "execute_result"
    }
   ],
   "source": [
    "a[np.where(a%3==0)]"
   ]
  },
  {
   "cell_type": "code",
   "execution_count": 114,
   "id": "30a4465b-0775-4e1a-aefc-014550eba7ce",
   "metadata": {},
   "outputs": [
    {
     "data": {
      "text/plain": [
       "array([[225, 196, 169, 144, 121, 100],\n",
       "       [ 81,  64,  49,  36,  25,  16],\n",
       "       [  9,   4,   1,   0,   1,   4],\n",
       "       [  9,  16,  25,  36,  49,  64],\n",
       "       [ 81, 100, 121, 144, 169, 196]])"
      ]
     },
     "execution_count": 114,
     "metadata": {},
     "output_type": "execute_result"
    }
   ],
   "source": [
    "a = np.arange(-15, 15).reshape(5,6) **2\n",
    "a"
   ]
  },
  {
   "cell_type": "code",
   "execution_count": 116,
   "id": "2da9058b-5637-44e2-b34b-d2d86f2186a7",
   "metadata": {},
   "outputs": [
    {
     "data": {
      "text/plain": [
       "array([225,  81,   9,  64, 196])"
      ]
     },
     "execution_count": 116,
     "metadata": {},
     "output_type": "execute_result"
    }
   ],
   "source": [
    "np.max(a,axis=1)"
   ]
  },
  {
   "cell_type": "code",
   "execution_count": 118,
   "id": "4ebfe07e-6cc6-46f7-b22f-d12e517a871d",
   "metadata": {},
   "outputs": [
    {
     "data": {
      "text/plain": [
       "array([81., 76., 73., 72., 73., 76.])"
      ]
     },
     "execution_count": 118,
     "metadata": {},
     "output_type": "execute_result"
    }
   ],
   "source": [
    "np.mean(a,axis=0)"
   ]
  },
  {
   "cell_type": "markdown",
   "id": "82ba3fdf-c33b-43eb-ab47-1773ae5baa3c",
   "metadata": {},
   "source": [
    "### 파이썬이 느린이유"
   ]
  },
  {
   "cell_type": "code",
   "execution_count": null,
   "id": "97ae6783-fd2a-4b0f-8ec1-e99a635d1ada",
   "metadata": {},
   "outputs": [],
   "source": [
    "파이썬 넘파이 저장방식 달라\n",
    "넘파이는 c로 만들고 파이선은 아님\n"
   ]
  },
  {
   "cell_type": "code",
   "execution_count": null,
   "id": "4c12f253-66cb-4328-86d9-61be8385eafc",
   "metadata": {},
   "outputs": [],
   "source": [
    "넘파이는 몇개있는지 보고 8개가 들어갈 공간 찾아\n",
    "한꺼번에 8개 집어놔\n",
    "읽을때도 한번에 팍\n"
   ]
  },
  {
   "cell_type": "markdown",
   "id": "353edf19-7031-43b5-8b1a-694935b64973",
   "metadata": {},
   "source": [
    "8bit = 1byte"
   ]
  },
  {
   "cell_type": "code",
   "execution_count": 119,
   "id": "86ee9a21-da88-47c0-862e-8b91e9af1e81",
   "metadata": {},
   "outputs": [],
   "source": [
    "li = ( \"강한샘\", '곽유석', '현재은', '김경민', '권상지', '김기범', '김연준', '김인섭', '나윤찬', '남기훈', '도영현','장기영', '류소현', '문범식', '손수한', '옥윤호', '위지원', '윤민영', '장휘재', '조은정', '주기재', '황수림', 'miji') "
   ]
  },
  {
   "cell_type": "code",
   "execution_count": 120,
   "id": "e8c1bd7e-935c-4531-93e3-732b1921f5b7",
   "metadata": {},
   "outputs": [
    {
     "data": {
      "text/plain": [
       "('강한샘',\n",
       " '곽유석',\n",
       " '현재은',\n",
       " '김경민',\n",
       " '권상지',\n",
       " '김기범',\n",
       " '김연준',\n",
       " '김인섭',\n",
       " '나윤찬',\n",
       " '남기훈',\n",
       " '도영현',\n",
       " '장기영',\n",
       " '류소현',\n",
       " '문범식',\n",
       " '손수한',\n",
       " '옥윤호',\n",
       " '위지원',\n",
       " '윤민영',\n",
       " '장휘재',\n",
       " '조은정',\n",
       " '주기재',\n",
       " '황수림',\n",
       " 'miji')"
      ]
     },
     "execution_count": 120,
     "metadata": {},
     "output_type": "execute_result"
    }
   ],
   "source": [
    "li"
   ]
  },
  {
   "cell_type": "code",
   "execution_count": 121,
   "id": "7a6ec1ac-800c-440a-84c7-13e3afcc6594",
   "metadata": {},
   "outputs": [
    {
     "data": {
      "text/plain": [
       "'3번 문제는 ooo입니다'"
      ]
     },
     "execution_count": 121,
     "metadata": {},
     "output_type": "execute_result"
    }
   ],
   "source": [
    "#랜덤으로 입력받은 수만큼 사람을 중복되지 않게 뽑아서,\n",
    "\"1번 문제는 ooo입니다\"\n",
    "\"2번 문제는 ooo입니다\"\n",
    "\"3번 문제는 ooo입니다\""
   ]
  },
  {
   "cell_type": "code",
   "execution_count": null,
   "id": "0e8d66ca-361c-46ad-bb8c-dbefd32bef92",
   "metadata": {},
   "outputs": [
    {
     "data": {
      "text/plain": [
       "['주기재', '장휘재', '남기훈']"
      ]
     },
     "execution_count": 122,
     "metadata": {},
     "output_type": "execute_result"
    }
   ],
   "source": [
    "import random \n",
    "random.sample(li, 3)"
   ]
  },
  {
   "cell_type": "code",
   "execution_count": 128,
   "id": "63821113-589b-4901-bf4b-7d08a19e746a",
   "metadata": {},
   "outputs": [],
   "source": [
    "def ran(n):\n",
    "    a = random.sample(li,n)\n",
    "    for i in range(n):\n",
    "        print(f\"{i}번 문제는 {a[i]}입니다\")\n",
    "        "
   ]
  },
  {
   "cell_type": "code",
   "execution_count": 132,
   "id": "5925402d-fe6f-40aa-8904-b76e397e6d56",
   "metadata": {},
   "outputs": [
    {
     "name": "stdout",
     "output_type": "stream",
     "text": [
      "0번 문제는 김경민입니다\n",
      "1번 문제는 주기재입니다\n",
      "2번 문제는 남기훈입니다\n",
      "3번 문제는 곽유석입니다\n",
      "4번 문제는 김연준입니다\n",
      "5번 문제는 miji입니다\n",
      "6번 문제는 손수한입니다\n"
     ]
    }
   ],
   "source": [
    "ran(7)"
   ]
  },
  {
   "cell_type": "markdown",
   "id": "b4e2cfbb-eba2-428c-a9f2-197d28a32351",
   "metadata": {},
   "source": [
    "series란\n",
    "pandas의 1차원 자료구조"
   ]
  }
 ],
 "metadata": {
  "kernelspec": {
   "display_name": "Python 3 (ipykernel)",
   "language": "python",
   "name": "python3"
  },
  "language_info": {
   "codemirror_mode": {
    "name": "ipython",
    "version": 3
   },
   "file_extension": ".py",
   "mimetype": "text/x-python",
   "name": "python",
   "nbconvert_exporter": "python",
   "pygments_lexer": "ipython3",
   "version": "3.10.9"
  }
 },
 "nbformat": 4,
 "nbformat_minor": 5
}
