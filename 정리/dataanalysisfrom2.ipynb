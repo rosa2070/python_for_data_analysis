{
 "cells": [
  {
   "cell_type": "markdown",
   "id": "2e1ae396-5781-400d-ab8a-9230ef96fb8d",
   "metadata": {},
   "source": [
    "# 파이썬 언어의 기본, Ipython, 주피터노트북"
   ]
  },
  {
   "cell_type": "markdown",
   "id": "aacde5d6-f4e7-4bb2-afe5-86c650ff344d",
   "metadata": {},
   "source": [
    "## 2.1 파이썬 인터프리터"
   ]
  },
  {
   "cell_type": "markdown",
   "id": "be5c087d-f1f6-4b15-a6f1-2ea0cd7de702",
   "metadata": {},
   "source": [
    "파이썬 : ***인터프리터*** 언어<br>\n",
    "파이썬 인터프리터는 한 번에 하나의 명령어만 실행<br>\n",
    "표준 인터프리터는 명령행에서 python을 입력해 실행"
   ]
  },
  {
   "cell_type": "code",
   "execution_count": null,
   "id": "9ace8956-01b1-40a1-a7a1-f2b612c5f88c",
   "metadata": {},
   "outputs": [],
   "source": [
    "#Anaconda Prompt에서\n",
    "(base) C:\\Users\\user>python\n",
    "Python 3.10.9 | packaged by Anaconda, Inc. | (main, Mar  1 2023, 18:18:15) [MSC v.1916 64 bit (AMD64)] on win32\n",
    "Type \"help\", \"copyright\", \"credits\" or \"license\" for more information.\n",
    ">>> a = 5\n",
    ">>> print(a)\n",
    "5"
   ]
  },
  {
   "cell_type": "markdown",
   "id": "a8efc948-2b3b-4b89-9a45-50ac6ae5022c",
   "metadata": {},
   "source": [
    "```>>>``` : 파이썬 인터프리터의 ***프롬프트***, 여기에 코드 입력<br>\n",
    "```exit()``` : 파이썬 인터프리터를 종료하고 명령행 프롬프트로 돌아가기 (```Ctrl-D```로도 가능)"
   ]
  },
  {
   "cell_type": "markdown",
   "id": "7fed5211-1dc6-43d3-a986-b5d4177e01a8",
   "metadata": {},
   "source": [
    "파이썬 프로그램을 실행할 때는 첫 번째 인자로 .py 파일을 넘긴다. <br>\n",
    "예를 들어 다음 내용으로 hello_world.py를 작성했다고 하자."
   ]
  },
  {
   "cell_type": "code",
   "execution_count": null,
   "id": "09a9bc01-dab1-49b5-a698-6c9da7a29694",
   "metadata": {},
   "outputs": [],
   "source": [
    "#hello_world.py\n",
    "print('Hello world')"
   ]
  },
  {
   "cell_type": "markdown",
   "id": "4763b70b-12fb-48d9-aeb3-99c18eb00b5f",
   "metadata": {},
   "source": [
    "터미널에서 다음과 같이 실행 가능(hello_world.py 파일은 반드시 현재 작업하고 있는 터미널의 디렉터리에 존재해야 함)"
   ]
  },
  {
   "cell_type": "code",
   "execution_count": null,
   "id": "9f2acbee-f20a-44f9-ac96-97d94adda906",
   "metadata": {},
   "outputs": [],
   "source": [
    "(base) C:\\Users\\user\\dataanalysis>python hello_world.py\n",
    "Hello world"
   ]
  },
  {
   "cell_type": "markdown",
   "id": "16808f6f-58ea-4831-a088-2171f57f589c",
   "metadata": {},
   "source": [
    "일부 파이썬 개발자는 이런 식으로 파이썬 코드를 실행하며, 데이터 분석이나 과학 계산 파이썬 개발자들은 향상된 대화형 파이썬 인터프리터인 IPython 또는 IPython 프로젝트에서 만든 웹 기반의 ***주피터 노트북*** 사용<br>\n",
    "***%run*** 명령어를 사용하면 IPython은 지정된 파일의 코드를 같은 프로세스 안에서 실행하여 실행이 끝났을 때 그 결과를 인터랙티브하게 탐색할 수 있게 함"
   ]
  },
  {
   "cell_type": "code",
   "execution_count": null,
   "id": "5f3907d2-ccf6-4bb1-87a1-ae736f4359f9",
   "metadata": {},
   "outputs": [],
   "source": [
    "(base) C:\\Users\\user\\dataanalysis>ipython\n",
    "Python 3.10.9 | packaged by Anaconda, Inc. | (main, Mar  1 2023, 18:18:15) [MSC v.1916 64 bit (AMD64)]\n",
    "Type 'copyright', 'credits' or 'license' for more information\n",
    "IPython 8.10.0 -- An enhanced Interactive Python. Type '?' for help.\n",
    "\n",
    "In [1]: %run hello_world.py\n",
    "Hello world\n",
    "\n",
    "In [2]:"
   ]
  },
  {
   "cell_type": "markdown",
   "id": "d5a08235-9aac-422c-9acc-b0fce3c630bd",
   "metadata": {},
   "source": [
    "표준 프롬프트는 ```>>>```인 반면 IPython의 프롬프트는 ```In [2]:```와 같은 형식으로 번호가 붙는다."
   ]
  },
  {
   "cell_type": "markdown",
   "id": "7f989b36-fb1c-4f7c-9286-cc4b0a09428c",
   "metadata": {},
   "source": [
    "## 2.2 IPython 기초\n",
    "이 절에서는 IPython 셸과 주피터 노트북을 실행하는 방법, 주요 콘셉트를 소개"
   ]
  },
  {
   "cell_type": "markdown",
   "id": "c9ead5a6-1c2f-495f-b11c-c38791b76849",
   "metadata": {},
   "source": [
    "### 2.2.1 IPython 셸 실행하기"
   ]
  },
  {
   "cell_type": "markdown",
   "id": "06e9ce22-e6ca-4ab6-9d23-24b2c4af31f6",
   "metadata": {},
   "source": [
    "***IPython*** : 일반 파이썬 인터프리터를 실행시키듯이 ipython 명령어를 입력해 실행 가능"
   ]
  },
  {
   "cell_type": "code",
   "execution_count": null,
   "id": "86f3b3a2-360e-49a1-a2d6-40086303d3cd",
   "metadata": {},
   "outputs": [],
   "source": [
    "(base) C:\\Users\\user\\dataanalysis>ipython\n",
    "Python 3.10.9 | packaged by Anaconda, Inc. | (main, Mar  1 2023, 18:18:15) [MSC v.1916 64 bit (AMD64)]\n",
    "Type 'copyright', 'credits' or 'license' for more information\n",
    "IPython 8.10.0 -- An enhanced Interactive Python. Type '?' for help.\n",
    "\n",
    "In [1]: a =5\n",
    "\n",
    "In [2]: a\n",
    "Out[2]: 5"
   ]
  },
  {
   "cell_type": "markdown",
   "id": "153ed5a7-e89f-45c5-91f2-35b6164c8222",
   "metadata": {},
   "source": [
    "파이썬 코드를 입력하고 Enter키를 눌러서 실행 가능<br>\n",
    "파이썬에 그냥 변수 이름만 입력 : 그 객체의 문자열 표현 출력"
   ]
  },
  {
   "cell_type": "code",
   "execution_count": null,
   "id": "5c37236f-1d77-4abb-b119-5891a8d0d58f",
   "metadata": {},
   "outputs": [],
   "source": [
    "In [4]: import numpy as np\n",
    "\n",
    "In [5]: data = {i : np.random.randn() for i in range(7)}\n",
    "\n",
    "In [6]: data\n",
    "Out[6]:\n",
    "{0: 0.331797604568851,\n",
    " 1: -0.4453867577695362,\n",
    " 2: -0.32127346857737854,\n",
    " 3: 1.5857183379978113,\n",
    " 4: 0.3981765861368851,\n",
    " 5: 0.6683993999381282,\n",
    " 6: 1.578446053139218}"
   ]
  },
  {
   "cell_type": "markdown",
   "id": "1a45b5ff-653c-42b7-8201-63d30227d94b",
   "metadata": {},
   "source": [
    "첫 두 줄은 파이썬 코드인데, 두 번째 줄에서 data라는 이름의 변수를 생성하고 새로 생성한 파이썬 사전형(딕셔너리)를 참조하도록 함.<br>\n",
    "마지막 줄은 data 변수의 값 출력"
   ]
  },
  {
   "cell_type": "markdown",
   "id": "33708548-cc70-43fe-8876-61bed85a5a26",
   "metadata": {},
   "source": [
    "대부분의 파이썬 객체는 print를 이용한 보통의 출력 결과와는 달리 좀 더 읽기 편하거나 ***보기 좋은 형태***로 출력<br>\n",
    "위 예제를 표준 파이썬 인터프리터에서 보면 다소 읽기 불편한 형태로 출력"
   ]
  },
  {
   "cell_type": "code",
   "execution_count": null,
   "id": "86818217-985e-4f14-95a5-c1ad4c179c0c",
   "metadata": {},
   "outputs": [],
   "source": [
    "Python 3.10.9 | packaged by Anaconda, Inc. | (main, Mar  1 2023, 18:18:15) [MSC v.1916 64 bit (AMD64)] on win32\n",
    "Type \"help\", \"copyright\", \"credits\" or \"license\" for more information.\n",
    ">>> from numpy.random import randn\n",
    ">>> data = {i : randn() for i in range(7)}\n",
    ">>> print(data)\n",
    "{0: 0.20672553450387546, 1: 0.017326901197757646, 2: 0.8644699310714371, 3: -0.2444758473744509, 4: -0.6762926100850093, 5: -0.37695916931421003, 6: 2.096549305346934}"
   ]
  },
  {
   "cell_type": "markdown",
   "id": "61ed61a2-3855-458c-8d9d-6475fa0eeaa8",
   "metadata": {},
   "source": [
    "또한 IPython은 일부 코드(약간 개선된 복사/붙여넣기 기능을 통해) 아니면 전체 파이썬 스크립트를 쉽게 실행할 수 있는 기능 제공"
   ]
  },
  {
   "cell_type": "markdown",
   "id": "fe527b6b-0a32-4758-944f-d6f33fa5a6a6",
   "metadata": {},
   "source": [
    "### 2.2.2 주피터 노트북 실행하기"
   ]
  },
  {
   "cell_type": "markdown",
   "id": "8d495ffc-31ff-4dab-9589-1a62d2bc9eb8",
   "metadata": {},
   "source": [
    "주피터 프로젝트의 주요 구성요소 중 하나인 ***노트북***은 코드, 텍스트, 데이터 시각화를 비롯한 다른 출력을 대화형으로 구성할 수 있는 대화형 문서 형식<br>\n",
    "주피터 노트북은 어떤 프로그래밍 언어로도 작성 가능한 주피터 대화형 컴퓨팅 프로토콜의 구현체인 ***커널***과 상호작용<br>\n",
    "파이썬 주피터 커널은 IPython 시스템을 이용해 동작"
   ]
  },
  {
   "cell_type": "markdown",
   "id": "a62e146b-327a-4bb6-a827-9b8d66fcda4d",
   "metadata": {},
   "source": [
    "***jupyter notebookr*** 명령어 : 주피터 실행"
   ]
  },
  {
   "cell_type": "code",
   "execution_count": null,
   "id": "02f95ff2-faf0-4afe-877b-a064b539caf8",
   "metadata": {},
   "outputs": [],
   "source": [
    "(base) C:\\Users\\user>jupyter notebook\n",
    "[W 16:44:53.507 NotebookApp] Loading JupyterLab as a classic notebook (v6) extension.\n",
    "[I 2023-03-24 16:44:53.507 LabApp] JupyterLab extension loaded from C:\\Users\\user\\anaconda3\\lib\\site-packages\\jupyterlab\n",
    "[I 2023-03-24 16:44:53.507 LabApp] JupyterLab application directory is C:\\Users\\user\\anaconda3\\share\\jupyter\\lab\n",
    "[I 16:44:54.360 NotebookApp] The port 8888 is already in use, trying another port.\n",
    "[I 16:44:54.360 NotebookApp] Serving notebooks from local directory: C:\\Users\\user\n",
    "[I 16:44:54.360 NotebookApp] Jupyter Notebook 6.5.2 is running at:\n",
    "[I 16:44:54.360 NotebookApp] http://localhost:8889/?token=bcfad8e6562b26fb066b7f33964e85ece9f4c1f70e8a6533\n",
    "[I 16:44:54.360 NotebookApp]  or http://127.0.0.1:8889/?token=bcfad8e6562b26fb066b7f33964e85ece9f4c1f70e8a6533\n",
    "[I 16:44:54.360 NotebookApp] Use Control-C to stop this server and shut down all kernels (twice to skip confirmation).\n",
    "[C 16:44:54.388 NotebookApp]"
   ]
  },
  {
   "cell_type": "markdown",
   "id": "6d5c63d1-7ab6-40a7-bce3-a4f32bbd034f",
   "metadata": {},
   "source": [
    "대부분의 플랫폼에서는 --no--browser 옵션을 지정하지 않으면 자동으로 기본 웹 브라우저 실행<br>\n",
    "그렇지 않다면 노트북을 실행했을 때 출력되는 웹 주소(여기서는 ```http://localhost:8888/```)로 접속"
   ]
  },
  {
   "cell_type": "markdown",
   "id": "9f73ec7d-4c3a-453e-85fa-7778b723e3d6",
   "metadata": {},
   "source": [
    "### 2.2.3 탭 자동완성"
   ]
  },
  {
   "cell_type": "markdown",
   "id": "2823f050-cf82-4631-b866-2070d1aea190",
   "metadata": {},
   "source": [
    "겉으로 보기에 IPython은 표준 파이썬 인터프리터와는 조금 다르게 생김<br>\n",
    "표준 파이썬 셸에 비해 가장 두드러진 개선은 ***탭을 통한 자동완성 기능***으로, 대부분의 통합 개발 환경이나 대화형 데이터 분석 환경에 구현되어 있는 기능<br>\n",
    "셸에서 입력을 하는 동안 탭을 누르면 네임스페이스에서 그 시점까지 입력한 내용과 맞아떨어지는 변수(객체, 함수 등)를 자동으로 찾아줌"
   ]
  },
  {
   "cell_type": "code",
   "execution_count": null,
   "id": "0b86a13e-cd9d-4d73-9f19-00cc70289afd",
   "metadata": {},
   "outputs": [],
   "source": [
    "In [1]: an_apple = 27\n",
    "\n",
    "In [2]: an_example = 42\n",
    "\n",
    "In [3]: an<Tab>\n",
    "an_apple  and  an_example any()      "
   ]
  },
  {
   "cell_type": "markdown",
   "id": "26f7a80e-caa1-4d42-bc9a-26aa728c5a72",
   "metadata": {},
   "source": [
    "이 예제에서 IPython은 앞서 정의한 두 변수는 물론이고 파이썬 예약어인 ***and***와 내장 함수인 ***any***를 함께 보여주는 것을 확인 가능<br>\n",
    "물론 어떤 객체의 메서드나 속성 뒤에 마침표를 입력한 후 자동완성 기능을 활용할 수도 있음"
   ]
  },
  {
   "cell_type": "code",
   "execution_count": null,
   "id": "23a159cc-7654-487d-b8e7-d6b78469824b",
   "metadata": {},
   "outputs": [],
   "source": [
    "In [4]: b = [1,2,3]\n",
    "\n",
    "In [5]: b.<Tab>\n",
    "b.append()  b.count()   b.insert()  b.reverse()\n",
    "b.clear()   b.extend()  b.pop()     b.sort()\n",
    "b.copy()    b.index()   b.remove()"
   ]
  },
  {
   "cell_type": "markdown",
   "id": "6b3a85f7-5d03-46e0-9159-828991f6af3e",
   "metadata": {},
   "source": [
    "모듈도 똑같이 동작"
   ]
  },
  {
   "cell_type": "code",
   "execution_count": null,
   "id": "b990502d-bf5d-41c0-b917-76454e1cb8ec",
   "metadata": {},
   "outputs": [],
   "source": [
    "In [6]: import datetime\n",
    "\n",
    "In [7]: datetime.<Tab>\n",
    "datetime.date          datetime.MAXYEAR       datetime.time          datetime.tzinfo\n",
    "datetime.datetime      datetime.MINYEAR       datetime.timedelta\n",
    "datetime.datetime_CAPI sys           datetime.timezone"
   ]
  },
  {
   "cell_type": "markdown",
   "id": "6148ea89-b928-4a55-a1d9-f2505cdce880",
   "metadata": {},
   "source": [
    "주피터 노트북과 IPython 5.0 이상 버전에서는 자동완성 목록이 일반 텍스트 출력이 아닌 드롭다운 형식으로 나타남"
   ]
  },
  {
   "cell_type": "markdown",
   "id": "35cfc296-81de-4025-8204-c02c4932b224",
   "metadata": {},
   "source": [
    "***NOTE_*** 탭을 눌렀을 때 화면에 출력 결과가 너무 많으면 초보자는 헷갈릴 수 있는데, <br>\n",
    "IPython은 아예 _로 시작하는 내부 메서드와 속성을 제외한 결과를 보여줌<br>\n",
    "물론 먼저 _를 입력하면 해당 메서드와 속성 선택 가능<br>\n",
    "이런 메서드를 탭 자동완성 목록에 기본으로 넣고 싶다면 IPython 환경 설정에서 설정 가능<br>\n",
    "자세한 내용은 IPython 문서 참고\n"
   ]
  },
  {
   "cell_type": "markdown",
   "id": "f78a1c0d-ad66-4cba-b7c8-2c8bb2d0d7e8",
   "metadata": {},
   "source": [
    "탭 자동완성은 대화형 네임스페이스 검색과 객체 및 모듈 속성의 자동완성뿐만 아니라 <br>\n",
    "파일 경로를 입력(파이썬 문자열 안에서도)한 후 탭을 누르면 입력한 문자열에 맞는 파일 경로를 컴퓨터의 파일 시스템 안에서 찾아 보여줌."
   ]
  },
  {
   "cell_type": "code",
   "execution_count": null,
   "id": "3e92ca54-6f12-4987-a2e3-3c0fab106be9",
   "metadata": {},
   "outputs": [],
   "source": [
    "dfds"
   ]
  },
  {
   "cell_type": "code",
   "execution_count": null,
   "id": "83e97c87-c0a2-4d07-9cf6-5458066e3a5e",
   "metadata": {},
   "outputs": [],
   "source": [
    "In [8]: datasets/movielens/<Tab>\n",
    "datasets/movielens/movies.dat    datasets/movielens/README\n",
    "datasets/movielens/ratings.dat   datasets/movielens/users.dat"
   ]
  },
  {
   "cell_type": "code",
   "execution_count": null,
   "id": "3d9360a2-3bbb-4c51-a0bd-f2d1a773a73a",
   "metadata": {},
   "outputs": [],
   "source": [
    "나중에 살펴볼 %run 명령어(2.2.5절 참조)와 조합하면 키 입력 줄일 수 있음<br>\n",
    "또한 자동완성 기능을 사용하면 함수에서 이름을 가진 인자(=기호까지 포함해서)도 보여줌"
   ]
  },
  {
   "cell_type": "markdown",
   "id": "b065ea1b-e4c6-4d95-b568-7d12696cb267",
   "metadata": {},
   "source": [
    "### 2.2.4 자기관찰"
   ]
  },
  {
   "cell_type": "markdown",
   "id": "982623ef-bbe7-4e9a-8de3-260c8a313847",
   "metadata": {},
   "source": [
    "변수 이름 앞이나 뒤에 ? 기호를 붙이면 그 객체에 대한 일반 정보 출력"
   ]
  },
  {
   "cell_type": "code",
   "execution_count": null,
   "id": "a04749d4-2c3a-48a3-8bad-f71a2d281bc7",
   "metadata": {},
   "outputs": [],
   "source": [
    "In [11]: b?\n",
    "Type:        list\n",
    "String form: [1, 2, 3]\n",
    "Length:      3\n",
    "Docstring:\n",
    "Built-in mutable sequence.\n",
    "\n",
    "If no argument is given, the constructor creates a new empty list.\n",
    "The argument must be an iterable if specified."
   ]
  },
  {
   "cell_type": "code",
   "execution_count": null,
   "id": "41b35f60-ff93-4f2f-b0ee-c735f646d466",
   "metadata": {},
   "outputs": [],
   "source": [
    "In [14]: print?\n",
    "Docstring:\n",
    "print(value, ..., sep=' ', end='\\n', file=sys.stdout, flush=False)\n",
    "\n",
    "Prints the values to a stream, or to sys.stdout by default.\n",
    "Optional keyword arguments:\n",
    "file:  a file-like object (stream); defaults to the current sys.stdout.\n",
    "sep:   string inserted between values, default a space.\n",
    "end:   string appended after the last value, default a newline.\n",
    "flush: whether to forcibly flush the stream.\n",
    "Type:      builtin_function_or_method"
   ]
  },
  {
   "cell_type": "markdown",
   "id": "35b39afe-4179-49a2-b83e-b1336c8c6c1e",
   "metadata": {},
   "source": [
    "이 기능은 객체의 ***자기관찰***(인트로스펙션***introspection***)이라고 하는데, 만약 객체가 함수이거나 인스턴스 메서드라면 정의되어 있는 문서(docstring)를 출력<br>\n",
    "IPython이나 주피터에서 사용 가능한 아래와 같은 함수를 작성했다고 하자."
   ]
  },
  {
   "cell_type": "code",
   "execution_count": null,
   "id": "4f9b79bf-c2ab-4e90-922a-57ae012465fb",
   "metadata": {},
   "outputs": [],
   "source": [
    "def add_numbers(a,b):\n",
    "    \"\"\"\n",
    "    Add two numbers together\n",
    "    \n",
    "    Returns\n",
    "    -------\n",
    "    the_sum : type of arguments\n",
    "    \"\"\"\n",
    "    return a + b"
   ]
  },
  {
   "cell_type": "markdown",
   "id": "4c2f2f09-28ce-4cc1-bfef-3349e00211b2",
   "metadata": {},
   "source": [
    "?기호를 사용해 문서 출력"
   ]
  },
  {
   "cell_type": "code",
   "execution_count": null,
   "id": "b253c606-dd2f-4ab1-b6ad-9bb3afb8be4a",
   "metadata": {},
   "outputs": [],
   "source": [
    "In [16]: add_numbers?\n",
    "Signature: add_numbers(a, b)\n",
    "Docstring:\n",
    "Add two numbers together\n",
    "\n",
    "Returns\n",
    "-------\n",
    "the_sum : type of arguments\n",
    "File:      c:\\users\\user\\<ipython-input-15-0eb10578c9b9>\n",
    "Type:      function"
   ]
  },
  {
   "cell_type": "markdown",
   "id": "fb0a9b47-5236-43fc-b692-8aaaccf7a5a0",
   "metadata": {},
   "source": [
    "??를 사용하면 가능한 경우 함수의 소스 코드도 보여줌"
   ]
  },
  {
   "cell_type": "code",
   "execution_count": null,
   "id": "63b01c28-3d82-4de8-b0b4-ead5302288a1",
   "metadata": {},
   "outputs": [],
   "source": [
    "In [17]: add_numbers??\n",
    "Signature: add_numbers(a, b)\n",
    "Source:\n",
    "def add_numbers(a,b):\n",
    "    \"\"\"\n",
    "    Add two numbers together\n",
    "\n",
    "    Returns\n",
    "    -------\n",
    "    the_sum : type of arguments\n",
    "    \"\"\"\n",
    "    return a + b\n",
    "File:      c:\\users\\user\\<ipython-input-15-0eb10578c9b9>\n",
    "Type:      function"
   ]
  },
  {
   "cell_type": "markdown",
   "id": "c57e2ad8-91c0-4f8e-8031-484f7ca276b6",
   "metadata": {},
   "source": [
    "또한 ?는 표준 유닉스나 윈도우 명령행에서와 마찬가지로 IPython의 네임스페이스를 검색하는데 사용할 수도 있음.<br>\n",
    "와일드카드(*) 기호와 함께 사용한 문자와 일치하는 모든 이름을 보여줌<br>\n",
    "예를 들어 NumPy의 최상단 네임스페이스 안에서 load를 포함하는 모든 함수 목록을 가져올 수 있다."
   ]
  },
  {
   "cell_type": "code",
   "execution_count": null,
   "id": "0986de2f-f6a4-4af9-8681-6af7c8d285da",
   "metadata": {},
   "outputs": [],
   "source": [
    "In [19]: np.*load*?\n",
    "np.__loader__\n",
    "np.load\n",
    "np.loads\n",
    "np.loadtxt\n",
    "np.pkgload"
   ]
  },
  {
   "cell_type": "markdown",
   "id": "0ec5b9d5-71c1-4f5b-b2c2-bf4941d361d0",
   "metadata": {},
   "source": [
    "### 2.2.5 %run 명령어"
   ]
  },
  {
   "cell_type": "markdown",
   "id": "f4a71972-d733-4090-8d2d-8f71218146e8",
   "metadata": {},
   "source": [
    "***%run*** 명령어를 사용하면 IPython 세션 안에서 파이썬 프로그램 파일을 불러와서 실행 가능<br>\n",
    "다음과 같은 ipython_script_test.py 스크립트 파일이 있다고 하자."
   ]
  },
  {
   "cell_type": "code",
   "execution_count": null,
   "id": "c22a6e29-a8c4-48b6-ac1d-0970946d8f17",
   "metadata": {},
   "outputs": [],
   "source": [
    "# ipython_script_test.py\n",
    "def f(x,y,z):\n",
    "    return (x+y)/z\n",
    "\n",
    "a = 5\n",
    "b = 6\n",
    "c = 7.5\n",
    "\n",
    "result = f(a,b,c)"
   ]
  },
  {
   "cell_type": "markdown",
   "id": "c7e23d52-d087-49e4-9fc7-c27816e20de1",
   "metadata": {},
   "source": [
    "이 스크립트 파일은 %run 명령을 사용해 다음처럼 실행 가능"
   ]
  },
  {
   "cell_type": "code",
   "execution_count": null,
   "id": "8b46402c-d5e5-4955-bb07-01b73807e29f",
   "metadata": {},
   "outputs": [],
   "source": [
    "In [1]: %run ipython_script_test.py"
   ]
  },
  {
   "cell_type": "markdown",
   "id": "69419306-651e-49c8-b0b5-0c62b2a0e147",
   "metadata": {},
   "source": [
    "스크립트 파일은 ***빈 네임스페이스***(다른 변수가 선언되지 않았거나 아무것도 임포트되지 않은 상태)에서 실행되므로<br>\n",
    "명령행에서 python script.py 명령을 실행한 것과 동일하게 동작<br>\n",
    "스크립트 파일에 정의된 모든 변수(임포트, 함수, 전역 변수)는 실행된 후 IPython에서 접근 가능"
   ]
  },
  {
   "cell_type": "code",
   "execution_count": null,
   "id": "15dcbf8d-f910-4a7a-b6aa-e627db6a3337",
   "metadata": {},
   "outputs": [],
   "source": [
    "In [2]: c\n",
    "Out[2]: 7.5\n",
    "\n",
    "In [3]: result\n",
    "Out[3]: 1.4666666666666666"
   ]
  },
  {
   "cell_type": "markdown",
   "id": "bbd9bf33-e6db-4298-b45c-0ee38b5f1a84",
   "metadata": {},
   "source": [
    "만약 파이썬 스크립트에 명령행 인자(sys.argv에 저장되는)를 넘겨야 한다면<br>\n",
    "명령행에서 실행하는 것처럼 파일 경로 다음에 필요한 인자를 넘겨주면 된다."
   ]
  },
  {
   "cell_type": "markdown",
   "id": "b7a896e2-6cdb-4d2c-94a0-2817dc57a0fe",
   "metadata": {},
   "source": [
    "***NOTE_*** 실행하려는 스크립트 파일에서 대화형 IPython 네임스페이스에 미리 선언된 변수에 접근해야 한다면 %run 대신 ***%run -i*** 명령 사용"
   ]
  },
  {
   "cell_type": "markdown",
   "id": "5ca87915-4f79-4d3c-a463-8481e38ce27d",
   "metadata": {},
   "source": [
    "주피터 노트북에서는 스크립트 파일을 코드 셀로 불러오는 ***%load 매직함수***를 사용할 수도 있다."
   ]
  },
  {
   "cell_type": "code",
   "execution_count": null,
   "id": "d1e8203e-333d-427d-89f5-e0a02dbe75d2",
   "metadata": {},
   "outputs": [],
   "source": [
    "In [1]: %load ipython_script_test.py\n",
    "\n",
    "In [2]: # %load ipython_script_test.py\n",
    "   ...: def f(x,y,z):\n",
    "   ...:     return (x+y)/z\n",
    "   ...:\n",
    "   ...: a = 5\n",
    "   ...: b = 6\n",
    "   ...: c = 7.5\n",
    "   ...:\n",
    "   ...: result = f(a,b,c)"
   ]
  },
  {
   "cell_type": "markdown",
   "id": "fa3b28ed-4c6b-4e2d-a096-e4b508721f7e",
   "metadata": {},
   "source": [
    "#### 실행 중인 코드 중지하기"
   ]
  },
  {
   "cell_type": "markdown",
   "id": "7bc59d28-c429-48ba-92d3-168777e281ab",
   "metadata": {},
   "source": [
    "%run을 통해 스크립트가 실행되고 있거나 오랜 실행 시간이 필요한 코드가 실행되고 있는 중간에 Ctrl-C를 누르면 KeyboardInterrupt 예외 발생.<br>\n",
    "이 예외는 몇몇 특수한 경우를 제외한 거의 모든 파이썬 프로그램을 즉시 멈추도록 함."
   ]
  },
  {
   "cell_type": "markdown",
   "id": "fddd6088-a438-4760-944d-19cf846f1e6b",
   "metadata": {},
   "source": [
    "***CAUTION_***\n",
    "실행 중인 파이썬 코드가 컴파일된 확장 모듈에서 호출된 경우에는 Ctrl-C를 눌러도 프로그램이 즉각 멈추지 않는데, \n",
    "이런 경우에는 프로그램의 제어권이 파이썬 인터프리터로 되돌아올 때까지 기다리거나\n",
    "심각한 경우 운영체제의 작업 관리자 메뉴를 이용해 파이썬 프로젝트를 강제로 종료"
   ]
  },
  {
   "cell_type": "markdown",
   "id": "51f23cc6-e540-45c8-93eb-13e25cca2bc3",
   "metadata": {},
   "source": [
    "### 2.2.6 클립보드에 있는 코드 실행하기"
   ]
  },
  {
   "cell_type": "markdown",
   "id": "0db33073-4e3e-4011-8254-def55191b3d4",
   "metadata": {},
   "source": [
    "주피터 노트북을 사용하고 있다면 아무 코드 셀에나 코드를 붙여넣기해서 실행 가능.<br>\n",
    "IPython 셸에서도 클립보드의 내용을 실행하는 것이 가능.<br>\n",
    "다른 애플리케이션에서 사용 중이 다음 코드가 있다고 하자."
   ]
  },
  {
   "cell_type": "code",
   "execution_count": null,
   "id": "0bc031d7-8d33-4356-82d0-7e78fe0fcd41",
   "metadata": {},
   "outputs": [],
   "source": [
    "x = 5\n",
    "y = 7\n",
    "if x > 5:\n",
    "    x += 1\n",
    "    \n",
    "    y = 8"
   ]
  },
  {
   "cell_type": "markdown",
   "id": "12a347ff-5f0f-46e5-87f6-bd90545f0f32",
   "metadata": {},
   "source": [
    "이 경우 %paste나 %cpaste 매직함수 사용 가능.<br>\n",
    "%paste는 클립보드에 있는 텍스트를 단일 블록으로 실행"
   ]
  },
  {
   "cell_type": "markdown",
   "id": "e23f6d2b-ed18-4b5f-815d-94d8ccf89a55",
   "metadata": {},
   "source": [
    "%cpaste는 %paste와 유사하지만 코드를 붙여 넣을 때 특수한 프롬프트 제공"
   ]
  },
  {
   "cell_type": "markdown",
   "id": "c161bcaf-3e21-4b1c-8226-7fabce48a3cd",
   "metadata": {},
   "source": [
    "%cpaste 블록을 사용하면 실행 전에 코드를 마음껏 붙여 넣을 수 있다.<br>\n",
    "붙여 넣은 코드를 실행하기 전에 한 번 살펴보기 위해 %cpaste 기능 사용 가능<br>\n",
    "실수로 잘못된 코드를 붙여 넣었다면 Ctrl-C를 눌러 %cpaste 프롬프트를 빠져나올 수 있다."
   ]
  },
  {
   "cell_type": "markdown",
   "id": "9b0ff4de-02bc-451c-8f30-73096ddfd6e9",
   "metadata": {},
   "source": [
    "### 2.2.7 키보드 단축키"
   ]
  },
  {
   "cell_type": "markdown",
   "id": "861fc8c6-1596-4fb5-8a83-620e02d8a55e",
   "metadata": {},
   "source": [
    "- 나중 정리\n"
   ]
  },
  {
   "cell_type": "markdown",
   "id": "ccab2553-9b91-46aa-a73d-01c7b48a3e09",
   "metadata": {},
   "source": [
    "### 2.2.8 매직 명령어"
   ]
  },
  {
   "cell_type": "markdown",
   "id": "f6e13f11-f9d1-4452-95c9-0737ccba6f14",
   "metadata": {},
   "source": [
    "IPython은 파이썬 자체에는 존재하지 않는 '매직' 명령어라고 하는 여러 가지 특수한 명령어를 포함<br>\n",
    "***매직 명령어*** : 일반적인 작업이나 IPython 시스템의 동작을 쉽게 제어할 수 있도록 설계된 특수한 명령어<br>\n",
    "매직 명령어는 앞에 % 기호를 붙이는 형식<br>\n",
    "예시) %timeit 매직함수: IPython에서 행렬 곱셈 같은 코드가 실행된 시간을 측정"
   ]
  },
  {
   "cell_type": "code",
   "execution_count": null,
   "id": "dce2029a-a1a2-455c-894a-993b2a13da0b",
   "metadata": {},
   "outputs": [],
   "source": [
    "In [15]: a = np.random.randn(100,100)\n",
    "\n",
    "In [16]: %timeit np.dot(a,a)\n",
    "17.1 µs ± 372 ns per loop (mean ± std. dev. of 7 runs, 100,000 loops each)"
   ]
  },
  {
   "cell_type": "markdown",
   "id": "29d47b10-1418-4897-aaa9-597989032881",
   "metadata": {},
   "source": [
    "***매직 명령어*** : IPython 시스템 안에서 실행되는 명령행 프로그램\n",
    "많은 매직 명령어는 추가적인 옵션을 필요로 하며 ?를 이용해 전체 옵션을 살펴볼 수 있음"
   ]
  },
  {
   "cell_type": "markdown",
   "id": "34f76ee4-be4e-41a6-a70f-6b649fd6fa85",
   "metadata": {},
   "source": [
    "- 나중 정리"
   ]
  },
  {
   "cell_type": "markdown",
   "id": "0951dbb0-2a55-45bd-9016-fb5e56633fe8",
   "metadata": {},
   "source": [
    "### 2.2.9 matplotlib 통합"
   ]
  },
  {
   "cell_type": "markdown",
   "id": "38b813a1-eb5c-438b-aa2a-bf8be3646eb1",
   "metadata": {},
   "source": [
    "IPython이 분석 컴퓨팅 환경에서 널리 사용되고 있는 이유는 데이터 시각화를 위한 matplotlib이나 다른 사용자 인터페이스 라이브러리와 잘 통합되어 있기 때문<br>\n",
    "%matplotlib 매직 함수는 IPython 셸이나 주피터 노트북과 matplotlib 통합을 설정.<br>\n",
    "이 기능을 실행하지 않으면 노트북의 경우 그래프가 화면에 나타나지 않거나 셸의 경우 세션의 제어권을 뺏기게 되므로 중요"
   ]
  },
  {
   "cell_type": "markdown",
   "id": "fffe00c4-ccc1-4ce4-a066-d06327d4c12b",
   "metadata": {},
   "source": [
    "IPython 셸에서 %matplotlib을 실행하면 콘솔 세션을 방해받지 않고 여러 플롯 윈도우 생성 가능"
   ]
  },
  {
   "cell_type": "code",
   "execution_count": null,
   "id": "4cbd5378-5292-44e1-9afc-1b5191596f23",
   "metadata": {},
   "outputs": [],
   "source": [
    "In [17]: %matplotlib\n",
    "Using matplotlib backend: QtAgg"
   ]
  },
  {
   "cell_type": "markdown",
   "id": "c9db32a5-4bba-4927-abde-dfbbef53a7c6",
   "metadata": {},
   "source": [
    "주피터에서는 약간 다르다"
   ]
  },
  {
   "cell_type": "code",
   "execution_count": 6,
   "id": "cdb9675e-9ac4-43c0-84e6-2fb674a74246",
   "metadata": {},
   "outputs": [],
   "source": [
    "%matplotlib inline"
   ]
  },
  {
   "cell_type": "code",
   "execution_count": 8,
   "id": "b6df1418-f738-40a1-b68c-01a24f1ee177",
   "metadata": {},
   "outputs": [
    {
     "data": {
      "text/plain": [
       "[<matplotlib.lines.Line2D at 0x27dfc018d30>]"
      ]
     },
     "execution_count": 8,
     "metadata": {},
     "output_type": "execute_result"
    },
    {
     "data": {
      "image/png": "[encoded data removed]",
      "text/plain": [
       "<Figure size 640x480 with 1 Axes>"
      ]
     },
     "metadata": {},
     "output_type": "display_data"
    }
   ],
   "source": [
    "import numpy as np\n",
    "import matplotlib.pyplot as plt\n",
    "plt.plot(np.random.randn(50).cumsum())"
   ]
  },
  {
   "cell_type": "markdown",
   "id": "314845e7-071e-4c04-a37e-18d75b0d23e2",
   "metadata": {},
   "source": [
    "## 2.3 파이썬 기초"
   ]
  },
  {
   "cell_type": "markdown",
   "id": "47cceee8-da3d-42e0-9263-4e4f755b306b",
   "metadata": {},
   "source": [
    "이 절에서는 파이썬 프로그래밍의 ***기초 개념과 원리***를 살펴봄.<br>\n",
    "다음 장에서는 파이썬의 ***자료구조와 함수 그리고 내장 도구***를 좀 더 자세히 살펴봄."
   ]
  },
  {
   "cell_type": "markdown",
   "id": "4f70119c-a0b4-4bae-bd41-073d48fff904",
   "metadata": {},
   "source": [
    "### 2.3.1 시맨틱"
   ]
  },
  {
   "cell_type": "markdown",
   "id": "3832b3c0-77e8-436c-8ead-d431b8765662",
   "metadata": {},
   "source": [
    "파이썬은 가독성과 명료성 그리고 명백함을 강조.<br>\n",
    "어떤 사람은 파이썬을 '실행 가능한 의사코드'라고 표현"
   ]
  },
  {
   "cell_type": "markdown",
   "id": "b0229b08-1630-4f54-9f92-654e459dc175",
   "metadata": {},
   "source": [
    "#### 들여쓰기"
   ]
  },
  {
   "cell_type": "markdown",
   "id": "19d9e0b6-29ca-4666-9fbd-ec46d235cb6e",
   "metadata": {},
   "source": [
    "파이썬은 R, C++, 자바, 펄 같은 다른 많은 언어와는 다르게 중괄호 대신 공백 문자(탭이나 스페이스) 등을 사용해 코드를 구조화.<br>\n",
    "정렬 알고리즘의 for문을 살펴보자."
   ]
  },
  {
   "cell_type": "code",
   "execution_count": null,
   "id": "96b796dd-53f4-469e-974a-2c664a1ea546",
   "metadata": {},
   "outputs": [],
   "source": [
    "for x in array:\n",
    "    if x < pivot:\n",
    "        less.append(x)\n",
    "    else:\n",
    "        greater.append(x)"
   ]
  },
  {
   "cell_type": "markdown",
   "id": "c32e3c10-75bb-430f-a27e-713a3f2e7175",
   "metadata": {},
   "source": [
    "콜론 : 코드 블록의 ***시작***<br>\n",
    "블록이 끝날 때까지 블록 안에 있는 코드는 모두 ***같은*** 크기만큼 들여 써야 함"
   ]
  },
  {
   "cell_type": "markdown",
   "id": "91a3649a-f2af-4e06-bcbd-5936e3bd1c0c",
   "metadata": {},
   "source": [
    "파이썬 문장은 세미콜론으로 끝낼 필요 X.<br>\n",
    "하지만 하나의 줄에서 여러 문장을 구분하기 위해서는 세미콜론 사용"
   ]
  },
  {
   "cell_type": "code",
   "execution_count": null,
   "id": "dba4be25-0445-45fb-9dcd-a3d171e59363",
   "metadata": {},
   "outputs": [],
   "source": [
    "a=5; b=6; c=7;"
   ]
  },
  {
   "cell_type": "markdown",
   "id": "1df98771-2678-4bda-9492-00fc6bb9bbc4",
   "metadata": {},
   "source": [
    "한 줄에 여러 문장을 쓰는 것은 가독성을 해친다는 이유로 파이썬에서는 지양하는 습관"
   ]
  },
  {
   "cell_type": "markdown",
   "id": "205ac756-4d98-40d4-9ba4-fa1fa04a0606",
   "metadata": {},
   "source": [
    "#### 모든 것은 객체"
   ]
  },
  {
   "cell_type": "markdown",
   "id": "441a74a5-9691-4f0b-a83b-5633e4b071c3",
   "metadata": {},
   "source": [
    "파이썬 언어의 중요한 특징 중 하나는 ***객체 모델***의 일관성.<br>\n",
    "모든 숫자, 문자열, 자료구조, 함수, 클래스, 모듈 등은 파이썬 인터프리터에서 ***파이썬 객체***라고 하는 어떤 '상자'안에 저장됨.<br>\n",
    "각 객체는 연관된 ***자료형***(예를 들면 ***문자열***이나 ***함수***)과 내부 데이터를 가지고 있음<br>\n",
    "실제로 이 특징은 심지어는 함수마저도 하나의 객체로 간주함으로써 파이썬을 매우 유연한 언어로 만든다."
   ]
  },
  {
   "cell_type": "markdown",
   "id": "e7e1e830-9f6a-40e7-90a7-ef009703d6ec",
   "metadata": {},
   "source": [
    "#### 주석"
   ]
  },
  {
   "cell_type": "markdown",
   "id": "ea855bc8-e60f-4362-8e0e-59a46607dcac",
   "metadata": {},
   "source": [
    "```#``` 뒤에 오는 문자는 모두 파이썬 인터프리터에서 무시됨<br>\n",
    "이를 이용해 코드에서 주석을 달 수 있음.<br>\n",
    "또한 코드를 지우지 않고 ***실행만 되지 않도록*** 남겨두고 싶을 때도 활용"
   ]
  },
  {
   "cell_type": "code",
   "execution_count": null,
   "id": "4f80c02f-3f71-4952-a0c0-013217c5e308",
   "metadata": {},
   "outputs": [],
   "source": [
    "results = []\n",
    "for line in file_handle:\n",
    "    # 아래 코드는 실행되지 않음.\n",
    "    # if len(line) == 0:\n",
    "    #    continue\n",
    "    results.append(line.replace('foo','bar'))"
   ]
  },
  {
   "cell_type": "markdown",
   "id": "4e136b42-a3ca-4da6-822a-3a11c9f7e2f5",
   "metadata": {},
   "source": [
    "주석을 실행되는 코드 뒤에 두는 것을 선호하는 개발자들도 있는데 종종 유용함"
   ]
  },
  {
   "cell_type": "code",
   "execution_count": null,
   "id": "5b049494-b71c-4883-a4f8-75e41edf9b34",
   "metadata": {},
   "outputs": [],
   "source": [
    "print(\"Reached this line\") # 여기까지 확인"
   ]
  },
  {
   "cell_type": "markdown",
   "id": "1b4e396d-f115-48a1-ab96-2a5034c22f82",
   "metadata": {},
   "source": [
    "#### 함수와 객체 메서드 호출"
   ]
  },
  {
   "cell_type": "markdown",
   "id": "cd364fc3-8b62-4237-87d1-fcc73ff87481",
   "metadata": {},
   "source": [
    "함수는 괄호와 0개 이상의 인자를 전달해서 호출<br>\n",
    "반환되는 값은 선택적으로 변수에 대입"
   ]
  },
  {
   "cell_type": "code",
   "execution_count": null,
   "id": "07dce8f4-c913-4ed0-8a9a-280dfeec52c8",
   "metadata": {},
   "outputs": [],
   "source": [
    "result = f(x,y,z)\n",
    "g()"
   ]
  },
  {
   "cell_type": "markdown",
   "id": "1eab2272-dca9-40e1-b630-e4029b61aa55",
   "metadata": {},
   "source": [
    "파이썬의 거의 모든 객체는 함수를 포함하고 있는데 이를 ***메서드***라고 하며 객체의 내부 데이터에 접근 가능<br>\n",
    "메서드는 다음 문법으로 호출 \n"
   ]
  },
  {
   "cell_type": "code",
   "execution_count": null,
   "id": "8363b02e-8393-443b-b103-7494b35c6a4c",
   "metadata": {},
   "outputs": [],
   "source": [
    "obj.some_method(x,y,z)"
   ]
  },
  {
   "cell_type": "markdown",
   "id": "91294332-48c0-45ae-9641-69a39ac7d1b9",
   "metadata": {},
   "source": [
    "함수는 ***순서별*** 인자와 ***키워드*** 인자 동시에 받기 가능"
   ]
  },
  {
   "cell_type": "code",
   "execution_count": null,
   "id": "c0ef7454-290e-4b82-a443-aba8af504004",
   "metadata": {},
   "outputs": [],
   "source": [
    "result = f(a,b,c,d=5, e='foo')"
   ]
  },
  {
   "cell_type": "markdown",
   "id": "ab4ee864-d5c2-4516-8ebb-6b2ee7341131",
   "metadata": {},
   "source": [
    "#### 변수와 인자 전달"
   ]
  },
  {
   "cell_type": "markdown",
   "id": "ae15adcb-b482-440e-9d8a-773f4b28c803",
   "metadata": {},
   "source": [
    "파이썬에서 변수(혹은 ***이름***)에 값을 대입하면 대입 연산자 오른쪽에 있는 객체에 대한 ***참조*** 생성<br>\n",
    "정수가 담긴 리스트를 생각해보자."
   ]
  },
  {
   "cell_type": "code",
   "execution_count": null,
   "id": "8b26d60a-2291-4147-8953-380701a2c227",
   "metadata": {},
   "outputs": [],
   "source": [
    "In [18]: a =[1,2,3]"
   ]
  },
  {
   "cell_type": "markdown",
   "id": "43ce3a7b-d916-43de-a151-9065923ed251",
   "metadata": {},
   "source": [
    "이제 a를 b라는 변수에 대입한다고 가정"
   ]
  },
  {
   "cell_type": "code",
   "execution_count": null,
   "id": "290bd351-2fa1-4be7-b5d7-dd9208b0f951",
   "metadata": {},
   "outputs": [],
   "source": [
    "In [19]: b = a"
   ]
  },
  {
   "cell_type": "markdown",
   "id": "29673a6d-da14-4f7e-8972-bd352290b687",
   "metadata": {},
   "source": [
    "어떤 언어에선느 이렇게 대입하면 [1,2,3]이라는 데이터가 복사됨. <br>\n",
    "파이썬에서는 a와 b가 실제로는 같은 객체인 리스트 [1,2,3]을 가리키고 있다. <br>\n",
    "이를 확인하기 위해 a에 원소 추가 후 b 확인"
   ]
  },
  {
   "cell_type": "code",
   "execution_count": null,
   "id": "fcf7e4a1-ef2c-4667-8b94-d5c9d16b4e00",
   "metadata": {},
   "outputs": [],
   "source": [
    "In [20]: a.append(4)\n",
    "\n",
    "In [21]: b\n",
    "Out[21]: [1, 2, 3, 4]"
   ]
  },
  {
   "cell_type": "markdown",
   "id": "2b7ddb94-2dfb-42b0-8bbc-06795337b1e0",
   "metadata": {},
   "source": [
    "파이썬에서 참조에 대한 의미와 언제, 어떻게, 왜, 데이터가 복사되는지 이해하는 것은 대규모 데이터셋을 다룰 때 특히 중요"
   ]
  },
  {
   "cell_type": "markdown",
   "id": "aa31e556-cb19-4907-a2a0-9142e40e1d08",
   "metadata": {},
   "source": [
    "***NOTE_*** 변수에 값을 할당하는 것은 이름을 객체에 연결하는 것이므로 ***바인딩***이라고 부름.<br>\n",
    "값이 할당된 변수 이름을 때때로 바운드 변수라고 부르기도 함"
   ]
  },
  {
   "cell_type": "markdown",
   "id": "7d09e257-9c9b-4980-8ca1-ddf8966ebf7e",
   "metadata": {},
   "source": [
    "함수에 객체를 인자로 넘기면 새로운 지역 변수가 생성되고 원래 객체를 복사하지 않고 참조만 하게 됨.<br>\n",
    "만일 함수 안에 있는 어떤 변수에 새로운 객체를 연결한다면 함수 바깥에는 영향을 끼치지 않음.<br>\n",
    "그러므로 함수에서 인자의 내부 값을 변경하는 것이 가능<br>\n",
    "다음과 같은 함수가 있다고 하자."
   ]
  },
  {
   "cell_type": "code",
   "execution_count": null,
   "id": "5e399f7a-8a06-4a3f-b8cd-2379c25e07c3",
   "metadata": {},
   "outputs": [],
   "source": [
    "def append_element(some_list, element):\n",
    "    some_list.append(element)"
   ]
  },
  {
   "cell_type": "markdown",
   "id": "e29b9404-18bd-46a1-a53c-439128a76fb9",
   "metadata": {},
   "source": [
    "이 함수의 실행 결과는 다음과 같다."
   ]
  },
  {
   "cell_type": "code",
   "execution_count": null,
   "id": "d253f740-b421-4448-b91d-9e411053dd23",
   "metadata": {},
   "outputs": [],
   "source": [
    "In [2]: data = [1,2,3]\n",
    "\n",
    "In [3]: append_element(data,4)\n",
    "\n",
    "In [4]: data\n",
    "Out[4]: [1, 2, 3, 4]"
   ]
  },
  {
   "cell_type": "markdown",
   "id": "61301dd6-2bde-49f6-a698-2708590ceea0",
   "metadata": {},
   "source": [
    "#### 동적 참조와 강한 타입"
   ]
  },
  {
   "cell_type": "markdown",
   "id": "dd5983fe-f2ae-40b5-8216-3d77462933f6",
   "metadata": {},
   "source": [
    "자바나 C++ 같은 컴파일 언어와는 달리 파이썬에서는 객체 ***참조***에 타입이 관여하지 않음.<br>\n",
    "아래 코드는 전혀 문제되지 X"
   ]
  },
  {
   "cell_type": "code",
   "execution_count": null,
   "id": "cd890e31-b2a0-4837-b9c3-d963e93947a0",
   "metadata": {},
   "outputs": [],
   "source": [
    "In [7]: a = 5\n",
    "\n",
    "In [8]: type(a)\n",
    "Out[8]: int\n",
    "\n",
    "In [9]: a = 'foo'\n",
    "\n",
    "In [10]: type(a)\n",
    "Out[10]: str"
   ]
  },
  {
   "cell_type": "markdown",
   "id": "0e145c33-4063-4851-96ba-8360a44003cf",
   "metadata": {},
   "source": [
    "변수 : 특정한 네임스페이스 안에 존재하는 객체에 대한 이름<br>\n",
    "자료형에 대한 정보는 객체 자체에 있음.<br>\n",
    "어떤 사람은 파이선을 성급하게 '자료형이 없는 언어'로 단정하는데 이는 사실이 아님.<br>\n",
    "다음 예제를 보자."
   ]
  },
  {
   "cell_type": "code",
   "execution_count": null,
   "id": "90863240-de35-4c9a-bab0-c2ecd2887b45",
   "metadata": {},
   "outputs": [],
   "source": [
    "In [11]: '5' + 5\n",
    "---------------------------------------------------------------------------\n",
    "TypeError                                 Traceback (most recent call last)\n",
    "Cell In[11], line 1\n",
    "----> 1 '5' + 5\n",
    "\n",
    "TypeError: can only concatenate str (not \"int\") to str"
   ]
  },
  {
   "cell_type": "markdown",
   "id": "20397933-a427-4755-b91c-5d782210685e",
   "metadata": {},
   "source": [
    "비주얼베이직 같은 언어 : 문자열 '5'가 묵시적을 정수형으로 변환(***캐스팅***)되어서 10이라는 결과를 냄<br>\n",
    "자바스크립트 같으 언어 : 정수 5가 문자열로 변환되어 '55'라는 문자열 반환<br>\n",
    "이런 측면에서 볼 때 파이썬에서 모든 객체는 특정한 자료형(또는 ***클래스***)를 가지며<br>\n",
    "다음과 같은 어떤 명백한 상황에서만 묵시적인 변환을 수행하는 자료형을 구분하는 **강한 타입***의 언어"
   ]
  },
  {
   "cell_type": "code",
   "execution_count": null,
   "id": "5bf94838-2b21-41bc-824e-f84c49996334",
   "metadata": {},
   "outputs": [],
   "source": [
    "In [12]: a = 4.5\n",
    "\n",
    "In [13]: b = 2\n",
    "\n",
    "In [14]: print('a is {0}, b is {1}'.format(type(a), type(b)))\n",
    "a is <class 'float'>, b is <class 'int'>\n",
    "\n",
    "In [15]: a/b\n",
    "Out[15]: 2.25"
   ]
  },
  {
   "cell_type": "markdown",
   "id": "efbbe867-7cfd-4d7d-ae5a-b1e3c2f37d10",
   "metadata": {},
   "source": [
    "객체의 자료형을 아는 것은 중요하며 다양한 종류의 입력을 처리할 수 있는 함수 작성 시 유용.<br>\n",
    "isinstance 함수를 이용하면 어떤 객체가 무슨 자료형인지 검사 가능"
   ]
  },
  {
   "cell_type": "code",
   "execution_count": null,
   "id": "cac2c8a9-e902-4b60-8b3c-72fbe6e535d9",
   "metadata": {},
   "outputs": [],
   "source": [
    "In [16]: a = 5\n",
    "\n",
    "In [17]: isinstance(a, int)\n",
    "Out[17]: True"
   ]
  },
  {
   "cell_type": "markdown",
   "id": "777c1f48-0026-4167-9ddc-4cf85169c890",
   "metadata": {},
   "source": [
    "isinstance는 튜플을 넘겨서 객체의 자료형이 주어진 튜플 중 하나인지 검사"
   ]
  },
  {
   "cell_type": "code",
   "execution_count": null,
   "id": "274c29c5-53a4-4691-9eed-e6883af4edd5",
   "metadata": {},
   "outputs": [],
   "source": [
    "In [19]: isinstance(a, (int, float))\n",
    "Out[19]: True\n",
    "\n",
    "In [20]: isinstance(b, (int, float))\n",
    "Out[20]: True"
   ]
  },
  {
   "cell_type": "markdown",
   "id": "c6d1bfbd-4d56-4bf1-a9d3-b59f332179f2",
   "metadata": {},
   "source": [
    "#### 속성과 메서드"
   ]
  },
  {
   "cell_type": "markdown",
   "id": "92d2c621-bdd0-42d3-99c0-a8e473851b18",
   "metadata": {},
   "source": [
    "파이썬에서 객체는 일반적으로 ***속성***(객체 내부에 저장되는 다른 파이썬 객체)과 ***메서드***(객체의 내부 데이터에 접근 가능한 함수)를 가진다.<br>\n",
    "속성과 메서드는 obj.attribute_name 문법으로 접근 가능"
   ]
  },
  {
   "cell_type": "code",
   "execution_count": null,
   "id": "2bdde2ef-cf5b-4909-bf07-55df0e11554f",
   "metadata": {},
   "outputs": [],
   "source": [
    "In [21]: a = 'foo'\n",
    "\n",
    "In [22]: a.<Tab>\n",
    "capitalize()   encode()       format()       isalpha()      isidentifier() isspace()      ljust()\n",
    "casefold()     endswith()     format_map()   isascii()      islower()      istitle()      lower()\n",
    "center()       expandtabs()   index()        isdecimal()    isnumeric()    isupper()      lstrip()       \n",
    "count()        find()         isalnum()      isdigit()      isprintable()  join()         maketrans()"
   ]
  },
  {
   "cell_type": "markdown",
   "id": "668bd3ee-5845-4eb2-84ed-d6d3126957e7",
   "metadata": {},
   "source": [
    "속성과 메서드는 getattr 함수를 통해 이름으로 접근하는 것도 가능"
   ]
  },
  {
   "cell_type": "code",
   "execution_count": null,
   "id": "52f720d4-3815-46c3-94de-bea922cc41e1",
   "metadata": {},
   "outputs": [],
   "source": [
    "In [23]: getattr(a, 'split')\n",
    "Out[23]: <function str.split(sep=None, maxsplit=-1)>"
   ]
  },
  {
   "cell_type": "markdown",
   "id": "579d4744-f4e3-4bd5-b5cb-fbe10a6b10f4",
   "metadata": {},
   "source": [
    "#### 덕 타이핑"
   ]
  },
  {
   "cell_type": "markdown",
   "id": "480420bd-76a9-4c2b-b77f-e493bc2d7e9d",
   "metadata": {},
   "source": [
    "***덕타이핑*** : 객체의 자료형에는 관심이 없고 그 객체가 어떤 메서드나 행동을 지원하는지만 알고싶은 경우 <br>\n",
    "이는 '만일 오리처럼 걷고 오리처럼 꽥꽥 운다면 그것은 오리다'라는 의미로 지어진 이름<br>\n",
    "예를 들어 어떤 객체가 ***이터레이터***를 구현했다면 순회가 가능한 객체인지 검증 가능<br>\n",
    "이는 대부분의 객체의 경우 __iter__라는 '매직 메서드'를 가지고 있는지 확인하면 된다.<br>\n",
    "좀 더 나은 방법은 iter 함수를 이용해 검사"
   ]
  },
  {
   "cell_type": "code",
   "execution_count": null,
   "id": "aff90a67-7b40-43a5-a053-d387de4b306f",
   "metadata": {},
   "outputs": [],
   "source": [
    "def isiterable(obj):\n",
    "    try:\n",
    "        iter(obj)\n",
    "        return True\n",
    "    except TypeError: # iterable 객체 아님\n",
    "        return False"
   ]
  },
  {
   "cell_type": "markdown",
   "id": "e778691d-7e5c-4ff0-9e67-05411999356f",
   "metadata": {},
   "source": [
    "이 함수는 문자열뿐만 아니라 여러 개의 값을 저장하는 대부분의 파이썬 자료형에 대해 True를 반환"
   ]
  },
  {
   "cell_type": "code",
   "execution_count": null,
   "id": "150864dc-25bf-4f77-b37a-316ff8fdfa40",
   "metadata": {},
   "outputs": [],
   "source": [
    "In [27]: isiterable('a string')\n",
    "Out[27]: True\n",
    "\n",
    "In [28]: isiterable([1,2,3])\n",
    "Out[28]: True\n",
    "\n",
    "In [30]: isiterable(5)\n",
    "Out[30]: False"
   ]
  },
  {
   "cell_type": "markdown",
   "id": "beed96cb-6119-49fc-85b2-510a2dd20bfc",
   "metadata": {},
   "source": [
    "이 기능은 보통 리스트나 튜플, ndarray처럼 순차적인 자료구조를 다루는 함수를 작성할 때 주로 사용<br>\n",
    "이터레이터를 처리할 때도 사용<br>\n",
    "먼저 객체가 리스트(또는 NumPy 배열)인지 검사해 그렇지 않을 경우 인자 변환"
   ]
  },
  {
   "cell_type": "code",
   "execution_count": null,
   "id": "646ca674-ba48-4e47-b43e-79e29846f6cb",
   "metadata": {},
   "outputs": [],
   "source": [
    "if not isinstance(x,list) and isiterable(x):\n",
    "    x = list(x)"
   ]
  },
  {
   "cell_type": "markdown",
   "id": "c4d7e0a6-e3d3-40e9-ba89-7ad02ee91c88",
   "metadata": {},
   "source": [
    "#### 모듈 임포트"
   ]
  },
  {
   "cell_type": "markdown",
   "id": "f8421e42-9e49-4dc8-904a-dbf6d77fa219",
   "metadata": {},
   "source": [
    "파이썬에서 ***모듈***은 간단히 파이썬 코드가 담긴 .py 파일<br>\n",
    "다음과 같은 모듈이 있다고 하자."
   ]
  },
  {
   "cell_type": "code",
   "execution_count": null,
   "id": "8c4cac06-9c2a-4da2-8481-fd3b292c62f1",
   "metadata": {},
   "outputs": [],
   "source": [
    "# some_module.py\n",
    "PI = 3.14159\n",
    "\n",
    "def f(x):\n",
    "    return x+2\n",
    "def g(a,b):\n",
    "    return a+b"
   ]
  },
  {
   "cell_type": "markdown",
   "id": "c8f07acd-268e-469f-90b4-deaf236c16a4",
   "metadata": {},
   "source": [
    "some_module.py에 정의된 변수와 함수에 접근하려면 같은 디렉터리에 있는 다른 파일에서 다음과 같이 작성"
   ]
  },
  {
   "cell_type": "code",
   "execution_count": null,
   "id": "c6d32b74-33aa-4ca3-819f-5ef97ca41191",
   "metadata": {},
   "outputs": [],
   "source": [
    "import some_module\n",
    "result = some_module.f(5)\n",
    "pi = some_module.PI"
   ]
  },
  {
   "cell_type": "code",
   "execution_count": null,
   "id": "d94478bd-81b9-4a7d-b548-8db1b53dac6a",
   "metadata": {},
   "outputs": [],
   "source": [
    "또는 다음과 같이 작성"
   ]
  },
  {
   "cell_type": "code",
   "execution_count": null,
   "id": "e34dc509-0fa1-4275-a812-289940676d00",
   "metadata": {},
   "outputs": [],
   "source": [
    "from some_module import f, g, PI\n",
    "result = g(5, PI)"
   ]
  },
  {
   "cell_type": "markdown",
   "id": "467bdf81-c7c4-4323-ac2d-7052c3b5993e",
   "metadata": {},
   "source": [
    "as 예약어를 사용하면 모듈을 다른 이름으로 임포트 가능"
   ]
  },
  {
   "cell_type": "code",
   "execution_count": null,
   "id": "92fb6c67-e787-4249-9861-1ba44378ae49",
   "metadata": {},
   "outputs": [],
   "source": [
    "import some_module as sm\n",
    "from some_module import PI as pi, g as gf\n",
    "\n",
    "r1 = sm.f(pi)\n",
    "r2 = gf(6, pi)"
   ]
  },
  {
   "cell_type": "markdown",
   "id": "ded1726a-b2ce-4c43-a45a-5c50269ed894",
   "metadata": {},
   "source": [
    "#### 이항 연산자와 비교문"
   ]
  },
  {
   "cell_type": "code",
   "execution_count": null,
   "id": "5a902848-ad4d-4424-a7ce-41745601522a",
   "metadata": {},
   "outputs": [],
   "source": [
    "In [31]: 5 -7\n",
    "Out[31]: -2\n",
    "\n",
    "In [32]: 12 + 21.5\n",
    "Out[32]: 33.5\n",
    "\n",
    "In [33]: 5 <= 2\n",
    "Out[33]: False"
   ]
  },
  {
   "cell_type": "markdown",
   "id": "ae4c9e03-5828-40d5-8777-df33c379d2f5",
   "metadata": {},
   "source": [
    "is 예약어 : 두 참조 변수가 같은 객체를 가리키고 있는지 검사 <br>\n",
    "is not : 두 객체가 같지 않은지 검사"
   ]
  },
  {
   "cell_type": "code",
   "execution_count": null,
   "id": "2e8f9961-b8a4-4940-9ab0-f7094e3185e6",
   "metadata": {},
   "outputs": [],
   "source": [
    "In [34]: a = [1,2,3]\n",
    "\n",
    "In [35]: b = a\n",
    "\n",
    "In [36]: c = list(a)\n",
    "\n",
    "In [37]: a is b\n",
    "Out[37]: True\n",
    "\n",
    "In [38]: a is not c\n",
    "Out[38]: True"
   ]
  },
  {
   "cell_type": "markdown",
   "id": "0547858b-07a3-4751-86d2-eb43e85bc0c1",
   "metadata": {},
   "source": [
    "list는 항상 새로운 파이썬 리스트를 생성하므로 c는 a와 구별됨.<br>\n",
    "is로 비교하는 것과 == 연산자로 비교하는 것은 같지 않다. <br>\n",
    "이 경우 == 연산자의 결과는 다음과 같다."
   ]
  },
  {
   "cell_type": "code",
   "execution_count": null,
   "id": "e1472c12-ac14-4d01-8733-29f7bfb93fe0",
   "metadata": {},
   "outputs": [],
   "source": [
    "In [39]: a == c\n",
    "Out[39]: True"
   ]
  },
  {
   "cell_type": "markdown",
   "id": "9a7a49cd-b3b6-48ec-ba9e-2569a7504375",
   "metadata": {},
   "source": [
    "is와 is not은 변수가 None인지 검사하기 위해 흔히 사용하는데, None 인스턴스는 하나만 존재하기 때문"
   ]
  },
  {
   "cell_type": "code",
   "execution_count": null,
   "id": "f6e666be-aa69-4cef-850b-7ea1e3dbfccc",
   "metadata": {},
   "outputs": [],
   "source": [
    "In [40]: a = None\n",
    "\n",
    "In [41]: a is None\n",
    "Out[41]: True"
   ]
  },
  {
   "cell_type": "markdown",
   "id": "834b2ebc-1e17-42ba-962a-d6ca42bf1e5b",
   "metadata": {},
   "source": [
    "#### 뮤터블, 이뮤터블 객체"
   ]
  },
  {
   "cell_type": "markdown",
   "id": "f098d10f-8366-432d-9035-0b62c535e6e9",
   "metadata": {},
   "source": [
    "파이썬에서 리스트, 사전, NumPy 배열 또는 사용자 정의 클래스 같은 대부분의 객체는 변경 가능(뮤터블)<br>\n",
    "이 말은 객체나 값의 내용을 바꿀 수 있다는 뜻"
   ]
  },
  {
   "cell_type": "code",
   "execution_count": null,
   "id": "addbe7dc-09f1-4187-ad80-78a2c380926e",
   "metadata": {},
   "outputs": [],
   "source": [
    "In [42]: a_list = ['foo', 2, [4,5]]\n",
    "\n",
    "In [43]: a_list[2] = (3,4)\n",
    "\n",
    "In [44]: a_list\n",
    "Out[44]: ['foo', 2, (3, 4)]"
   ]
  },
  {
   "cell_type": "markdown",
   "id": "85a441c3-75fa-4993-9fa0-8f7b91b8104f",
   "metadata": {},
   "source": [
    "문자나 튜플은 변경 불가(이뮤터블)"
   ]
  },
  {
   "cell_type": "code",
   "execution_count": null,
   "id": "0304ca73-6a8c-4abb-a2dc-f2dafd1f7560",
   "metadata": {},
   "outputs": [],
   "source": [
    "In [45]: a_tuple = (3,5,(4,5))\n",
    "\n",
    "In [46]: a_tuple[1] = 'four'\n",
    "---------------------------------------------------------------------------\n",
    "TypeError                                 Traceback (most recent call last)\n",
    "Cell In[46], line 1\n",
    "----> 1 a_tuple[1] = 'four'\n",
    "\n",
    "TypeError: 'tuple' object does not support item assignment"
   ]
  },
  {
   "cell_type": "markdown",
   "id": "6c47f2fe-79be-4393-90e5-4560b69b3fcb",
   "metadata": {},
   "source": [
    "객체는 변경할 수 있으니 언제든지 변경해도 된다는 의미는 아님을 기억하자.<br>\n",
    "그런 방식의 사용은 프로그래밍에서 ***부작용***을 유발<br>\n",
    "어떤 함수를 작성할 때 발생할 수 있는 부작용에 대해 함수의 문서나 주석으로 명시적으로 남겨두어야 함.<br>\n",
    "가능하면 변경 가능한 객체를 많이 사용하더라도 부작용을 피하고 ***불역성***을 잘 활용하기 추천"
   ]
  },
  {
   "cell_type": "markdown",
   "id": "17256b22-1ce5-4e0e-b5f6-af39124f6917",
   "metadata": {},
   "source": [
    "### 2.3.2 스칼라형"
   ]
  },
  {
   "cell_type": "code",
   "execution_count": null,
   "id": "9bcc2ec5-d725-4b17-b346-4e22f7802276",
   "metadata": {},
   "outputs": [],
   "source": [
    "파이썬은 숫자 데이터와 문자열, 불리언값(True 또는 False) 그리고 날짜와 시간을 다룰 수 있는 몇몇 ***내장 자료형***을 제공<br>\n",
    "***스칼라 타입*** : 이런 '단일 값'을 담는 자료형"
   ]
  },
  {
   "cell_type": "markdown",
   "id": "11ccdd89-77ee-4461-9b35-6dd689a98e0f",
   "metadata": {},
   "source": [
    "- 표준 파이썬 스칼라 자료형"
   ]
  },
  {
   "cell_type": "markdown",
   "id": "7bfc5c45-2cbd-4034-836a-8be2bbd71342",
   "metadata": {},
   "source": [
    "|자료형|설명|\n",
    "|---|---|\n",
    "|None|파이썬의 'null' 값(하나의 유일한 None 인스턴스만 존재)|\n",
    "|str|문자열 자료형.유니코드(UTF-8 인코딩) 문자열|\n",
    "|bytes|Raw ASCII 바이트(또는 바이트로 인코딩된 유니코드)|\n",
    "|float|배정밀도(64비트) 부동소수점수. double형이 따로 존재하지 않는다|\n",
    "|bool|참(True) 또는 거짓(False)|\n",
    "|int|부호가 있는(음수 표현이 가능한) 정수. 값의 범위는 플랫폼에 의존적|"
   ]
  },
  {
   "cell_type": "markdown",
   "id": "bb7294fe-fa35-4711-ac01-c68b01bbdcc3",
   "metadata": {},
   "source": [
    "#### 숫자 자료형"
   ]
  },
  {
   "cell_type": "markdown",
   "id": "99ddc6e2-ab37-4d71-bf3a-ad9a713298aa",
   "metadata": {},
   "source": [
    "숫자를 위한 파이썬의 주요 자료형은 int와 float<br>\n",
    "int는 임의의 숫자 저장 가능"
   ]
  },
  {
   "cell_type": "code",
   "execution_count": null,
   "id": "17be24be-f89a-4dbb-8992-c3d167abf760",
   "metadata": {},
   "outputs": [],
   "source": [
    "In [47]: ival = 17239871\n",
    "\n",
    "In [48]: ival**6\n",
    "Out[48]: 26254519291092456596965462913230729701102721"
   ]
  },
  {
   "cell_type": "markdown",
   "id": "791350d1-1940-4b04-b122-3f2e9d27748e",
   "metadata": {},
   "source": [
    "부동소수점수는 float형으로 나타냄. 내부적으로 배정밀도(64비트)를 가지는 값.<br>\n",
    "float는 과학 표기법으로 나타낼 수도 있음"
   ]
  },
  {
   "cell_type": "code",
   "execution_count": null,
   "id": "a4b44eb2-2036-4132-bde0-a335ef7634ac",
   "metadata": {},
   "outputs": [],
   "source": [
    "In [50]: fval = 7.243\n",
    "\n",
    "In [51]: fval2 = 6.78e-5"
   ]
  },
  {
   "cell_type": "markdown",
   "id": "e45757a8-5ad7-477e-b61b-85c918c154e7",
   "metadata": {},
   "source": [
    "정수 나눗셈은 정수를 반환하지 않고 부동소수점수를 반환"
   ]
  },
  {
   "cell_type": "code",
   "execution_count": null,
   "id": "1ff89b09-3a11-42cf-8214-4bf2322080f0",
   "metadata": {},
   "outputs": [],
   "source": [
    "In [52]: 3/2\n",
    "Out[52]: 1.5"
   ]
  },
  {
   "cell_type": "markdown",
   "id": "08bf553d-a5fe-49fe-879c-c9592a8d531a",
   "metadata": {},
   "source": [
    "나눗셈의 결과가 정수가 아닐 경우 몫만을 돌려주는 C 형식의 정수 나눗셈은 // 연산자로 계산"
   ]
  },
  {
   "cell_type": "code",
   "execution_count": null,
   "id": "57d92c4f-9d6f-4a15-b39a-e1f68cf5c940",
   "metadata": {},
   "outputs": [],
   "source": [
    "In [54]: 3//2\n",
    "Out[54]: 1"
   ]
  },
  {
   "cell_type": "markdown",
   "id": "ac5a3bbd-73a6-4e82-8121-0e11a228ac62",
   "metadata": {},
   "source": [
    "#### 문자열"
   ]
  },
  {
   "cell_type": "markdown",
   "id": "9b880dc1-8331-4ce9-8d00-7b8738d44fa3",
   "metadata": {},
   "source": [
    "많은 사람은 파이썬을 강력하고 유연한 문자열 처리 기능 때문에 애용<br>\n",
    "***문자열***은 작은따옴표(')나 큰따옴표(\")로 둘러싸서 표현"
   ]
  },
  {
   "cell_type": "code",
   "execution_count": null,
   "id": "c05a8b79-26b2-4078-9e89-0cce13c37286",
   "metadata": {},
   "outputs": [],
   "source": [
    "a = '문자열을 작은따옴표로 둘러싼다.'\n",
    "b = \"문자열을 처리하는 다른 방법\""
   ]
  },
  {
   "cell_type": "markdown",
   "id": "3d187955-ae5a-463c-af73-888b442ef27e",
   "metadata": {},
   "source": [
    "개행 문자(\\n)가 포함된 여러 줄에 걸친 문자열은 세 개의 작은따옴표나 큰따옴표로 둘러쌈"
   ]
  },
  {
   "cell_type": "code",
   "execution_count": null,
   "id": "a0f21185-d9b4-444f-80cd-c6cb741117c1",
   "metadata": {},
   "outputs": [],
   "source": [
    "c =\"\"\"\n",
    "여러 줄에 걸친 문자열은\n",
    "따옴표 세 개로 둘러싼다.\n",
    "\"\"\""
   ]
  },
  {
   "cell_type": "markdown",
   "id": "686b3b7a-039c-4d72-a205-0a6ecd3625c1",
   "metadata": {},
   "source": [
    "개행 문자의 수는 count 메서드를 이용해 확인<br>\n",
    "\"\"\" 뒤에 오는 개행 문자도 c에 포함"
   ]
  },
  {
   "cell_type": "code",
   "execution_count": null,
   "id": "e6c67199-caa6-408f-9fbf-e4187cf9bcde",
   "metadata": {},
   "outputs": [],
   "source": [
    "In [57]: c.count('\\n')\n",
    "Out[57]: 3"
   ]
  },
  {
   "cell_type": "markdown",
   "id": "b2753c29-38aa-4a3d-b01f-a54d49ddf0e4",
   "metadata": {},
   "source": [
    "파이썬의 문자열은 변경 불가"
   ]
  },
  {
   "cell_type": "code",
   "execution_count": null,
   "id": "671bcdbe-198e-47ff-8963-1d456da88e06",
   "metadata": {},
   "outputs": [],
   "source": [
    "In [61]: a = 'this is a string'\n",
    "\n",
    "In [62]: a[10] = 'f'\n",
    "---------------------------------------------------------------------------\n",
    "TypeError                                 Traceback (most recent call last)\n",
    "Cell In[62], line 1\n",
    "----> 1 a[10] = 'f'\n",
    "\n",
    "TypeError: 'str' object does not support item assignment\n",
    "\n",
    "In [63]: b = a.replace('string', 'longer string')\n",
    "\n",
    "In [64]: b\n",
    "Out[64]: 'this is a longer string'"
   ]
  },
  {
   "cell_type": "markdown",
   "id": "c55880f7-8f1a-490e-8680-2f0c09b56d42",
   "metadata": {},
   "source": [
    "이 작업 이후 변수 a는 변경되지 않는다."
   ]
  },
  {
   "cell_type": "code",
   "execution_count": null,
   "id": "b2f21062-3d0d-41d1-b076-8f467144bf21",
   "metadata": {},
   "outputs": [],
   "source": [
    "In [65]: a\n",
    "Out[65]: 'this is a string'"
   ]
  },
  {
   "cell_type": "markdown",
   "id": "2074887c-826d-4030-8520-1317645d10ac",
   "metadata": {},
   "source": [
    "많은 파이썬 객체는 str 함수를 이용해 문자열로 변환가능"
   ]
  },
  {
   "cell_type": "code",
   "execution_count": null,
   "id": "d9063669-2712-4587-af30-658063604c15",
   "metadata": {},
   "outputs": [],
   "source": [
    "In [66]: a = 5.6"
   ]
  },
  {
   "cell_type": "code",
   "execution_count": null,
   "id": "ec5b8cbd-722e-439a-9c21-94c972c01b72",
   "metadata": {},
   "outputs": [],
   "source": [
    "In [68]: s = str(a)\n",
    "\n",
    "In [69]: print(s)\n",
    "5.6"
   ]
  },
  {
   "cell_type": "markdown",
   "id": "b6352cf7-f638-43a9-bf90-81856d0edd7f",
   "metadata": {},
   "source": [
    "문자열은 일련의 유니코드 문자이며 따라서 리스트나 튜플 같은 다른 순차적인 자료형과 같이 취급됨."
   ]
  },
  {
   "cell_type": "code",
   "execution_count": null,
   "id": "e96ea3f8-7053-443c-966d-e7f3731a7ba0",
   "metadata": {},
   "outputs": [],
   "source": [
    "In [70]: s = 'python'\n",
    "\n",
    "In [71]: list(s)\n",
    "Out[71]: ['p', 'y', 't', 'h', 'o', 'n']\n",
    "\n",
    "In [72]: s[:3]\n",
    "Out[72]: 'pyt'"
   ]
  },
  {
   "cell_type": "markdown",
   "id": "ba7a8505-5c8c-4bb0-a505-794e14c3fadd",
   "metadata": {},
   "source": [
    "***슬라이싱***이라고 불리는 s[:3] 문법은 대부분의 파이썬 시퀀스 자료구조에 구현되어 있음."
   ]
  },
  {
   "cell_type": "markdown",
   "id": "8f99d45e-3dbb-4ec3-9c2a-b696c61b1b2b",
   "metadata": {},
   "source": [
    "역슬래시```(\\)```는 ***이스케이프 문자***로, 개행 문자(\\n)나 유니코드 문자 같은 특수한 목적의 문자를 나타내기 위해 사용<br>\n",
    "역슬래시를 나타내려면 다음처럼 역슬래시 자체를 이스케이프"
   ]
  },
  {
   "cell_type": "code",
   "execution_count": null,
   "id": "e057f1df-e4c7-406f-ba47-b53a85c92f18",
   "metadata": {},
   "outputs": [],
   "source": [
    "In [73]: s = '12\\\\34'\n",
    "\n",
    "In [74]: print(s)\n",
    "12\\34"
   ]
  },
  {
   "cell_type": "markdown",
   "id": "e83f6f91-025b-42a4-b80c-4e0315c34141",
   "metadata": {},
   "source": [
    "특수 문자 없이 역슬래시(\\)가 많이 포함된 문자열을 나타내려면 좀 귀찮을 수 있는데,<br>\n",
    "다행히도 문자열 앞에 r을 써서 문자열 있는 그대로 해석 가능"
   ]
  },
  {
   "cell_type": "code",
   "execution_count": null,
   "id": "59594bf0-10e7-4caf-80d1-16339f0e7fd8",
   "metadata": {},
   "outputs": [],
   "source": [
    "In [75]: s = r'this\\has\\no\\special\\characters'\n",
    "\n",
    "In [76]: s\n",
    "Out[76]: 'this\\\\has\\\\no\\\\special\\\\characters'"
   ]
  },
  {
   "cell_type": "markdown",
   "id": "e409d186-e6a4-4ea9-8386-8637883fb92f",
   "metadata": {},
   "source": [
    "여기서 r은 raw"
   ]
  },
  {
   "cell_type": "markdown",
   "id": "6709b46c-c5d9-4711-a6f6-17339e215922",
   "metadata": {},
   "source": [
    "두 문자열을 더하면 두 문자열을 이어붙인 새로운 문자열 생성"
   ]
  },
  {
   "cell_type": "code",
   "execution_count": null,
   "id": "ab455545-55bc-489a-be18-357b6e5ea0c6",
   "metadata": {},
   "outputs": [],
   "source": [
    "In [78]: a = 'this is the first half '\n",
    "\n",
    "In [79]: b = 'and this is the second half'\n",
    "\n",
    "In [80]: a + b\n",
    "Out[80]: 'this is the first half and this is the second half'"
   ]
  },
  {
   "cell_type": "code",
   "execution_count": null,
   "id": "26e0ef27-2ae4-407c-b4fb-b035f94e5379",
   "metadata": {},
   "outputs": [],
   "source": [
    "문자열의 템플릿이나 형식을 지정하는 것은 중요한 주제.<br>\n",
    "문자열 객체는 포맷에 따라 문자열을 대체해 새로운 문자열을 반환하는 format 메서드를 가짐"
   ]
  },
  {
   "cell_type": "code",
   "execution_count": null,
   "id": "54161aed-b5ba-43bc-8d42-c41e68d7bbc8",
   "metadata": {},
   "outputs": [],
   "source": [
    "In [81]: template = '{0:.2f} {1:s} are worth US${2:d}'"
   ]
  },
  {
   "cell_type": "markdown",
   "id": "175177c8-b851-4705-b769-4a7f11c837d6",
   "metadata": {},
   "source": [
    "위 문자열에서\n",
    "- {0:.2f} : 첫 번째 인자를 소수점 아래 2자리까지만 표시하는 부동소수점 형태로 출력하라\n",
    "- {1:s} : 두 번째 인자가 문자열\n",
    "- {2:d} : 세 번째 인자가 정수"
   ]
  },
  {
   "cell_type": "markdown",
   "id": "97c3bfeb-f635-4c5c-93f0-7155c3dd5085",
   "metadata": {},
   "source": [
    "인자를 이런 포맷 매개변수를 이용해 대치하려면 인자를 format 메서드에 전달"
   ]
  },
  {
   "cell_type": "code",
   "execution_count": null,
   "id": "73044439-d103-4fda-81a4-47052bd3b64e",
   "metadata": {},
   "outputs": [],
   "source": [
    "In [82]: template.format(4.5560, 'Argentine Pesos', 1)\n",
    "Out[82]: '4.56 Argentine Pesos are worth US$1'"
   ]
  },
  {
   "cell_type": "markdown",
   "id": "0f9b08f2-f0b7-4d1e-ac5c-e06d0f67c00d",
   "metadata": {},
   "source": [
    "#### 바이트와 유니코드"
   ]
  },
  {
   "cell_type": "markdown",
   "id": "8315130b-7770-463d-911a-4f754d905099",
   "metadata": {},
   "source": [
    "파이썬 3.0부터는 아스키와 비-아스키(아스키가 아닌) 텍스트를 일관되게 다루기 위해 유니코드가 최상위 문자열 타입이 됨<br>\n",
    "파이썬 구 버전에서 문자열은 유니코드 인코딩을 명시하지 않은 바이트였다.<br>\n",
    "문자 인코딩을 알고 있다는 가정 하에 유니코드로 변환 가능<br>\n",
    "다음 예제를 살펴보자."
   ]
  },
  {
   "cell_type": "code",
   "execution_count": null,
   "id": "cada2052-4dbe-4d49-9bb4-b4e569f9dbcc",
   "metadata": {},
   "outputs": [],
   "source": [
    "In [83]: val = \"español\"\n",
    "\n",
    "In [84]: val\n",
    "Out[84]: 'español'"
   ]
  },
  {
   "cell_type": "markdown",
   "id": "b865a9f1-de22-4830-a2a8-868fa62d0915",
   "metadata": {},
   "source": [
    "encode 메서드를 사용해 위 유니코드 문자열을 UTF-8 바이트 표현으로 변환 가능"
   ]
  },
  {
   "cell_type": "code",
   "execution_count": null,
   "id": "fc34b762-18ce-4a73-a761-37966aaa48d2",
   "metadata": {},
   "outputs": [],
   "source": [
    "In [85]: val_utf8 = val.encode('utf-8')\n",
    "\n",
    "In [86]: val_utf8\n",
    "Out[86]: b'espa\\xc3\\xb1ol'\n",
    "\n",
    "In [87]: type(val_utf8)\n",
    "Out[87]: bytes"
   ]
  },
  {
   "cell_type": "markdown",
   "id": "5ba9d061-e140-40aa-a620-df5ef61eda36",
   "metadata": {},
   "source": [
    "bytes 객체의 유니코드 인코딩을 알고 있다면 decode 메서드를 이용해 다시 거꾸로 되돌릴 수 있음"
   ]
  },
  {
   "cell_type": "code",
   "execution_count": null,
   "id": "b104c043-37a7-4fb5-9348-65f20f898c61",
   "metadata": {},
   "outputs": [],
   "source": [
    "In [89]: val_utf8.decode('utf-8')\n",
    "Out[89]: 'español'"
   ]
  },
  {
   "cell_type": "markdown",
   "id": "0c898cba-8693-46ca-8309-b0268d870db9",
   "metadata": {},
   "source": [
    "- 내용 추가는 다음에"
   ]
  },
  {
   "cell_type": "markdown",
   "id": "d165ad1d-8546-4e3a-bba2-197008d1f8f5",
   "metadata": {},
   "source": [
    "#### 불리언"
   ]
  },
  {
   "cell_type": "markdown",
   "id": "af0abb1a-9b4d-4397-8053-a5705dca365f",
   "metadata": {},
   "source": [
    "파이썬에서 불리언값은 True와 False<br>\n",
    "비교와 조건식은 True 아니면 False로 해석<br>\n",
    "불리언값은 and와 or 예약어로 조합 가능"
   ]
  },
  {
   "cell_type": "code",
   "execution_count": null,
   "id": "2cc4e01b-3d5e-4f2d-8e6c-e879cd1a05a1",
   "metadata": {},
   "outputs": [],
   "source": [
    "In [90]: True and True\n",
    "Out[90]: True\n",
    "\n",
    "In [91]: False or True\n",
    "Out[91]: True"
   ]
  },
  {
   "cell_type": "markdown",
   "id": "873f8c2a-07ae-4f10-8498-2f519fbc6308",
   "metadata": {},
   "source": [
    "#### 형변환"
   ]
  },
  {
   "cell_type": "markdown",
   "id": "7eb59a82-5638-4afc-aa72-5a865dec2a0f",
   "metadata": {},
   "source": [
    "str, bool, int, float 자료형은 형변환을 위한 함수로 쓰임"
   ]
  },
  {
   "cell_type": "code",
   "execution_count": null,
   "id": "3454acf9-d08b-4ec5-9bc8-632bea03bc2d",
   "metadata": {},
   "outputs": [],
   "source": [
    "In [94]: s = '3.14159'\n",
    "\n",
    "In [95]: fval = float(s)\n",
    "\n",
    "In [96]: type(fval)\n",
    "Out[96]: float\n",
    "\n",
    "In [97]: int(fval)\n",
    "Out[97]: 3\n",
    "\n",
    "In [98]: bool(fval)\n",
    "Out[98]: True\n",
    "\n",
    "In [99]: bool(0)\n",
    "Out[99]: False"
   ]
  },
  {
   "cell_type": "markdown",
   "id": "e4db5c84-9bab-4865-af63-5799dad58779",
   "metadata": {},
   "source": [
    "#### None"
   ]
  },
  {
   "cell_type": "markdown",
   "id": "32fb0cfa-7bb0-497f-a3af-ea668e2c71d6",
   "metadata": {},
   "source": [
    "None은 파이썬에서 사용하는 널(null) 값<br>\n",
    "만약 어떤 함수에서 명시적으로 값을 반환하지 않으면 묵시적으로 None을 반환"
   ]
  },
  {
   "cell_type": "code",
   "execution_count": null,
   "id": "43fdd55e-873c-415d-ab0d-32c470c66e1b",
   "metadata": {},
   "outputs": [],
   "source": [
    "In [100]: a = None\n",
    "\n",
    "In [101]: a is None\n",
    "Out[101]: True\n",
    "\n",
    "In [102]: b = 5\n",
    "\n",
    "In [103]: b is not None\n",
    "Out[103]: True"
   ]
  },
  {
   "cell_type": "markdown",
   "id": "109a1396-7c2c-4018-bdda-532b968efae2",
   "metadata": {},
   "source": [
    "또한 None은 함수 인자의 기본값으로 흔히 사용되기도 함"
   ]
  },
  {
   "cell_type": "code",
   "execution_count": null,
   "id": "bd815147-83ea-460f-a692-3b3deafee5ae",
   "metadata": {},
   "outputs": [],
   "source": [
    "def add_and_maybe_multiply(a,b,c=None):\n",
    "    result = a + b\n",
    "    \n",
    "    if c is not None:\n",
    "        result = result * c\n",
    "        \n",
    "    return result"
   ]
  },
  {
   "cell_type": "markdown",
   "id": "91cd5832-f2d9-449b-aa8f-6682aaf0daa2",
   "metadata": {},
   "source": [
    "기술적인 측면에서 None은 예약어가 아니라 NoneType의 유일한 인스턴스임을 기억하자"
   ]
  },
  {
   "cell_type": "code",
   "execution_count": null,
   "id": "0e6dec4c-c9f8-40ee-9f41-fb311377f86b",
   "metadata": {},
   "outputs": [],
   "source": [
    "In [104]: type(None)\n",
    "Out[104]: NoneType"
   ]
  },
  {
   "cell_type": "code",
   "execution_count": null,
   "id": "bcf1ce36-a667-4334-a699-41357a36627e",
   "metadata": {},
   "outputs": [],
   "source": [
    "#~78부터 정리"
   ]
  }
 ],
 "metadata": {
  "kernelspec": {
   "display_name": "Python 3 (ipykernel)",
   "language": "python",
   "name": "python3"
  },
  "language_info": {
   "codemirror_mode": {
    "name": "ipython",
    "version": 3
   },
   "file_extension": ".py",
   "mimetype": "text/x-python",
   "name": "python",
   "nbconvert_exporter": "python",
   "pygments_lexer": "ipython3",
   "version": "3.10.9"
  }
 },
 "nbformat": 4,
 "nbformat_minor": 5
}
