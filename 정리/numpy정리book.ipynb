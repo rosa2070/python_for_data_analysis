{
 "cells": [
  {
   "cell_type": "markdown",
   "id": "ea194bbd-8648-4336-9b77-80fb6491ce90",
   "metadata": {},
   "source": [
    "# 4장 NumPy 기본: 배열과 벡터 연산"
   ]
  },
  {
   "cell_type": "markdown",
   "id": "433735b5-b034-409a-84cc-ad7ac8997ca7",
   "metadata": {},
   "source": [
    "Numpy : Numerical Python"
   ]
  },
  {
   "cell_type": "markdown",
   "id": "feb981d4-5066-4d4a-becc-dc434eb479e9",
   "metadata": {},
   "source": [
    "Numpy에서 제공하는 것들\n",
    "- 효율적인 다차원 배열인 ndarray는 빠른 배열 계산과 유연한 ***브로드캐스팅*** 기능 제공\n",
    "- 반복문을 작성할 필요 없이 전체 데이터 배열을 빠르게 계산할 수 있는 표준 수학 함수\n",
    "- 배열 데이터를 디스크에 쓰거나 읽을 수 있는 도구와 메모리에 적재된 파일을 다루는 도구\n",
    "- 선형대수, 난수 생성기, 푸리에 변환 가능\n",
    "- C, C++, 포트란으로 작성한 코드를 연결 가능한 C API"
   ]
  },
  {
   "cell_type": "markdown",
   "id": "0f8604f6-53e0-472c-b9e8-6ad9d3b53369",
   "metadata": {},
   "source": [
    "백만 개의 정수를 저장하는 Numpy배열과 파이썬 리스트 비교하기"
   ]
  },
  {
   "cell_type": "code",
   "execution_count": 1,
   "id": "1da47e3f-4f6c-42f1-943a-e7ab2f95c318",
   "metadata": {},
   "outputs": [],
   "source": [
    "import numpy as np"
   ]
  },
  {
   "cell_type": "code",
   "execution_count": 2,
   "id": "d2cf7f3d-f1f8-45b9-bee3-f9241e56f6ea",
   "metadata": {},
   "outputs": [],
   "source": [
    "my_arr = np.arange(1000000)"
   ]
  },
  {
   "cell_type": "code",
   "execution_count": 3,
   "id": "c1b87c3f-85fe-493c-9a62-ecc9dea74077",
   "metadata": {},
   "outputs": [],
   "source": [
    "my_list = list(range(1000000))"
   ]
  },
  {
   "cell_type": "markdown",
   "id": "463a6fb7-faac-46cb-aab3-ad313d320867",
   "metadata": {},
   "source": [
    "이제 각각의 배열과 리스트 원소에 2를 곱해보자"
   ]
  },
  {
   "cell_type": "code",
   "execution_count": 5,
   "id": "37bc4302-29d6-4131-bc6f-149e25438dd7",
   "metadata": {},
   "outputs": [
    {
     "name": "stdout",
     "output_type": "stream",
     "text": [
      "CPU times: total: 15.6 ms\n",
      "Wall time: 11 ms\n"
     ]
    }
   ],
   "source": [
    "%time for _ in range(10): my_arr = my_arr*2"
   ]
  },
  {
   "cell_type": "code",
   "execution_count": 6,
   "id": "042083fa-d4c9-417e-9b4c-83e50e58e85c",
   "metadata": {},
   "outputs": [
    {
     "name": "stdout",
     "output_type": "stream",
     "text": [
      "CPU times: total: 453 ms\n",
      "Wall time: 462 ms\n"
     ]
    }
   ],
   "source": [
    "%time for _ in range(10): my_list2 = [x*2 for x in my_list]"
   ]
  },
  {
   "cell_type": "markdown",
   "id": "a478661c-7aaa-44a3-926c-51b9b246ff36",
   "metadata": {},
   "source": [
    "NumPy를 사용한 코드가 순수 파이썬으로 작성한 코드보다 열 배에서 백 배 이상 빠르고 메모리도 더 적게 사용"
   ]
  },
  {
   "cell_type": "markdown",
   "id": "4e644001-b543-4760-9d37-86e0c8e677af",
   "metadata": {},
   "source": [
    "## 4.1 NumPy ndarray: 다차원 배열 객체"
   ]
  },
  {
   "cell_type": "code",
   "execution_count": 9,
   "id": "f3851aff-b69a-4a9c-b93e-6a605b90677c",
   "metadata": {},
   "outputs": [],
   "source": [
    "import numpy as np"
   ]
  },
  {
   "cell_type": "markdown",
   "id": "ff3219b9-345e-44b7-a4e3-2c8c258942f7",
   "metadata": {},
   "source": [
    "ndarray란?\n",
    "- N차원의 배열 객체\n",
    "- 파이썬에서 사욯라 수 있는 대규모 데이터 집합을 담을 수 있는 빠르고 유연한 자료구조"
   ]
  },
  {
   "cell_type": "markdown",
   "id": "ca3d83f7-aba5-4810-a57a-7f9b4622ab31",
   "metadata": {},
   "source": [
    "먼저 NumPy 패키지를 임포트하고 임의의 값이 들어 있는 작은 배열을 만들자"
   ]
  },
  {
   "cell_type": "code",
   "execution_count": 10,
   "id": "50a7bee1-4ba3-4a48-bdd4-ae82f590c870",
   "metadata": {},
   "outputs": [],
   "source": [
    "#임의의 값 생성\n",
    "data = np.random.randn(2,3)"
   ]
  },
  {
   "cell_type": "code",
   "execution_count": 11,
   "id": "c9de2a73-62e9-4117-a4fa-e6aa65550ed6",
   "metadata": {},
   "outputs": [
    {
     "data": {
      "text/plain": [
       "array([[-1.87328745, -0.91060963, -0.44828942],\n",
       "       [-0.72467232, -1.41206136, -0.25923788]])"
      ]
     },
     "execution_count": 11,
     "metadata": {},
     "output_type": "execute_result"
    }
   ],
   "source": [
    "data"
   ]
  },
  {
   "cell_type": "markdown",
   "id": "3d2b4ca8-b88c-4344-aa2c-aa6b2b6fc11a",
   "metadata": {},
   "source": [
    "그리고 그 값에 산술 연산을 해보자"
   ]
  },
  {
   "cell_type": "code",
   "execution_count": 12,
   "id": "ead2afe2-2232-4ecf-bb7e-81bbe43bb851",
   "metadata": {},
   "outputs": [
    {
     "data": {
      "text/plain": [
       "array([[-18.73287453,  -9.10609626,  -4.48289417],\n",
       "       [ -7.2467232 , -14.12061358,  -2.59237879]])"
      ]
     },
     "execution_count": 12,
     "metadata": {},
     "output_type": "execute_result"
    }
   ],
   "source": [
    "data*10"
   ]
  },
  {
   "cell_type": "code",
   "execution_count": 13,
   "id": "f343f768-e119-4cc4-b174-dccd00d9d5ef",
   "metadata": {},
   "outputs": [
    {
     "data": {
      "text/plain": [
       "array([[-3.74657491, -1.82121925, -0.89657883],\n",
       "       [-1.44934464, -2.82412272, -0.51847576]])"
      ]
     },
     "execution_count": 13,
     "metadata": {},
     "output_type": "execute_result"
    }
   ],
   "source": [
    "data+data"
   ]
  },
  {
   "cell_type": "markdown",
   "id": "0c298663-9488-4a0a-bddd-7614b0484e19",
   "metadata": {},
   "source": [
    "ndarray : 같은 종류의 데이터를 담을 수 있는 포괄적인 다차원 배열<br>\n",
    "ndarray의 모든 원소는 같은 자료형<br>\n",
    "모든 배열은 각 차원의 크기를 알려주는 shape라는 튜플과 배열에 저장된 ***자료형***을 알려주는 dtype이라는 객체를 가짐"
   ]
  },
  {
   "cell_type": "code",
   "execution_count": 16,
   "id": "569a182f-578d-4ee2-ab0b-6cc65b6a121c",
   "metadata": {},
   "outputs": [
    {
     "data": {
      "text/plain": [
       "(2, 3)"
      ]
     },
     "execution_count": 16,
     "metadata": {},
     "output_type": "execute_result"
    }
   ],
   "source": [
    "data.shape"
   ]
  },
  {
   "cell_type": "code",
   "execution_count": 17,
   "id": "8178bc7a-91f2-44e5-80aa-0c1ed70a9368",
   "metadata": {},
   "outputs": [
    {
     "data": {
      "text/plain": [
       "dtype('float64')"
      ]
     },
     "execution_count": 17,
     "metadata": {},
     "output_type": "execute_result"
    }
   ],
   "source": [
    "data.dtype"
   ]
  },
  {
   "cell_type": "markdown",
   "id": "8587ad68-af24-4370-9894-f291dc270c65",
   "metadata": {},
   "source": [
    "### 4.1.1 ndarray 생성"
   ]
  },
  {
   "cell_type": "markdown",
   "id": "022e8af6-9273-4851-88b3-1dcb5618f686",
   "metadata": {},
   "source": [
    "배열은 생성하는 가장 쉬운 방법 : array 함수 이용<br>\n",
    "파이썬의 리스트는 변환하기 좋은 예"
   ]
  },
  {
   "cell_type": "code",
   "execution_count": 19,
   "id": "f3ff3385-a383-4fa2-a44d-9cf82ebb9168",
   "metadata": {},
   "outputs": [],
   "source": [
    "data1 = [6,7.5,8,0,1]"
   ]
  },
  {
   "cell_type": "code",
   "execution_count": 20,
   "id": "09f02afe-f208-493e-98e4-3d486885a8b4",
   "metadata": {},
   "outputs": [],
   "source": [
    "arr1 = np.array(data1)"
   ]
  },
  {
   "cell_type": "code",
   "execution_count": 21,
   "id": "95f85397-8ab2-4c59-8e52-99ccd9b9b3b7",
   "metadata": {},
   "outputs": [
    {
     "data": {
      "text/plain": [
       "array([6. , 7.5, 8. , 0. , 1. ])"
      ]
     },
     "execution_count": 21,
     "metadata": {},
     "output_type": "execute_result"
    }
   ],
   "source": [
    "arr1"
   ]
  },
  {
   "cell_type": "markdown",
   "id": "0c65ee2f-def5-473b-b629-9e2da3daab5e",
   "metadata": {},
   "source": [
    "같은 길이를 가지는 리스트를 내포하고 있는 순차 데이터는 다차원 배열로 변환 가능"
   ]
  },
  {
   "cell_type": "code",
   "execution_count": 22,
   "id": "9c259ca0-d276-4961-baf1-5e46608d428e",
   "metadata": {},
   "outputs": [],
   "source": [
    "data2 = [[1,2,3,4], [5,6,7,8]]"
   ]
  },
  {
   "cell_type": "code",
   "execution_count": 23,
   "id": "1a257c0f-d7bc-43ff-bbd7-0fc0e067a1da",
   "metadata": {},
   "outputs": [],
   "source": [
    "arr2 = np.array(data2)"
   ]
  },
  {
   "cell_type": "code",
   "execution_count": 24,
   "id": "9892c7b9-1cb6-473c-be21-0e947b84c687",
   "metadata": {},
   "outputs": [
    {
     "data": {
      "text/plain": [
       "array([[1, 2, 3, 4],\n",
       "       [5, 6, 7, 8]])"
      ]
     },
     "execution_count": 24,
     "metadata": {},
     "output_type": "execute_result"
    }
   ],
   "source": [
    "arr2"
   ]
  },
  {
   "cell_type": "markdown",
   "id": "db4a2ad8-ccf5-457d-8d5f-7416b2f82bd2",
   "metadata": {},
   "source": [
    "data2는 리스트를 담고 있는 리스트이므로 Numpy 배열인 arr2는 해당 데이터로부터 형태를 추론해 2차원 형태로 생성됨<br>\n",
    "ndim과 shape 속성을 검사해 이를 확인 가능"
   ]
  },
  {
   "cell_type": "code",
   "execution_count": 25,
   "id": "037ca1d2-8a3e-4bac-827e-71cd2d858126",
   "metadata": {},
   "outputs": [
    {
     "data": {
      "text/plain": [
       "2"
      ]
     },
     "execution_count": 25,
     "metadata": {},
     "output_type": "execute_result"
    }
   ],
   "source": [
    "arr2.ndim"
   ]
  },
  {
   "cell_type": "code",
   "execution_count": 26,
   "id": "f3911b24-3b50-4a78-9513-7e259ea54668",
   "metadata": {},
   "outputs": [
    {
     "data": {
      "text/plain": [
       "(2, 4)"
      ]
     },
     "execution_count": 26,
     "metadata": {},
     "output_type": "execute_result"
    }
   ],
   "source": [
    "arr2.shape"
   ]
  },
  {
   "cell_type": "markdown",
   "id": "911e978f-c16a-4ff4-82b1-417b206a7d5c",
   "metadata": {},
   "source": [
    "명시적으로 지정하지 않는 한 np.array는 생성될 때 적절한 자료형을 추론<br>\n",
    "그렇게 추론된 자료형은 dtype 객체에 저장됨<br>\n",
    "다차원 배열 생성 시 원하는 형태의 튜플 넘기기"
   ]
  },
  {
   "cell_type": "code",
   "execution_count": 27,
   "id": "7629889a-d0c7-49c5-8fb4-48338a197acb",
   "metadata": {},
   "outputs": [
    {
     "data": {
      "text/plain": [
       "dtype('float64')"
      ]
     },
     "execution_count": 27,
     "metadata": {},
     "output_type": "execute_result"
    }
   ],
   "source": [
    "arr1.dtype"
   ]
  },
  {
   "cell_type": "code",
   "execution_count": 28,
   "id": "9672ddae-0c8d-4ecf-9aac-c4d344ab1a13",
   "metadata": {},
   "outputs": [
    {
     "data": {
      "text/plain": [
       "dtype('int32')"
      ]
     },
     "execution_count": 28,
     "metadata": {},
     "output_type": "execute_result"
    }
   ],
   "source": [
    "arr2.dtype"
   ]
  },
  {
   "cell_type": "markdown",
   "id": "b41d6419-1f2a-4826-b201-eeeb2d0054e2",
   "metadata": {},
   "source": [
    "np.array는 새로운 배열을 생성하기 위한 여러 함수를 가진다\n",
    "- zeros와 ones: 주어진 길이나 모양에 각각 0과 1이 들어 잇는 배열 생성\n",
    "- empty함수 : 초기화되지 않는 배열 생성"
   ]
  },
  {
   "cell_type": "code",
   "execution_count": 29,
   "id": "626fce57-f8b5-4e1a-9078-a57fe450c167",
   "metadata": {},
   "outputs": [
    {
     "data": {
      "text/plain": [
       "array([0., 0., 0., 0., 0., 0., 0., 0., 0., 0.])"
      ]
     },
     "execution_count": 29,
     "metadata": {},
     "output_type": "execute_result"
    }
   ],
   "source": [
    "np.zeros(10)"
   ]
  },
  {
   "cell_type": "code",
   "execution_count": 30,
   "id": "8ac4acc9-a34e-4864-9112-2ddc46edf595",
   "metadata": {},
   "outputs": [
    {
     "data": {
      "text/plain": [
       "array([[0., 0., 0., 0., 0., 0.],\n",
       "       [0., 0., 0., 0., 0., 0.],\n",
       "       [0., 0., 0., 0., 0., 0.]])"
      ]
     },
     "execution_count": 30,
     "metadata": {},
     "output_type": "execute_result"
    }
   ],
   "source": [
    "np.zeros((3,6))"
   ]
  },
  {
   "cell_type": "code",
   "execution_count": 33,
   "id": "76620479-2494-4fe8-bf86-133fff0bac2c",
   "metadata": {},
   "outputs": [
    {
     "data": {
      "text/plain": [
       "array([[[0., 0.],\n",
       "        [0., 0.],\n",
       "        [0., 0.]],\n",
       "\n",
       "       [[0., 0.],\n",
       "        [0., 0.],\n",
       "        [0., 0.]]])"
      ]
     },
     "execution_count": 33,
     "metadata": {},
     "output_type": "execute_result"
    }
   ],
   "source": [
    "np.zeros((2,3,2)) #삼차원"
   ]
  },
  {
   "cell_type": "markdown",
   "id": "a4637a3f-1864-4ef0-b556-6b10230af7b5",
   "metadata": {},
   "source": [
    "***CAUTION_*** np.empty는 0으로 초기화된 배열 반환 X<br>\n",
    "대부분의 경우 np.empty는 초기화되지 않는 '가비지' 값으로 채워진 배열 반환"
   ]
  },
  {
   "cell_type": "markdown",
   "id": "b9f6b46d-9577-4e12-b237-b29a25478331",
   "metadata": {},
   "source": [
    "arange는 파이썬의 range 함수의 배열 버전"
   ]
  },
  {
   "cell_type": "code",
   "execution_count": 34,
   "id": "ab2d5ae1-0ced-4670-b5e2-279c2be72468",
   "metadata": {},
   "outputs": [
    {
     "data": {
      "text/plain": [
       "array([ 0,  1,  2,  3,  4,  5,  6,  7,  8,  9, 10, 11, 12, 13, 14])"
      ]
     },
     "execution_count": 34,
     "metadata": {},
     "output_type": "execute_result"
    }
   ],
   "source": [
    "np.arange(15)"
   ]
  },
  {
   "cell_type": "markdown",
   "id": "79d17d25-f76a-4639-ab76-78d42cb85f73",
   "metadata": {},
   "source": [
    "#### 배열 생성 함수"
   ]
  },
  {
   "cell_type": "markdown",
   "id": "b95bcb24-9e7a-49ba-96fc-7e041957517d",
   "metadata": {},
   "source": [
    "##### array\n",
    "- 입력 데이터(리스트, 튜플, 배열 또는 다른 순차형 데이터)를 ndarray로 변환하며<br>\n",
    "dtype을 명시하지 않은 경우 자료형을 추론해 저장. \n",
    "- 기본적으로 입력데이터는 복사됨"
   ]
  },
  {
   "cell_type": "code",
   "execution_count": 50,
   "id": "d277ddba-18f9-4187-9cd7-1743fec6d6e9",
   "metadata": {},
   "outputs": [],
   "source": [
    "arr1 = np.array([[1,2],[3,4]])"
   ]
  },
  {
   "cell_type": "code",
   "execution_count": 51,
   "id": "940b8fcb-d5f3-4fce-aaef-3a2411b69074",
   "metadata": {},
   "outputs": [],
   "source": [
    "arr2 = np.array([[5,6],[7,8]])"
   ]
  },
  {
   "cell_type": "code",
   "execution_count": 52,
   "id": "69c6d1ba-ddbd-4d76-b477-6fea7ab15ddd",
   "metadata": {},
   "outputs": [
    {
     "data": {
      "text/plain": [
       "array([[1, 2],\n",
       "       [3, 4]])"
      ]
     },
     "execution_count": 52,
     "metadata": {},
     "output_type": "execute_result"
    }
   ],
   "source": [
    "arr1"
   ]
  },
  {
   "cell_type": "code",
   "execution_count": 53,
   "id": "1ded2828-5f7d-4525-bd27-c854ccc56c9b",
   "metadata": {},
   "outputs": [
    {
     "data": {
      "text/plain": [
       "array([[5, 6],\n",
       "       [7, 8]])"
      ]
     },
     "execution_count": 53,
     "metadata": {},
     "output_type": "execute_result"
    }
   ],
   "source": [
    "arr2"
   ]
  },
  {
   "cell_type": "markdown",
   "id": "2552c2c1-b490-4493-ba19-5c0b041e591d",
   "metadata": {},
   "source": [
    "##### asarray\n",
    "- 입력 데이터를 ndarray로 변환하지만 입력데이터가 이미 ndarray일 경우 복사가 일어나지 않음\n",
    "- 이미 ndarray의 데이터 형태(data type)가 설정되어 있다면, 데이터 형태가 다를 경우메나 복사(copy)"
   ]
  },
  {
   "cell_type": "code",
   "execution_count": 39,
   "id": "b724a62f-e156-44d6-bb11-3ea48f178377",
   "metadata": {},
   "outputs": [],
   "source": [
    "#이미 존재하는 배열에 대해서는 복사 X\n",
    "a = np.array([1,2,3])"
   ]
  },
  {
   "cell_type": "code",
   "execution_count": 40,
   "id": "e8e266f7-aca7-43c7-a06e-35bb0c443204",
   "metadata": {},
   "outputs": [
    {
     "data": {
      "text/plain": [
       "True"
      ]
     },
     "execution_count": 40,
     "metadata": {},
     "output_type": "execute_result"
    }
   ],
   "source": [
    "np.asarray(a) is a"
   ]
  },
  {
   "cell_type": "code",
   "execution_count": 41,
   "id": "fe12f275-5141-4d43-834b-22c6c7e095c9",
   "metadata": {},
   "outputs": [],
   "source": [
    "#만약 dtype이 설정되어 있다면,데이터 형태가 다를 경우에만 복사\n",
    "b = np.array([1,2,3], dtype = np.float32)"
   ]
  },
  {
   "cell_type": "code",
   "execution_count": 42,
   "id": "6d02080e-f5f2-4a12-ad1d-50c43ac4d47c",
   "metadata": {},
   "outputs": [
    {
     "data": {
      "text/plain": [
       "False"
      ]
     },
     "execution_count": 42,
     "metadata": {},
     "output_type": "execute_result"
    }
   ],
   "source": [
    "#np.array는 데이터 형태 일치 여부에 상관없이 복사\n",
    "np.array(b, dtype = np.float32) is b"
   ]
  },
  {
   "cell_type": "code",
   "execution_count": 43,
   "id": "c5821bc7-241f-4409-9b91-fb839203f5db",
   "metadata": {},
   "outputs": [
    {
     "data": {
      "text/plain": [
       "True"
      ]
     },
     "execution_count": 43,
     "metadata": {},
     "output_type": "execute_result"
    }
   ],
   "source": [
    "#np.asarray\n",
    "## 데이터 형태가 같을 때 복사하지 않음\n",
    "np.asarray(b, dtype = np.float32) is b"
   ]
  },
  {
   "cell_type": "code",
   "execution_count": 44,
   "id": "f2b1f9c8-bbf1-4afc-bb82-8077d84ef691",
   "metadata": {},
   "outputs": [
    {
     "data": {
      "text/plain": [
       "False"
      ]
     },
     "execution_count": 44,
     "metadata": {},
     "output_type": "execute_result"
    }
   ],
   "source": [
    "# 데이터 형태가 다를 떼 복사\n",
    "np.asarray(b, dtype = np.float64) is b"
   ]
  },
  {
   "cell_type": "markdown",
   "id": "8be710f5-b48f-4988-8c3c-e6bc56a36323",
   "metadata": {},
   "source": [
    "##### arange\n",
    "- 내장 range 함수와 유사하지만 리스트 대신 ndarray 반환\n",
    "- 맨 끝자리 숫자 포함 X"
   ]
  },
  {
   "cell_type": "code",
   "execution_count": null,
   "id": "6e15771e-d703-4144-b3b1-8a34bbfa7ec2",
   "metadata": {},
   "outputs": [],
   "source": [
    "a = np.arange(10)"
   ]
  },
  {
   "cell_type": "code",
   "execution_count": 45,
   "id": "92ea57b0-3216-4320-885c-475f3cee493d",
   "metadata": {},
   "outputs": [
    {
     "data": {
      "text/plain": [
       "array([0, 1, 2])"
      ]
     },
     "execution_count": 45,
     "metadata": {},
     "output_type": "execute_result"
    }
   ],
   "source": [
    "np.arange(3)"
   ]
  },
  {
   "cell_type": "code",
   "execution_count": 46,
   "id": "0794b297-15d1-4f24-ad1b-0be997860a7f",
   "metadata": {},
   "outputs": [
    {
     "data": {
      "text/plain": [
       "array([0., 1., 2.])"
      ]
     },
     "execution_count": 46,
     "metadata": {},
     "output_type": "execute_result"
    }
   ],
   "source": [
    "np.arange(3.0)"
   ]
  },
  {
   "cell_type": "code",
   "execution_count": 47,
   "id": "f37b71e6-342e-4d8d-ad9c-dc93c15d51bc",
   "metadata": {},
   "outputs": [
    {
     "data": {
      "text/plain": [
       "array([3, 4, 5, 6])"
      ]
     },
     "execution_count": 47,
     "metadata": {},
     "output_type": "execute_result"
    }
   ],
   "source": [
    "np.arange(3,7)"
   ]
  },
  {
   "cell_type": "code",
   "execution_count": 48,
   "id": "76e9a543-6815-4fcf-aec2-c2df099a718c",
   "metadata": {},
   "outputs": [
    {
     "data": {
      "text/plain": [
       "array([3, 5])"
      ]
     },
     "execution_count": 48,
     "metadata": {},
     "output_type": "execute_result"
    }
   ],
   "source": [
    "np.arange(3,7,2)"
   ]
  },
  {
   "cell_type": "markdown",
   "id": "8d8640d4-14be-43e1-acff-3019c04f1c48",
   "metadata": {},
   "source": [
    "##### ones, ones_like\n",
    "- 주어진 dtype과 모양을 가지는 배열을 생성하고 내용을 모두 1로 초기화.<br>\n",
    "ones_like는 주어진 배열과 동일한 모양(형태)과 dtype(데이터타입)을 가지는 배열을 새로 생성해 내용을 모두 1로 초기화"
   ]
  },
  {
   "cell_type": "code",
   "execution_count": 54,
   "id": "f337cbae-9bea-464b-bc20-d05ef0422412",
   "metadata": {},
   "outputs": [],
   "source": [
    "a = np.ones((3,3), int)"
   ]
  },
  {
   "cell_type": "code",
   "execution_count": 55,
   "id": "740fd735-4d5a-4726-9441-22db4b18d673",
   "metadata": {},
   "outputs": [
    {
     "data": {
      "text/plain": [
       "array([[1, 1, 1],\n",
       "       [1, 1, 1],\n",
       "       [1, 1, 1]])"
      ]
     },
     "execution_count": 55,
     "metadata": {},
     "output_type": "execute_result"
    }
   ],
   "source": [
    "a"
   ]
  },
  {
   "cell_type": "code",
   "execution_count": 56,
   "id": "cfb7ed5e-6029-4c1b-b608-0f4e3d2b1f59",
   "metadata": {},
   "outputs": [
    {
     "data": {
      "text/plain": [
       "array([[3, 3, 3],\n",
       "       [3, 3, 3],\n",
       "       [3, 3, 3]])"
      ]
     },
     "execution_count": 56,
     "metadata": {},
     "output_type": "execute_result"
    }
   ],
   "source": [
    "a*3"
   ]
  },
  {
   "cell_type": "code",
   "execution_count": 57,
   "id": "5d24343c-55e0-4633-9d19-923a253b8fb7",
   "metadata": {},
   "outputs": [],
   "source": [
    "a = np.arange(6).reshape(2,3)"
   ]
  },
  {
   "cell_type": "code",
   "execution_count": 58,
   "id": "d51140c5-355d-4845-bf85-1e6e9f0211be",
   "metadata": {},
   "outputs": [
    {
     "data": {
      "text/plain": [
       "array([[0, 1, 2],\n",
       "       [3, 4, 5]])"
      ]
     },
     "execution_count": 58,
     "metadata": {},
     "output_type": "execute_result"
    }
   ],
   "source": [
    "a"
   ]
  },
  {
   "cell_type": "code",
   "execution_count": 59,
   "id": "b1d6a17d-a729-41a7-8077-4735eacac849",
   "metadata": {},
   "outputs": [
    {
     "data": {
      "text/plain": [
       "array([[1, 1, 1],\n",
       "       [1, 1, 1]])"
      ]
     },
     "execution_count": 59,
     "metadata": {},
     "output_type": "execute_result"
    }
   ],
   "source": [
    "np.ones_like(a)"
   ]
  },
  {
   "cell_type": "code",
   "execution_count": 60,
   "id": "fc225a7a-58ce-4f2a-a512-4ad51e7a264e",
   "metadata": {},
   "outputs": [
    {
     "name": "stderr",
     "output_type": "stream",
     "text": [
      "C:\\Users\\user\\AppData\\Local\\Temp\\ipykernel_12752\\1145467606.py:1: DeprecationWarning: `np.float` is a deprecated alias for the builtin `float`. To silence this warning, use `float` by itself. Doing this will not modify any behavior and is safe. If you specifically wanted the numpy scalar type, use `np.float64` here.\n",
      "Deprecated in NumPy 1.20; for more details and guidance: https://numpy.org/devdocs/release/1.20.0-notes.html#deprecations\n",
      "  b = np.arange(3, dtype=np.float)\n"
     ]
    }
   ],
   "source": [
    "b = np.arange(3, dtype=np.float)"
   ]
  },
  {
   "cell_type": "code",
   "execution_count": 61,
   "id": "93979487-308c-475c-ad22-cf9b3b562243",
   "metadata": {},
   "outputs": [
    {
     "name": "stdout",
     "output_type": "stream",
     "text": [
      "[0. 1. 2.]\n"
     ]
    }
   ],
   "source": [
    "print(b)"
   ]
  },
  {
   "cell_type": "code",
   "execution_count": 63,
   "id": "f0ce7ba1-f365-4fd7-9ee1-75dcce56b5ff",
   "metadata": {},
   "outputs": [
    {
     "data": {
      "text/plain": [
       "dtype('float64')"
      ]
     },
     "execution_count": 63,
     "metadata": {},
     "output_type": "execute_result"
    }
   ],
   "source": [
    "b.dtype"
   ]
  },
  {
   "cell_type": "code",
   "execution_count": 64,
   "id": "1877850a-fe73-4cca-84d2-e517e0ea32f7",
   "metadata": {},
   "outputs": [
    {
     "data": {
      "text/plain": [
       "array([1., 1., 1.])"
      ]
     },
     "execution_count": 64,
     "metadata": {},
     "output_type": "execute_result"
    }
   ],
   "source": [
    "np.ones_like(b)"
   ]
  },
  {
   "cell_type": "markdown",
   "id": "3f5b9c87-9ab4-413d-9fd3-ebc6e51e14f3",
   "metadata": {},
   "source": [
    "##### zeros, zeros_like \n",
    "- ones, ones_like와 동일하지만 내용을 0으로 채운다"
   ]
  },
  {
   "cell_type": "code",
   "execution_count": 72,
   "id": "02c9d158-7d83-4d85-92f8-05086d477ace",
   "metadata": {},
   "outputs": [
    {
     "data": {
      "text/plain": [
       "array([[0., 0., 0.],\n",
       "       [0., 0., 0.],\n",
       "       [0., 0., 0.]])"
      ]
     },
     "execution_count": 72,
     "metadata": {},
     "output_type": "execute_result"
    }
   ],
   "source": [
    "b = np.zeros((3,3))\n",
    "b"
   ]
  },
  {
   "cell_type": "code",
   "execution_count": 73,
   "id": "eae9c82f-8452-48ca-8123-fb54f578a65c",
   "metadata": {},
   "outputs": [],
   "source": [
    "b[2,0] = 3"
   ]
  },
  {
   "cell_type": "code",
   "execution_count": 74,
   "id": "83f695f7-b08f-4c3a-9630-7fb4255889c2",
   "metadata": {},
   "outputs": [
    {
     "data": {
      "text/plain": [
       "array([[0., 0., 0.],\n",
       "       [0., 0., 0.],\n",
       "       [3., 0., 0.]])"
      ]
     },
     "execution_count": 74,
     "metadata": {},
     "output_type": "execute_result"
    }
   ],
   "source": [
    "b"
   ]
  },
  {
   "cell_type": "code",
   "execution_count": 70,
   "id": "9b1dde76-c461-4bee-a70d-5ebe41d645f1",
   "metadata": {},
   "outputs": [
    {
     "data": {
      "text/plain": [
       "array([[0, 1, 2],\n",
       "       [3, 4, 5]])"
      ]
     },
     "execution_count": 70,
     "metadata": {},
     "output_type": "execute_result"
    }
   ],
   "source": [
    "a = np.arange(6).reshape(2,3)\n",
    "a"
   ]
  },
  {
   "cell_type": "code",
   "execution_count": 71,
   "id": "6878c86d-83fe-4ebc-aac3-b4d4cc574d1c",
   "metadata": {},
   "outputs": [
    {
     "data": {
      "text/plain": [
       "array([[0, 0, 0],\n",
       "       [0, 0, 0]])"
      ]
     },
     "execution_count": 71,
     "metadata": {},
     "output_type": "execute_result"
    }
   ],
   "source": [
    "np.zeros_like(a)"
   ]
  },
  {
   "cell_type": "code",
   "execution_count": 75,
   "id": "e15e59ae-3c33-4f03-a727-4432005e29c7",
   "metadata": {},
   "outputs": [
    {
     "name": "stdout",
     "output_type": "stream",
     "text": [
      "[0. 1. 2.]\n"
     ]
    },
    {
     "name": "stderr",
     "output_type": "stream",
     "text": [
      "C:\\Users\\user\\AppData\\Local\\Temp\\ipykernel_12752\\157655229.py:1: DeprecationWarning: `np.float` is a deprecated alias for the builtin `float`. To silence this warning, use `float` by itself. Doing this will not modify any behavior and is safe. If you specifically wanted the numpy scalar type, use `np.float64` here.\n",
      "Deprecated in NumPy 1.20; for more details and guidance: https://numpy.org/devdocs/release/1.20.0-notes.html#deprecations\n",
      "  b = np.arange(3, dtype = np.float)\n"
     ]
    },
    {
     "data": {
      "text/plain": [
       "dtype('float64')"
      ]
     },
     "execution_count": 75,
     "metadata": {},
     "output_type": "execute_result"
    }
   ],
   "source": [
    "b = np.arange(3, dtype = np.float)\n",
    "print(b)\n",
    "b.dtype"
   ]
  },
  {
   "cell_type": "code",
   "execution_count": 76,
   "id": "93cce162-12d3-412f-bf08-49da72ac821d",
   "metadata": {},
   "outputs": [
    {
     "data": {
      "text/plain": [
       "array([0., 0., 0.])"
      ]
     },
     "execution_count": 76,
     "metadata": {},
     "output_type": "execute_result"
    }
   ],
   "source": [
    "np.zeros_like(b)"
   ]
  },
  {
   "cell_type": "markdown",
   "id": "d18591de-4003-4fca-89cf-599266446b3d",
   "metadata": {},
   "source": [
    "##### empty, empty_like\n",
    "- 메모리를 할당해 새로운 배열을 생성하지만 ones나 zeros처럼 값을 초기화하지 X"
   ]
  },
  {
   "cell_type": "code",
   "execution_count": 78,
   "id": "36fa2e55-e597-4025-b092-1549ce023600",
   "metadata": {},
   "outputs": [
    {
     "data": {
      "text/plain": [
       "array([[3.74657491, 1.82121925, 0.89657883],\n",
       "       [1.44934464, 2.82412272, 0.51847576]])"
      ]
     },
     "execution_count": 78,
     "metadata": {},
     "output_type": "execute_result"
    }
   ],
   "source": [
    "np.empty((2,3)) # null에 해당하는 주소값, 초기화 안함"
   ]
  },
  {
   "cell_type": "code",
   "execution_count": 80,
   "id": "7cb3bd99-2598-4241-8f42-f2325bbc2bb9",
   "metadata": {},
   "outputs": [
    {
     "data": {
      "text/plain": [
       "array([[0, 1, 2],\n",
       "       [3, 4, 5]])"
      ]
     },
     "execution_count": 80,
     "metadata": {},
     "output_type": "execute_result"
    }
   ],
   "source": [
    "a = np.arange(6).reshape(2,3)\n",
    "a"
   ]
  },
  {
   "cell_type": "code",
   "execution_count": 81,
   "id": "86f7bdf2-a92b-4aca-8809-b63cde0bb094",
   "metadata": {},
   "outputs": [
    {
     "data": {
      "text/plain": [
       "array([[0, 1, 2],\n",
       "       [3, 4, 5]])"
      ]
     },
     "execution_count": 81,
     "metadata": {},
     "output_type": "execute_result"
    }
   ],
   "source": [
    "np.empty_like(a)"
   ]
  },
  {
   "cell_type": "code",
   "execution_count": 82,
   "id": "8c063196-3d5d-4108-a0d4-4cce118c8241",
   "metadata": {},
   "outputs": [
    {
     "name": "stdout",
     "output_type": "stream",
     "text": [
      "[0. 1. 2.]\n"
     ]
    },
    {
     "name": "stderr",
     "output_type": "stream",
     "text": [
      "C:\\Users\\user\\AppData\\Local\\Temp\\ipykernel_12752\\157655229.py:1: DeprecationWarning: `np.float` is a deprecated alias for the builtin `float`. To silence this warning, use `float` by itself. Doing this will not modify any behavior and is safe. If you specifically wanted the numpy scalar type, use `np.float64` here.\n",
      "Deprecated in NumPy 1.20; for more details and guidance: https://numpy.org/devdocs/release/1.20.0-notes.html#deprecations\n",
      "  b = np.arange(3, dtype = np.float)\n"
     ]
    },
    {
     "data": {
      "text/plain": [
       "dtype('float64')"
      ]
     },
     "execution_count": 82,
     "metadata": {},
     "output_type": "execute_result"
    }
   ],
   "source": [
    "b = np.arange(3, dtype = np.float)\n",
    "print(b)\n",
    "b.dtype"
   ]
  },
  {
   "cell_type": "code",
   "execution_count": 83,
   "id": "60a4eb07-cb86-4bcc-85cf-7551388a7cd7",
   "metadata": {},
   "outputs": [
    {
     "data": {
      "text/plain": [
       "array([0., 1., 2.])"
      ]
     },
     "execution_count": 83,
     "metadata": {},
     "output_type": "execute_result"
    }
   ],
   "source": [
    "np.empty_like(b)"
   ]
  },
  {
   "cell_type": "markdown",
   "id": "a25e148b-e940-4d86-b9e7-e402e4878eeb",
   "metadata": {},
   "source": [
    "##### full, full_like\n",
    "- 인자로 받은 dtype과 배열의 모양을 가지는 배열을 생성하고 인자로 받은 값으로 배열을 채운다"
   ]
  },
  {
   "cell_type": "code",
   "execution_count": 84,
   "id": "fcf0b7e6-5902-4048-95ba-50111b5c7917",
   "metadata": {},
   "outputs": [
    {
     "data": {
      "text/plain": [
       "array([[3, 3],\n",
       "       [3, 3]])"
      ]
     },
     "execution_count": 84,
     "metadata": {},
     "output_type": "execute_result"
    }
   ],
   "source": [
    "np.full((2,2),3)"
   ]
  },
  {
   "cell_type": "code",
   "execution_count": 86,
   "id": "873973f0-9679-4edb-9e38-34926a704709",
   "metadata": {},
   "outputs": [
    {
     "data": {
      "text/plain": [
       "array([[2, 2, 2],\n",
       "       [2, 2, 2],\n",
       "       [2, 2, 2],\n",
       "       [2, 2, 2]])"
      ]
     },
     "execution_count": 86,
     "metadata": {},
     "output_type": "execute_result"
    }
   ],
   "source": [
    "np.full((4,3),2) # np.full(shape, fill_value)"
   ]
  },
  {
   "cell_type": "code",
   "execution_count": 87,
   "id": "4d823a6f-5cc9-46cb-9830-dfc98e23ba7d",
   "metadata": {},
   "outputs": [
    {
     "ename": "TypeError",
     "evalue": "_full_like_dispatcher() missing 1 required positional argument: 'fill_value'",
     "output_type": "error",
     "traceback": [
      "\u001b[1;31m---------------------------------------------------------------------------\u001b[0m",
      "\u001b[1;31mTypeError\u001b[0m                                 Traceback (most recent call last)",
      "Cell \u001b[1;32mIn[87], line 1\u001b[0m\n\u001b[1;32m----> 1\u001b[0m \u001b[43mnp\u001b[49m\u001b[38;5;241;43m.\u001b[39;49m\u001b[43mfull_like\u001b[49m\u001b[43m(\u001b[49m\u001b[43ma\u001b[49m\u001b[43m)\u001b[49m\n",
      "File \u001b[1;32m<__array_function__ internals>:179\u001b[0m, in \u001b[0;36mfull_like\u001b[1;34m(*args, **kwargs)\u001b[0m\n",
      "\u001b[1;31mTypeError\u001b[0m: _full_like_dispatcher() missing 1 required positional argument: 'fill_value'"
     ]
    }
   ],
   "source": [
    "np.full_like(a)"
   ]
  },
  {
   "cell_type": "code",
   "execution_count": 88,
   "id": "2627313f-530e-4e42-9f46-721a900133d0",
   "metadata": {},
   "outputs": [
    {
     "data": {
      "text/plain": [
       "array([[3, 3, 3],\n",
       "       [3, 3, 3]])"
      ]
     },
     "execution_count": 88,
     "metadata": {},
     "output_type": "execute_result"
    }
   ],
   "source": [
    "np.full_like(a,3)"
   ]
  },
  {
   "cell_type": "code",
   "execution_count": 89,
   "id": "6d43d5f6-cc45-49fa-84d1-14450995de83",
   "metadata": {},
   "outputs": [
    {
     "data": {
      "text/plain": [
       "array([3.1, 3.1, 3.1])"
      ]
     },
     "execution_count": 89,
     "metadata": {},
     "output_type": "execute_result"
    }
   ],
   "source": [
    "np.full_like(b, 3.1)"
   ]
  },
  {
   "cell_type": "markdown",
   "id": "d0671ab9-3714-4199-81fc-3e22fd534c99",
   "metadata": {},
   "source": [
    "##### eye, identity\n",
    "- N X N 크기의 단위행렬 생성(좌상단에서 우하단을 잇는 대각선은 1로 채워지고 나머지는 0으로 채워짐)"
   ]
  },
  {
   "cell_type": "markdown",
   "id": "325d1da1-a6b7-4685-b7a5-53d238838dca",
   "metadata": {},
   "source": [
    "- np.identity()는 정사각행렬이 정해져 있다"
   ]
  },
  {
   "cell_type": "code",
   "execution_count": 93,
   "id": "eb13bbe3-a719-4227-b031-634edd1da60d",
   "metadata": {},
   "outputs": [
    {
     "data": {
      "text/plain": [
       "array([[1., 0., 0., 0.],\n",
       "       [0., 1., 0., 0.],\n",
       "       [0., 0., 1., 0.],\n",
       "       [0., 0., 0., 1.]])"
      ]
     },
     "execution_count": 93,
     "metadata": {},
     "output_type": "execute_result"
    }
   ],
   "source": [
    "d = np.identity(4)\n",
    "d"
   ]
  },
  {
   "cell_type": "code",
   "execution_count": 94,
   "id": "4340de6a-70ee-41de-b917-0e9302737f0a",
   "metadata": {},
   "outputs": [
    {
     "data": {
      "text/plain": [
       "array([[1., 0., 0.],\n",
       "       [0., 1., 0.],\n",
       "       [0., 0., 1.]])"
      ]
     },
     "execution_count": 94,
     "metadata": {},
     "output_type": "execute_result"
    }
   ],
   "source": [
    "np.identity(3)"
   ]
  },
  {
   "cell_type": "markdown",
   "id": "fbfd8c06-5cfc-4956-a402-67f8a7ad9fb7",
   "metadata": {},
   "source": [
    "- np.eye(4)와 np.identity(4)는 같다"
   ]
  },
  {
   "cell_type": "code",
   "execution_count": 95,
   "id": "eed35b19-2f73-4319-9933-dccc231d31e1",
   "metadata": {},
   "outputs": [
    {
     "data": {
      "text/plain": [
       "array([[1., 0., 0., 0.],\n",
       "       [0., 1., 0., 0.],\n",
       "       [0., 0., 1., 0.],\n",
       "       [0., 0., 0., 1.]])"
      ]
     },
     "execution_count": 95,
     "metadata": {},
     "output_type": "execute_result"
    }
   ],
   "source": [
    "np.eye(4)"
   ]
  },
  {
   "cell_type": "code",
   "execution_count": 90,
   "id": "dc95d9b1-72ff-4651-a0e4-03d1b853d621",
   "metadata": {},
   "outputs": [],
   "source": [
    "d = np.eye(4,3)"
   ]
  },
  {
   "cell_type": "code",
   "execution_count": 91,
   "id": "629fe0f8-a011-42a4-82a2-6bc09ffb51d8",
   "metadata": {},
   "outputs": [
    {
     "data": {
      "text/plain": [
       "array([[1., 0., 0.],\n",
       "       [0., 1., 0.],\n",
       "       [0., 0., 1.],\n",
       "       [0., 0., 0.]])"
      ]
     },
     "execution_count": 91,
     "metadata": {},
     "output_type": "execute_result"
    }
   ],
   "source": [
    "d"
   ]
  },
  {
   "cell_type": "code",
   "execution_count": 92,
   "id": "7f26e728-7e77-4d4d-a300-cdb16828527f",
   "metadata": {},
   "outputs": [
    {
     "data": {
      "text/plain": [
       "array([[1., 0., 0.],\n",
       "       [0., 1., 0.],\n",
       "       [0., 0., 1.],\n",
       "       [0., 0., 0.]])"
      ]
     },
     "execution_count": 92,
     "metadata": {},
     "output_type": "execute_result"
    }
   ],
   "source": [
    "np.eye(4,3)"
   ]
  },
  {
   "cell_type": "markdown",
   "id": "43181610-4141-4e04-b304-41ec4b96e4b1",
   "metadata": {},
   "source": [
    "***np.identity()와 np.eye()의 차이***\n",
    "- identity 행렬은 항상 N x N의 행렬이라면, eye는 원하는 N x M의 행렬을 만들 수 있음"
   ]
  },
  {
   "cell_type": "markdown",
   "id": "aa1d0443-88c3-4e7e-ad4c-6230039efaf8",
   "metadata": {},
   "source": [
    "### 4.1.2 ndarray의 dtype\n",
    "- dtype은 ndarray가 메모리에 있는 특정 데이터를 해석하기 위해 필요한 정보(또는 ***메타데이터***)를 담고 있는 특수한 객체"
   ]
  },
  {
   "cell_type": "code",
   "execution_count": 96,
   "id": "3108132a-ed84-4480-985f-bee1a35c8944",
   "metadata": {},
   "outputs": [],
   "source": [
    "arr1 = np.array([1,2,3], dtype = np.float64)"
   ]
  },
  {
   "cell_type": "code",
   "execution_count": 97,
   "id": "4f42ec25-dbd4-4c6f-844f-ca5956353b1f",
   "metadata": {},
   "outputs": [],
   "source": [
    "arr2 = np.array([1,2,3], dtype = np.int32)"
   ]
  },
  {
   "cell_type": "code",
   "execution_count": 98,
   "id": "4a729210-ee18-4129-9c21-201966a87995",
   "metadata": {},
   "outputs": [
    {
     "data": {
      "text/plain": [
       "dtype('float64')"
      ]
     },
     "execution_count": 98,
     "metadata": {},
     "output_type": "execute_result"
    }
   ],
   "source": [
    "arr1.dtype"
   ]
  },
  {
   "cell_type": "code",
   "execution_count": 99,
   "id": "fd547b22-b6c5-4d97-ade8-3414a55dbe7b",
   "metadata": {},
   "outputs": [
    {
     "data": {
      "text/plain": [
       "dtype('int32')"
      ]
     },
     "execution_count": 99,
     "metadata": {},
     "output_type": "execute_result"
    }
   ],
   "source": [
    "arr2.dtype"
   ]
  },
  {
   "cell_type": "markdown",
   "id": "17324939-4c42-429b-a9db-346db86032f1",
   "metadata": {},
   "source": [
    "#### NumPy 자료형"
   ]
  },
  {
   "cell_type": "markdown",
   "id": "5b6642d5-c061-482f-96c4-5608b0a11871",
   "metadata": {},
   "source": [
    "|자료형|자료형 코드|설명|\n",
    "|---|---|---|\n",
    "|int8, uint8|i1,u1|부호가 있는 8비트(1바이트) 정수형과 부호가 없는 8비트 정수형|\n",
    "|int16, uint16|i2, u2|부호가 있는 16비트 정수형과 부호가 없는 16비트 정수형|\n",
    "|int32, uint32|i4, u4|부호가 있는 32비트 정수형과 부호가 없는 32비트 정수형|\n",
    "|int64, uint64|i8, u8|부호가 있는 64비트 정수형과 부호가 없는 64비트 정수형|\n",
    "|float16|f2|반정밀도 부동소수점|\n",
    "|float32|f4 또는 f|단정밀도 부동소수점.C언어의 float형과 호환|\n",
    "|float64|f8 또는 d|배정밀도 부동소수점.C언어의 double형과 파이썬의 float 객체와 호환|\n",
    "|float128|f16 또는 g|확장정밀도 부동소수점|\n",
    "|complex64,|c8, c16, c32|각각 2개의 32, 64, 128비트 부동소수점형을 가지는 복소수|\n",
    "|complex128,|\n",
    "|complex256|\n",
    "|bool|?|True와 False 값을 저장하는 불리언형|\n",
    "|object|0|파이썬 객체형|\n",
    "|string_|S|고정 길이 아스키 문자열형(각 문자는 1바이트). 길이가 10인 문자열 dtype은 S10이 된다|\n",
    "|unicode_|U|고정 길이 유니코드형(플랫폼에 따라 문자열 바이트 수가 다르다).string_형과 같은 형식을 쓴다(예:U10)|"
   ]
  },
  {
   "cell_type": "markdown",
   "id": "e5a8f298-70e0-4260-a834-9a7470f8220e",
   "metadata": {},
   "source": [
    "ndarray의 astype 메서드를 사용해서 배열의 dtype을 다른 형으로 명시적 변환(또는 ***캐스팅***) 가능"
   ]
  },
  {
   "cell_type": "code",
   "execution_count": 100,
   "id": "3f241891-ec53-420c-9076-bc15e0e5a5b1",
   "metadata": {},
   "outputs": [],
   "source": [
    "arr = np.array([1,2,3,4,5])"
   ]
  },
  {
   "cell_type": "code",
   "execution_count": 101,
   "id": "3952125a-a20f-4f0c-a1d6-a114e9f53e53",
   "metadata": {},
   "outputs": [
    {
     "data": {
      "text/plain": [
       "dtype('int32')"
      ]
     },
     "execution_count": 101,
     "metadata": {},
     "output_type": "execute_result"
    }
   ],
   "source": [
    "arr.dtype"
   ]
  },
  {
   "cell_type": "code",
   "execution_count": 102,
   "id": "89c0d640-f86f-484f-bf1d-bb7d0a586dda",
   "metadata": {},
   "outputs": [],
   "source": [
    "float_arr = arr.astype(np.float64)"
   ]
  },
  {
   "cell_type": "code",
   "execution_count": 103,
   "id": "21c1abdf-235c-4349-9042-ef18c77a76f7",
   "metadata": {},
   "outputs": [
    {
     "data": {
      "text/plain": [
       "dtype('float64')"
      ]
     },
     "execution_count": 103,
     "metadata": {},
     "output_type": "execute_result"
    }
   ],
   "source": [
    "float_arr.dtype"
   ]
  },
  {
   "cell_type": "markdown",
   "id": "3abc4bed-ad74-4184-88c2-d9d07bbe81ab",
   "metadata": {},
   "source": [
    "위 예제에서는 정수형을 부동소수점으로 변환함.<br>\n",
    "만약 부동소수점수를 정수형 dtype으로 변환하면 소수점 아래 자리는 버려짐"
   ]
  },
  {
   "cell_type": "code",
   "execution_count": 104,
   "id": "83edbff4-be52-4958-88c3-44050ce286bc",
   "metadata": {},
   "outputs": [],
   "source": [
    "arr = np.array([3.7, -1.2, -2.6, 0.5, 12.9, 10.1])"
   ]
  },
  {
   "cell_type": "code",
   "execution_count": 105,
   "id": "cc1f6f7c-4d33-4be6-80bf-21aeb0e7d103",
   "metadata": {},
   "outputs": [
    {
     "data": {
      "text/plain": [
       "array([ 3.7, -1.2, -2.6,  0.5, 12.9, 10.1])"
      ]
     },
     "execution_count": 105,
     "metadata": {},
     "output_type": "execute_result"
    }
   ],
   "source": [
    "arr"
   ]
  },
  {
   "cell_type": "code",
   "execution_count": 106,
   "id": "efca8839-d586-4a2a-a639-42367dceed28",
   "metadata": {},
   "outputs": [
    {
     "data": {
      "text/plain": [
       "array([ 3, -1, -2,  0, 12, 10])"
      ]
     },
     "execution_count": 106,
     "metadata": {},
     "output_type": "execute_result"
    }
   ],
   "source": [
    "arr.astype(np.int32)"
   ]
  },
  {
   "cell_type": "markdown",
   "id": "7299f7bd-f859-4460-9a8a-d558770d5327",
   "metadata": {},
   "source": [
    "숫자 형식의 문자열을 담고 있는 배열이 있다면 ***astype***을 이용해 숫자로 변환 가능"
   ]
  },
  {
   "cell_type": "code",
   "execution_count": 107,
   "id": "649af3ee-8380-4eeb-a5a4-3dca92561fc1",
   "metadata": {},
   "outputs": [],
   "source": [
    "numeric_strings = np.array(['1.25', '-9.6', '42'], dtype = np.string_)"
   ]
  },
  {
   "cell_type": "code",
   "execution_count": 108,
   "id": "8af07feb-29f8-460b-958b-886b9ec6f93d",
   "metadata": {},
   "outputs": [
    {
     "data": {
      "text/plain": [
       "array([ 1.25, -9.6 , 42.  ])"
      ]
     },
     "execution_count": 108,
     "metadata": {},
     "output_type": "execute_result"
    }
   ],
   "source": [
    "numeric_strings.astype(float)"
   ]
  },
  {
   "cell_type": "markdown",
   "id": "474c2f1f-a289-45ab-bd93-bc8e2a470aa3",
   "metadata": {},
   "source": [
    "다른 배열의 dtype 속성을 이용하는 것도 가능"
   ]
  },
  {
   "cell_type": "code",
   "execution_count": 112,
   "id": "48fe5535-eb8e-4d0e-b6d1-5f2551008a54",
   "metadata": {},
   "outputs": [],
   "source": [
    "int_array = np.arange(10)"
   ]
  },
  {
   "cell_type": "code",
   "execution_count": 113,
   "id": "16c62d94-97e3-471a-88fa-731bafabbef3",
   "metadata": {},
   "outputs": [],
   "source": [
    "calibers = np.array([.22,.270,.357,.380,.44,.50], dtype = np.float64)"
   ]
  },
  {
   "cell_type": "code",
   "execution_count": 115,
   "id": "dde5c642-86bd-4a56-b6a9-318179361cb2",
   "metadata": {},
   "outputs": [
    {
     "data": {
      "text/plain": [
       "array([0., 1., 2., 3., 4., 5., 6., 7., 8., 9.])"
      ]
     },
     "execution_count": 115,
     "metadata": {},
     "output_type": "execute_result"
    }
   ],
   "source": [
    "int_array.astype(calibers.dtype)"
   ]
  },
  {
   "cell_type": "markdown",
   "id": "3960261a-29e9-4936-895d-eece6729f175",
   "metadata": {},
   "source": [
    "dtype으로 사용할 수 있는 축약 코드도 있다"
   ]
  },
  {
   "cell_type": "code",
   "execution_count": 116,
   "id": "9d422cc6-2e27-4b16-bb1e-aa9a6f737b44",
   "metadata": {},
   "outputs": [],
   "source": [
    "empty_unit32 = np.empty(8, dtype='u4')"
   ]
  },
  {
   "cell_type": "code",
   "execution_count": 117,
   "id": "aa95096e-6ae5-482d-ab49-2886c94bdc0b",
   "metadata": {},
   "outputs": [
    {
     "data": {
      "text/plain": [
       "array([         0, 1072693248,          0, 1072693248,          0,\n",
       "       1072693248,          0, 1072693248], dtype=uint32)"
      ]
     },
     "execution_count": 117,
     "metadata": {},
     "output_type": "execute_result"
    }
   ],
   "source": [
    "empty_unit32"
   ]
  },
  {
   "cell_type": "markdown",
   "id": "f8dc6aca-bb36-498e-ba16-3d5e5f8af5ca",
   "metadata": {},
   "source": [
    "***NOTE_*** astype을 호출하면 새로운 dtype이 이전 dtype과 동일해도 항상 새로운 배열을 생성(데이터를 복사)"
   ]
  },
  {
   "cell_type": "markdown",
   "id": "26fc4797-f1bc-4189-b17a-13894464c176",
   "metadata": {},
   "source": [
    "### 4.1.3 NumPy 배열의 산술 연산"
   ]
  },
  {
   "cell_type": "markdown",
   "id": "147e142f-7c5c-4e84-a22d-de48065c46ce",
   "metadata": {},
   "source": [
    "배열의 중요한 특징은 for문을 작성항지 않고 데이터를 일괄 처리할 수 있다는 것.이를 ***벡터화***라고 함<br>\n",
    "같은 크기의 배열 간의 산술 연산은 배열의 각 원소 단위로 적용"
   ]
  },
  {
   "cell_type": "code",
   "execution_count": 118,
   "id": "65501d65-d38f-4b60-becc-7147be4dc59e",
   "metadata": {},
   "outputs": [],
   "source": [
    "arr = np.array([[1.,2.,3.], [4.,5.,6.]])"
   ]
  },
  {
   "cell_type": "code",
   "execution_count": 119,
   "id": "6c804e13-3c4e-4e31-a245-a7e9ce6d0b21",
   "metadata": {},
   "outputs": [
    {
     "data": {
      "text/plain": [
       "array([[1., 2., 3.],\n",
       "       [4., 5., 6.]])"
      ]
     },
     "execution_count": 119,
     "metadata": {},
     "output_type": "execute_result"
    }
   ],
   "source": [
    "arr"
   ]
  },
  {
   "cell_type": "code",
   "execution_count": 120,
   "id": "e7631117-4719-4abe-ab73-d2d7982b4665",
   "metadata": {},
   "outputs": [
    {
     "data": {
      "text/plain": [
       "array([[ 1.,  4.,  9.],\n",
       "       [16., 25., 36.]])"
      ]
     },
     "execution_count": 120,
     "metadata": {},
     "output_type": "execute_result"
    }
   ],
   "source": [
    "arr*arr"
   ]
  },
  {
   "cell_type": "code",
   "execution_count": 121,
   "id": "a5ee453e-b6dc-44db-82cd-8b05eb870a88",
   "metadata": {},
   "outputs": [
    {
     "data": {
      "text/plain": [
       "array([[0., 0., 0.],\n",
       "       [0., 0., 0.]])"
      ]
     },
     "execution_count": 121,
     "metadata": {},
     "output_type": "execute_result"
    }
   ],
   "source": [
    "arr - arr"
   ]
  },
  {
   "cell_type": "markdown",
   "id": "a513588a-d1ad-4f8f-aa1e-84d9504244ce",
   "metadata": {},
   "source": [
    "스칼라 인자가 포함된 산술 연산의 경우 배열 내의 모든 원소에 스칼라 인자가 적용됨"
   ]
  },
  {
   "cell_type": "code",
   "execution_count": 122,
   "id": "4d3b584c-edb9-4956-80e2-3925e04a83a2",
   "metadata": {},
   "outputs": [
    {
     "data": {
      "text/plain": [
       "array([[1.        , 0.5       , 0.33333333],\n",
       "       [0.25      , 0.2       , 0.16666667]])"
      ]
     },
     "execution_count": 122,
     "metadata": {},
     "output_type": "execute_result"
    }
   ],
   "source": [
    "1/ arr"
   ]
  },
  {
   "cell_type": "code",
   "execution_count": 123,
   "id": "fbb9972e-2cef-4600-8e6f-dcdc7e6d3834",
   "metadata": {},
   "outputs": [
    {
     "data": {
      "text/plain": [
       "array([[1.        , 1.41421356, 1.73205081],\n",
       "       [2.        , 2.23606798, 2.44948974]])"
      ]
     },
     "execution_count": 123,
     "metadata": {},
     "output_type": "execute_result"
    }
   ],
   "source": [
    "arr ** 0.5"
   ]
  },
  {
   "cell_type": "markdown",
   "id": "d88db7fc-b3ff-49c2-a7bf-17e4cea0c3ae",
   "metadata": {},
   "source": [
    "같은 크기를 가지는 배열 간의 비교 연산은 불리언 배열을 반환"
   ]
  },
  {
   "cell_type": "code",
   "execution_count": 125,
   "id": "2f41ca55-5e23-4902-a70c-0bd4a321c736",
   "metadata": {},
   "outputs": [],
   "source": [
    "arr2 = np.array([[0.,4.,1.],[7.,2.,12.]])"
   ]
  },
  {
   "cell_type": "code",
   "execution_count": 126,
   "id": "cdc4012f-6eca-416a-96b1-928e66150b36",
   "metadata": {},
   "outputs": [
    {
     "data": {
      "text/plain": [
       "array([[ 0.,  4.,  1.],\n",
       "       [ 7.,  2., 12.]])"
      ]
     },
     "execution_count": 126,
     "metadata": {},
     "output_type": "execute_result"
    }
   ],
   "source": [
    "arr2"
   ]
  },
  {
   "cell_type": "code",
   "execution_count": 127,
   "id": "66a21dd7-2192-4922-9ae2-a730b7b82747",
   "metadata": {},
   "outputs": [
    {
     "data": {
      "text/plain": [
       "array([[False,  True, False],\n",
       "       [ True, False,  True]])"
      ]
     },
     "execution_count": 127,
     "metadata": {},
     "output_type": "execute_result"
    }
   ],
   "source": [
    "arr2>arr"
   ]
  },
  {
   "cell_type": "markdown",
   "id": "f0ff3430-56ad-410a-8b7c-c9c1e941c921",
   "metadata": {},
   "source": [
    "***브로드캐스팅(broadcasting)*** : 크기가 다른 배열 간의 연산"
   ]
  },
  {
   "cell_type": "markdown",
   "id": "6b8fc63c-14aa-4907-83f4-ed52de537960",
   "metadata": {},
   "source": [
    "### 4.1.4 색인과 슬라이싱 기초"
   ]
  },
  {
   "cell_type": "code",
   "execution_count": 128,
   "id": "ed669c71-e88e-4227-887e-a051b3ccb5ba",
   "metadata": {},
   "outputs": [],
   "source": [
    "arr = np.arange(10)"
   ]
  },
  {
   "cell_type": "code",
   "execution_count": 129,
   "id": "9e785bed-099e-45fb-8cc3-bf2575d56c40",
   "metadata": {},
   "outputs": [
    {
     "data": {
      "text/plain": [
       "array([0, 1, 2, 3, 4, 5, 6, 7, 8, 9])"
      ]
     },
     "execution_count": 129,
     "metadata": {},
     "output_type": "execute_result"
    }
   ],
   "source": [
    "arr"
   ]
  },
  {
   "cell_type": "code",
   "execution_count": 130,
   "id": "6b1f2a3c-be26-410d-8edc-51ccf6631499",
   "metadata": {},
   "outputs": [
    {
     "data": {
      "text/plain": [
       "5"
      ]
     },
     "execution_count": 130,
     "metadata": {},
     "output_type": "execute_result"
    }
   ],
   "source": [
    "arr[5]"
   ]
  },
  {
   "cell_type": "code",
   "execution_count": 131,
   "id": "ba96bbeb-d6e6-416c-b0ed-70c36d79351b",
   "metadata": {},
   "outputs": [
    {
     "data": {
      "text/plain": [
       "array([5, 6, 7])"
      ]
     },
     "execution_count": 131,
     "metadata": {},
     "output_type": "execute_result"
    }
   ],
   "source": [
    "arr[5:8]"
   ]
  },
  {
   "cell_type": "code",
   "execution_count": 132,
   "id": "749a4d10-93ad-4520-87f8-7bf982c922c4",
   "metadata": {},
   "outputs": [],
   "source": [
    "arr[5:8] = 12"
   ]
  },
  {
   "cell_type": "code",
   "execution_count": 133,
   "id": "fe04d320-af0e-462b-900e-548c4f325566",
   "metadata": {},
   "outputs": [
    {
     "data": {
      "text/plain": [
       "array([ 0,  1,  2,  3,  4, 12, 12, 12,  8,  9])"
      ]
     },
     "execution_count": 133,
     "metadata": {},
     "output_type": "execute_result"
    }
   ],
   "source": [
    "arr"
   ]
  },
  {
   "cell_type": "markdown",
   "id": "46c1d25b-e794-4a6f-ac7a-cebfb72d6527",
   "metadata": {},
   "source": [
    "위에서 볼 수 있듯이 arr[5:8] = 12처럼 배열 조각에 스칼라값을 대입하면 12가 선택 영역 전체로 전파(또는 ***브로드캐스팅)됨.<br>\n",
    "리스트와의 중요한 차이점은 배열 조각은 원본 배열의 ***뷰***라는 점<br>\n",
    "즉, 데이터는 복사되지 않고 뷰에 대한  변경은 그대로 원본 배열에 반영됨"
   ]
  },
  {
   "cell_type": "markdown",
   "id": "4523009a-1ea5-4d44-922f-6b9072035877",
   "metadata": {},
   "source": [
    "이에 대한 예제로 먼저 arr 배열의 슬라이스를 생성해보자"
   ]
  },
  {
   "cell_type": "code",
   "execution_count": 134,
   "id": "de953d1d-95e2-4dc3-b8e8-4e5ebbe08983",
   "metadata": {},
   "outputs": [],
   "source": [
    "arr_slice = arr[5:8]"
   ]
  },
  {
   "cell_type": "code",
   "execution_count": 135,
   "id": "8459b199-3e33-4030-830c-8e55064bfe69",
   "metadata": {},
   "outputs": [
    {
     "data": {
      "text/plain": [
       "array([12, 12, 12])"
      ]
     },
     "execution_count": 135,
     "metadata": {},
     "output_type": "execute_result"
    }
   ],
   "source": [
    "arr_slice"
   ]
  },
  {
   "cell_type": "markdown",
   "id": "ef737e43-45bf-48ed-8af8-60f849ce664b",
   "metadata": {},
   "source": [
    "그리고 arr_slice의 값은 변경하면 원래 배열인 arr의 값도 바뀐다"
   ]
  },
  {
   "cell_type": "code",
   "execution_count": 136,
   "id": "9cdac3d4-2b42-4edc-8e41-98007fb647b7",
   "metadata": {},
   "outputs": [],
   "source": [
    "arr_slice[1] = 12345"
   ]
  },
  {
   "cell_type": "code",
   "execution_count": 137,
   "id": "51f2a065-d28f-4ce4-a6e9-3835b6fd1097",
   "metadata": {},
   "outputs": [
    {
     "data": {
      "text/plain": [
       "array([    0,     1,     2,     3,     4,    12, 12345,    12,     8,\n",
       "           9])"
      ]
     },
     "execution_count": 137,
     "metadata": {},
     "output_type": "execute_result"
    }
   ],
   "source": [
    "arr"
   ]
  },
  {
   "cell_type": "markdown",
   "id": "e6afed8e-5ad3-4c25-9701-17aa323132e3",
   "metadata": {},
   "source": [
    "단순히 [:]로 슬라이스를 하면 배열의 모든 값을 할당"
   ]
  },
  {
   "cell_type": "code",
   "execution_count": 138,
   "id": "2d93545f-9530-4e06-9b97-cf07373382a5",
   "metadata": {},
   "outputs": [],
   "source": [
    "arr_slice[:] = 64"
   ]
  },
  {
   "cell_type": "code",
   "execution_count": 139,
   "id": "4b5bc51c-b1db-414c-b29a-17d982ae9073",
   "metadata": {},
   "outputs": [
    {
     "data": {
      "text/plain": [
       "array([ 0,  1,  2,  3,  4, 64, 64, 64,  8,  9])"
      ]
     },
     "execution_count": 139,
     "metadata": {},
     "output_type": "execute_result"
    }
   ],
   "source": [
    "arr"
   ]
  },
  {
   "cell_type": "markdown",
   "id": "bd980a46-d304-4868-888b-019bff3f9dc4",
   "metadata": {},
   "source": [
    "***CAUTION_*** 만약 뷰 대신 ndarray 슬라이스의 복사본을 얻고 싶다면 arr[5:8].copy()를 사용해 명시적으로 배열 복사"
   ]
  },
  {
   "cell_type": "markdown",
   "id": "9ab68ee1-b3f7-492e-bd5e-4f91ccefa347",
   "metadata": {},
   "source": [
    "다차원 배열을 다룰 때는 좀 더 많은 옵션이 있다. <br>\n",
    "2차원 배열에서 각 색인에 해당하는 요소는 스칼라값이 아니라 1차원 배열"
   ]
  },
  {
   "cell_type": "code",
   "execution_count": 140,
   "id": "e00bfd06-a8dc-49d6-9e5b-324db2516fb3",
   "metadata": {},
   "outputs": [],
   "source": [
    "arr2d = np.array([[1,2,3],[4,5,6],[7,8,9]])"
   ]
  },
  {
   "cell_type": "code",
   "execution_count": 142,
   "id": "699927dc-2c42-4369-b14c-a7cc3f5439b3",
   "metadata": {},
   "outputs": [
    {
     "data": {
      "text/plain": [
       "array([7, 8, 9])"
      ]
     },
     "execution_count": 142,
     "metadata": {},
     "output_type": "execute_result"
    }
   ],
   "source": [
    "arr2d[2]"
   ]
  },
  {
   "cell_type": "markdown",
   "id": "41099728-77b9-4ed6-a823-3994d08ecf50",
   "metadata": {},
   "source": [
    "따라서 개별 요소는 재귀적으로 접근해야 함<br>\n",
    "하지만 그렇게 하기는 귀찮기 때문에 콤마로 구분된 색인 리스트를 넘기면 됨. <br>\n",
    "그러므로 다음 두 표현은 동일"
   ]
  },
  {
   "cell_type": "code",
   "execution_count": 143,
   "id": "79a445f6-1458-4d6d-884b-506b7965a52e",
   "metadata": {},
   "outputs": [
    {
     "data": {
      "text/plain": [
       "3"
      ]
     },
     "execution_count": 143,
     "metadata": {},
     "output_type": "execute_result"
    }
   ],
   "source": [
    "arr2d[0][2]"
   ]
  },
  {
   "cell_type": "code",
   "execution_count": 144,
   "id": "7cf337a3-dafa-4ad9-8072-af2e168aa798",
   "metadata": {},
   "outputs": [
    {
     "data": {
      "text/plain": [
       "3"
      ]
     },
     "execution_count": 144,
     "metadata": {},
     "output_type": "execute_result"
    }
   ],
   "source": [
    "arr2d[0,2]"
   ]
  },
  {
   "cell_type": "markdown",
   "id": "04c55c30-6603-4621-a486-d571863a1f6f",
   "metadata": {},
   "source": [
    "다차원 배열에서 마지막 색인을 생략하면 반환되는 객체는 상위 차원의 데이터를 포함하고 있는 한 차원 낮은 ndarray가 됨<br>\n",
    "2x2x3 크기의 배열 arr3d가 있다면"
   ]
  },
  {
   "cell_type": "code",
   "execution_count": 145,
   "id": "c32ef3ed-c1ce-4ed2-b0ff-32c5e1b57f3d",
   "metadata": {},
   "outputs": [],
   "source": [
    "arr3d = np.array([[[1,2,3],[4,5,6]],[[7,8,9],[10,11,12]]])"
   ]
  },
  {
   "cell_type": "code",
   "execution_count": 146,
   "id": "d09aea08-d5bc-4bf2-972b-5846aaea4c2c",
   "metadata": {},
   "outputs": [
    {
     "data": {
      "text/plain": [
       "array([[[ 1,  2,  3],\n",
       "        [ 4,  5,  6]],\n",
       "\n",
       "       [[ 7,  8,  9],\n",
       "        [10, 11, 12]]])"
      ]
     },
     "execution_count": 146,
     "metadata": {},
     "output_type": "execute_result"
    }
   ],
   "source": [
    "arr3d"
   ]
  },
  {
   "cell_type": "markdown",
   "id": "0a21f703-1621-4ed3-827f-2c039e4ddeea",
   "metadata": {},
   "source": [
    "arr3d[0]은 2x3 크기의 배열"
   ]
  },
  {
   "cell_type": "code",
   "execution_count": 147,
   "id": "6f63b732-b25d-44ac-914b-2ad1306981b2",
   "metadata": {},
   "outputs": [
    {
     "data": {
      "text/plain": [
       "array([[1, 2, 3],\n",
       "       [4, 5, 6]])"
      ]
     },
     "execution_count": 147,
     "metadata": {},
     "output_type": "execute_result"
    }
   ],
   "source": [
    "arr3d[0]"
   ]
  },
  {
   "cell_type": "markdown",
   "id": "a38e05d5-3880-4761-9a22-cad82f3491a9",
   "metadata": {},
   "source": [
    "arr3d[0]에는 스칼라값과 배열 모두 대입 가능"
   ]
  },
  {
   "cell_type": "code",
   "execution_count": 148,
   "id": "514d35b3-cd3a-47a5-8d14-2a19f2da6921",
   "metadata": {},
   "outputs": [],
   "source": [
    "old_values = arr3d[0].copy()"
   ]
  },
  {
   "cell_type": "code",
   "execution_count": 149,
   "id": "01387e88-8c20-4be4-b52d-f8ea49f0dbe9",
   "metadata": {},
   "outputs": [],
   "source": [
    "arr3d[0] = 42"
   ]
  },
  {
   "cell_type": "code",
   "execution_count": 150,
   "id": "51abc0e1-8b20-47ac-832d-55831101c8ef",
   "metadata": {},
   "outputs": [
    {
     "data": {
      "text/plain": [
       "array([[[42, 42, 42],\n",
       "        [42, 42, 42]],\n",
       "\n",
       "       [[ 7,  8,  9],\n",
       "        [10, 11, 12]]])"
      ]
     },
     "execution_count": 150,
     "metadata": {},
     "output_type": "execute_result"
    }
   ],
   "source": [
    "arr3d"
   ]
  },
  {
   "cell_type": "code",
   "execution_count": 151,
   "id": "5b8af71f-fd37-4e5b-8ecc-7c0b9e26771f",
   "metadata": {},
   "outputs": [],
   "source": [
    "arr3d[0] = old_values"
   ]
  },
  {
   "cell_type": "code",
   "execution_count": 152,
   "id": "29eecd17-9a5b-46fe-8c80-c904d5c15b24",
   "metadata": {},
   "outputs": [
    {
     "data": {
      "text/plain": [
       "array([[[ 1,  2,  3],\n",
       "        [ 4,  5,  6]],\n",
       "\n",
       "       [[ 7,  8,  9],\n",
       "        [10, 11, 12]]])"
      ]
     },
     "execution_count": 152,
     "metadata": {},
     "output_type": "execute_result"
    }
   ],
   "source": [
    "arr3d"
   ]
  },
  {
   "cell_type": "markdown",
   "id": "ae88aac4-dc20-45c7-8236-82963223938b",
   "metadata": {},
   "source": [
    "이런 식으로 arr3d[1,0]은 색인되는 1차원 배열과 그 값을 반환"
   ]
  },
  {
   "cell_type": "code",
   "execution_count": 153,
   "id": "74004943-6f06-4348-9511-92566724f025",
   "metadata": {},
   "outputs": [
    {
     "data": {
      "text/plain": [
       "array([7, 8, 9])"
      ]
     },
     "execution_count": 153,
     "metadata": {},
     "output_type": "execute_result"
    }
   ],
   "source": [
    "arr3d[1,0]"
   ]
  },
  {
   "cell_type": "markdown",
   "id": "1163f73c-e44c-4fc3-84e1-5c87ee05b070",
   "metadata": {},
   "source": [
    "이 표현은 다음처럼 두 번에 걸쳐 인덱싱한 결과와 동일"
   ]
  },
  {
   "cell_type": "code",
   "execution_count": 154,
   "id": "9122cd75-3001-4cc8-b3ad-82903db5817c",
   "metadata": {},
   "outputs": [],
   "source": [
    "x = arr3d[1]"
   ]
  },
  {
   "cell_type": "code",
   "execution_count": 155,
   "id": "7e2a94e8-1719-446c-9eb1-863e7b0fb5a0",
   "metadata": {},
   "outputs": [
    {
     "data": {
      "text/plain": [
       "array([[ 7,  8,  9],\n",
       "       [10, 11, 12]])"
      ]
     },
     "execution_count": 155,
     "metadata": {},
     "output_type": "execute_result"
    }
   ],
   "source": [
    "x"
   ]
  },
  {
   "cell_type": "code",
   "execution_count": 156,
   "id": "8884de7f-e505-4fcd-b87b-c983fb3fa206",
   "metadata": {},
   "outputs": [
    {
     "data": {
      "text/plain": [
       "array([7, 8, 9])"
      ]
     },
     "execution_count": 156,
     "metadata": {},
     "output_type": "execute_result"
    }
   ],
   "source": [
    "x[0]"
   ]
  },
  {
   "cell_type": "markdown",
   "id": "818fea5f-7f06-4cb3-a382-d38d61dd4d76",
   "metadata": {},
   "source": [
    "여기서 살펴본 선택된 배열의 부분집합은 모두 배열의 뷰를 반환"
   ]
  },
  {
   "cell_type": "markdown",
   "id": "ae549272-2469-4bce-94fc-23211e6e8a10",
   "metadata": {},
   "source": [
    "#### 슬라이스로 선택하기"
   ]
  },
  {
   "cell_type": "markdown",
   "id": "e1202d24-90e5-4b9b-9dfd-c4b4d56c0bf5",
   "metadata": {},
   "source": [
    "파이썬의 리스트 같은 1차원 객체처럼 ndarray는 익숙한 문법으로 슬라이싱 가능"
   ]
  },
  {
   "cell_type": "code",
   "execution_count": 157,
   "id": "1b57fb13-c550-4765-a3f7-58e63edc5e04",
   "metadata": {},
   "outputs": [
    {
     "data": {
      "text/plain": [
       "array([ 0,  1,  2,  3,  4, 64, 64, 64,  8,  9])"
      ]
     },
     "execution_count": 157,
     "metadata": {},
     "output_type": "execute_result"
    }
   ],
   "source": [
    "arr"
   ]
  },
  {
   "cell_type": "code",
   "execution_count": 158,
   "id": "85c01e53-1c22-48d8-a40b-adbf0e274a30",
   "metadata": {},
   "outputs": [
    {
     "data": {
      "text/plain": [
       "array([ 1,  2,  3,  4, 64])"
      ]
     },
     "execution_count": 158,
     "metadata": {},
     "output_type": "execute_result"
    }
   ],
   "source": [
    "arr[1:6]"
   ]
  },
  {
   "cell_type": "markdown",
   "id": "30b29d82-73e5-4808-8871-ab27a39fd3c7",
   "metadata": {},
   "source": [
    "위에서 살펴본 arr2d를 생각해보자. 이 배열을 슬라이싱하는 방법은 조금 다르다."
   ]
  },
  {
   "cell_type": "code",
   "execution_count": 159,
   "id": "31fe0ba8-10de-4b66-a66c-d6dc5aaf96b4",
   "metadata": {},
   "outputs": [
    {
     "data": {
      "text/plain": [
       "array([[1, 2, 3],\n",
       "       [4, 5, 6],\n",
       "       [7, 8, 9]])"
      ]
     },
     "execution_count": 159,
     "metadata": {},
     "output_type": "execute_result"
    }
   ],
   "source": [
    "arr2d"
   ]
  },
  {
   "cell_type": "code",
   "execution_count": 160,
   "id": "dc05a305-fbbd-418f-947a-d0fd5b6fdc41",
   "metadata": {},
   "outputs": [
    {
     "data": {
      "text/plain": [
       "array([[1, 2, 3],\n",
       "       [4, 5, 6]])"
      ]
     },
     "execution_count": 160,
     "metadata": {},
     "output_type": "execute_result"
    }
   ],
   "source": [
    "arr2d[:2]"
   ]
  },
  {
   "cell_type": "markdown",
   "id": "310505dc-f90a-4032-9943-aa6768c9143f",
   "metadata": {},
   "source": [
    "확인한 것처럼 첫 번째 축인 0번 축을 기준으로 슬라이싱됨.<br>\n",
    "따라서 슬라이스는 축을 따라 선택 영역 내의 요소를 선택<br>\n",
    "arr2d[:2]는 'arr2d의 시작부터 두 번째 로우까지의 선택'이라고 이해하면 쉽다"
   ]
  },
  {
   "cell_type": "markdown",
   "id": "0b1df99f-9e01-4078-9ece-6ad175a4a81b",
   "metadata": {},
   "source": [
    "색인을 여러개 넘겨서 다차원을 슬라이싱하는 것도 가능"
   ]
  },
  {
   "cell_type": "code",
   "execution_count": 161,
   "id": "06d24cfc-852d-4e0c-a3b2-57ad590886d2",
   "metadata": {},
   "outputs": [
    {
     "data": {
      "text/plain": [
       "array([[2, 3],\n",
       "       [5, 6]])"
      ]
     },
     "execution_count": 161,
     "metadata": {},
     "output_type": "execute_result"
    }
   ],
   "source": [
    "arr2d[:2,1:]"
   ]
  },
  {
   "cell_type": "markdown",
   "id": "ff8de86f-ea60-40db-904d-be05f2d8349b",
   "metadata": {},
   "source": [
    "이렇게 슬라이싱하면 항상 같은 차원의 배열에 대한 뷰를 얻게 됨<br>\n",
    "정수 색인과 슬라이스를 함께 사용해 한 차원 낮은 슬라이스를 얻을 수 있음"
   ]
  },
  {
   "cell_type": "markdown",
   "id": "085c9e17-c202-40e5-8de1-1bf688a89389",
   "metadata": {},
   "source": [
    "예를 들어 두 번째 로우에서 처음 두 컬럼만 선택하고 싶다면 아래처럼 하면 됨"
   ]
  },
  {
   "cell_type": "code",
   "execution_count": 162,
   "id": "27c17238-1b80-458c-b4d5-1c75cf741509",
   "metadata": {},
   "outputs": [
    {
     "data": {
      "text/plain": [
       "array([4, 5])"
      ]
     },
     "execution_count": 162,
     "metadata": {},
     "output_type": "execute_result"
    }
   ],
   "source": [
    "arr2d[1,:2]"
   ]
  },
  {
   "cell_type": "markdown",
   "id": "2df35a6b-73e6-4317-9fa4-2cab02aa178e",
   "metadata": {},
   "source": [
    "이와 유사하게 처음 두 로우에서 세 번째 컬럼만 선택하고 싶다면 아래처럼 하면 된다"
   ]
  },
  {
   "cell_type": "code",
   "execution_count": 163,
   "id": "ed4d7457-aa3e-4b91-b9d0-db3728161467",
   "metadata": {},
   "outputs": [
    {
     "data": {
      "text/plain": [
       "array([3, 6])"
      ]
     },
     "execution_count": 163,
     "metadata": {},
     "output_type": "execute_result"
    }
   ],
   "source": [
    "arr2d[:2, 2]"
   ]
  },
  {
   "cell_type": "code",
   "execution_count": 164,
   "id": "ce0d2635-d56c-4b55-89bd-4ec0399100a7",
   "metadata": {},
   "outputs": [
    {
     "data": {
      "text/plain": [
       "array([[1],\n",
       "       [4],\n",
       "       [7]])"
      ]
     },
     "execution_count": 164,
     "metadata": {},
     "output_type": "execute_result"
    }
   ],
   "source": [
    "arr2d[:, :1]"
   ]
  },
  {
   "cell_type": "markdown",
   "id": "094da0cd-f24a-46fb-b782-675c9bf6bb6c",
   "metadata": {},
   "source": [
    "물론 슬라이싱 구문에 값을 대입하면 선택 영역 전체에 값이 대입됨"
   ]
  },
  {
   "cell_type": "code",
   "execution_count": 165,
   "id": "46c2f651-a070-4934-a2c8-0f7aa16e9f9c",
   "metadata": {},
   "outputs": [],
   "source": [
    "arr2d[:2, 1:] = 0"
   ]
  },
  {
   "cell_type": "code",
   "execution_count": 166,
   "id": "f0be06ea-b53d-45d1-82e2-ef8d9869c1d4",
   "metadata": {},
   "outputs": [
    {
     "data": {
      "text/plain": [
       "array([[1, 0, 0],\n",
       "       [4, 0, 0],\n",
       "       [7, 8, 9]])"
      ]
     },
     "execution_count": 166,
     "metadata": {},
     "output_type": "execute_result"
    }
   ],
   "source": [
    "arr2d"
   ]
  },
  {
   "cell_type": "markdown",
   "id": "2da7482a-f983-4fc5-b2da-bb21dffb3d98",
   "metadata": {},
   "source": [
    "### 4.1.5 불리언값으로 선택하기"
   ]
  },
  {
   "cell_type": "markdown",
   "id": "bdec77e0-f150-405d-97dd-fbb5a68d5e4a",
   "metadata": {},
   "source": [
    "중복된 이름이 포함된 배열이 있다고 하자. 그리고 numpy.random 모듈에 있는 randn 함수를 사용해서 임의의 표준 정규 분포 데이터를 생성하자."
   ]
  },
  {
   "cell_type": "code",
   "execution_count": 167,
   "id": "d5f48966-1fab-44d3-9735-547c7d96dc5b",
   "metadata": {},
   "outputs": [],
   "source": [
    "names = np.array(['Bob', 'Joe', 'Will', 'Bob', 'Will', 'Joe', 'Joe'])"
   ]
  },
  {
   "cell_type": "code",
   "execution_count": 168,
   "id": "4ae7dfd1-9a3f-4966-a89b-4cfbc9bdcd1b",
   "metadata": {},
   "outputs": [],
   "source": [
    "data = np.random.randn(7,4)"
   ]
  },
  {
   "cell_type": "markdown",
   "id": "d18e2c77-3322-4700-99bd-a8458dc3c72c",
   "metadata": {},
   "source": [
    "***np.random.rand(p,q)***\n",
    "- 0부터 1사이 균일 분포 난수를 matrix array(p,q)로 생성"
   ]
  },
  {
   "cell_type": "code",
   "execution_count": 169,
   "id": "578bf682-1910-4847-93e6-aad2a4c72fc3",
   "metadata": {},
   "outputs": [
    {
     "data": {
      "text/plain": [
       "array(['Bob', 'Joe', 'Will', 'Bob', 'Will', 'Joe', 'Joe'], dtype='<U4')"
      ]
     },
     "execution_count": 169,
     "metadata": {},
     "output_type": "execute_result"
    }
   ],
   "source": [
    "names"
   ]
  },
  {
   "cell_type": "code",
   "execution_count": 170,
   "id": "8ee062cc-6dac-4da4-af4f-c25f0b7bc468",
   "metadata": {},
   "outputs": [
    {
     "data": {
      "text/plain": [
       "array([[ 0.18951032,  1.21690048,  0.63734159, -1.06046974],\n",
       "       [ 0.356682  ,  1.14872329, -0.28776413,  1.46140407],\n",
       "       [ 0.21383922, -0.32892646, -1.68079194, -0.4015384 ],\n",
       "       [-1.59320341, -1.29902275, -0.64484517,  0.5160515 ],\n",
       "       [ 0.9041314 ,  0.473549  , -0.05508576, -1.12919222],\n",
       "       [-0.6558659 , -0.14091587,  0.18223913, -0.83400118],\n",
       "       [ 0.77100014,  0.45772997,  0.37869548, -1.04222926]])"
      ]
     },
     "execution_count": 170,
     "metadata": {},
     "output_type": "execute_result"
    }
   ],
   "source": [
    "data"
   ]
  },
  {
   "cell_type": "markdown",
   "id": "75bda9b3-40ac-4960-bc4a-07d7fe681ffc",
   "metadata": {},
   "source": [
    "각각의 이름은 data 배열의 각 로우에 대응한다고 가정.<br>\n",
    "만약 전체 로우에서 'Bob'과 같은 이름을 선택하려면 산술 연산자 마찬가지로 배열에 대한 비교 연산(== 같은)도 벡터화되므로<br>\n",
    "names를 'Bob' 문자열과 비교하면 불리언 배열을 반환"
   ]
  },
  {
   "cell_type": "code",
   "execution_count": 171,
   "id": "dc3033ed-ac8d-449a-b8e3-6b850c84ae4b",
   "metadata": {},
   "outputs": [
    {
     "data": {
      "text/plain": [
       "array([ True, False, False,  True, False, False, False])"
      ]
     },
     "execution_count": 171,
     "metadata": {},
     "output_type": "execute_result"
    }
   ],
   "source": [
    "names == 'Bob'"
   ]
  },
  {
   "cell_type": "markdown",
   "id": "75c7212c-c2ea-4b6c-82ac-c72ec0c847db",
   "metadata": {},
   "source": [
    "이 불리언 배열은 배열의 색인으로 사용 가능"
   ]
  },
  {
   "cell_type": "code",
   "execution_count": 172,
   "id": "0365f404-d791-429b-ad3b-3e10a733f40a",
   "metadata": {},
   "outputs": [
    {
     "data": {
      "text/plain": [
       "array([[ 0.18951032,  1.21690048,  0.63734159, -1.06046974],\n",
       "       [-1.59320341, -1.29902275, -0.64484517,  0.5160515 ]])"
      ]
     },
     "execution_count": 172,
     "metadata": {},
     "output_type": "execute_result"
    }
   ],
   "source": [
    "data[names == 'Bob']"
   ]
  },
  {
   "cell_type": "markdown",
   "id": "d37d3e61-8673-4079-9be7-ae50b7111335",
   "metadata": {},
   "source": [
    "불리언 배열은 반드시 색인하려는 축의 길이와 동일한 길이를 가져야 함.<br>\n",
    "불리언 배열 색인도 슬라이스나 요소를 선택하는데 짜 맞출 수 있음"
   ]
  },
  {
   "cell_type": "code",
   "execution_count": null,
   "id": "67608566-990a-4179-a9e6-100c60b2b842",
   "metadata": {},
   "outputs": [],
   "source": []
  }
 ],
 "metadata": {
  "kernelspec": {
   "display_name": "Python 3 (ipykernel)",
   "language": "python",
   "name": "python3"
  },
  "language_info": {
   "codemirror_mode": {
    "name": "ipython",
    "version": 3
   },
   "file_extension": ".py",
   "mimetype": "text/x-python",
   "name": "python",
   "nbconvert_exporter": "python",
   "pygments_lexer": "ipython3",
   "version": "3.10.9"
  }
 },
 "nbformat": 4,
 "nbformat_minor": 5
}
